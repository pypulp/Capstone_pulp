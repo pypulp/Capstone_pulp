{
 "cells": [
  {
   "cell_type": "markdown",
   "id": "131fd116",
   "metadata": {},
   "source": [
    "In cryptography, a Caesar cipher or the shift cipher is one of the simplest and most widely known encryption techniques.Each letter in the plaintext is replaced by a letter some fixed number of positions down the alphabet.\n",
    "\n",
    "https://en.wikipedia.org/wiki/Caesar_cipher"
   ]
  },
  {
   "cell_type": "code",
   "execution_count": 4,
   "id": "f2bbbce9",
   "metadata": {},
   "outputs": [
    {
     "name": "stdout",
     "output_type": "stream",
     "text": [
      "Type 'encode' to encrypt, type 'decode' to decrypt:\n",
      "decode\n",
      "Type your message:\n",
      "rjyfqqnhf\n",
      "Type the shift number:\n",
      "5\n",
      "metallica\n"
     ]
    }
   ],
   "source": [
    "alphab_list = ['a', 'b', 'c', 'd', 'e', 'f', 'g', 'h', 'i', 'j', 'k', 'l', 'm', 'n', 'o', 'p', 'q', 'r', 's', 't', 'u', 'v',\n",
    "            'w', 'x', 'y', 'z','a', 'b', 'c', 'd', 'e', 'f', 'g', 'h', 'i', 'j', 'k', 'l', 'm', 'n', 'o', 'p', 'q', 'r',\n",
    "            's', 't', 'u', 'v', 'w', 'x', 'y', 'z']\n",
    "\n",
    "direction = input(\"Type 'encode' to encrypt, type 'decode' to decrypt:\\n\")\n",
    "text = input(\"Type your message:\\n\").lower()\n",
    "shift = int(input(\"Type the shift number:\\n\"))\n",
    "\n",
    "def encrypt(plain_text, shift_no):\n",
    "    cipher_txt = \" \"\n",
    "    for letter in plain_text:\n",
    "        position=alphab_list.index(letter)\n",
    "        new_pos = position + shift_no\n",
    "        new_letter=alphab_list[new_pos]\n",
    "        cipher_txt+=new_letter    \n",
    "    print(cipher_txt)\n",
    "def decrypt(cipher_txt,shift_num):\n",
    "    plain_txt=\"\"\n",
    "    for letter in cipher_txt:\n",
    "        position=alphab_list.index(letter)\n",
    "        new_pos = position - shift_num\n",
    "        new_letter=alphab_list[new_pos]\n",
    "        plain_txt +=new_letter\n",
    "    print(plain_txt)\n",
    "\n",
    "if direction == \"encode\":\n",
    "    encrypt(plain_text=text,shift_no=shift)\n",
    "elif direction ==\"decode\":\n",
    "    decrypt(cipher_txt=text,shift_num=shift)\n",
    "else:\n",
    "    print(\"Brutus Wants to talk\")\n"
   ]
  },
  {
   "cell_type": "markdown",
   "id": "f50e57ea",
   "metadata": {},
   "source": [
    "**There are many ways to do the above program. \n",
    "- Both functions \"encrypt\" and \"decrypt\" can merged as single function,with shift number being set as negative for decrypt.\n",
    "- Above is a longer and may be inefficient, is more for clarity and easy understanding."
   ]
  }
 ],
 "metadata": {
  "kernelspec": {
   "display_name": "Python 3",
   "language": "python",
   "name": "python3"
  },
  "language_info": {
   "codemirror_mode": {
    "name": "ipython",
    "version": 3
   },
   "file_extension": ".py",
   "mimetype": "text/x-python",
   "name": "python",
   "nbconvert_exporter": "python",
   "pygments_lexer": "ipython3",
   "version": "3.8.8"
  }
 },
 "nbformat": 4,
 "nbformat_minor": 5
}

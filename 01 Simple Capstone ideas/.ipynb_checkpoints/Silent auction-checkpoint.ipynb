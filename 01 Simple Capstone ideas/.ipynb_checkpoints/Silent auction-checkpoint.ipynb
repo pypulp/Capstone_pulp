{
 "cells": [
  {
   "cell_type": "markdown",
   "id": "8255a88f",
   "metadata": {},
   "source": [
    "**Silent Auction collects the name of the bidders and their bids, till bidding is closed. \n",
    "Part of \"100 Days of Python Course\". Here done in Jupyter Notebook**"
   ]
  },
  {
   "cell_type": "code",
   "execution_count": 1,
   "id": "e3296cbe",
   "metadata": {},
   "outputs": [],
   "source": [
    "from IPython.display import clear_output\n",
    "clear_output()"
   ]
  },
  {
   "cell_type": "code",
   "execution_count": 6,
   "id": "e3ece66c",
   "metadata": {},
   "outputs": [
    {
     "name": "stdout",
     "output_type": "stream",
     "text": [
      "What is your name?: Ethan\n",
      "What is your bid?: $35\n",
      "Are there any other bidders? Type 'yes or 'no'.\n",
      "no\n",
      "The winner is Ethan with a bid of $35\n"
     ]
    }
   ],
   "source": [
    "bids = {}\n",
    "bidding_finished = False\n",
    "\n",
    "def highest_bidder(bidding_record):\n",
    "  highest_bid = 0\n",
    "  winner = \"\"\n",
    "  \n",
    "  for bidder in bidding_record:\n",
    "    bid_amount = bidding_record[bidder]\n",
    "    if bid_amount > highest_bid: \n",
    "      highest_bid = bid_amount\n",
    "      winner = bidder\n",
    "  print(f\"The winner is {winner} with a bid of ${highest_bid}\")\n",
    "\n",
    "while not bidding_finished:\n",
    "  name = input(\"What is your name?: \")\n",
    "  price = int(input(\"What is your bid?: $\"))\n",
    "  bids[name] = price\n",
    "\n",
    "  should_continue = input(\"Are there any other bidders? Type 'yes or 'no'.\\n\")\n",
    "  if should_continue == \"no\":\n",
    "    bidding_finished = True\n",
    "    highest_bidder(bids)\n",
    "  elif should_continue == \"yes\":\n",
    "    clear_output()"
   ]
  },
  {
   "cell_type": "code",
   "execution_count": 7,
   "id": "de4364c6",
   "metadata": {},
   "outputs": [
    {
     "data": {
      "text/plain": [
       "{'Jack': 15, 'Ryan': 20, 'Ethan': 35}"
      ]
     },
     "execution_count": 7,
     "metadata": {},
     "output_type": "execute_result"
    }
   ],
   "source": [
    "bids"
   ]
  }
 ],
 "metadata": {
  "kernelspec": {
   "display_name": "Python 3",
   "language": "python",
   "name": "python3"
  },
  "language_info": {
   "codemirror_mode": {
    "name": "ipython",
    "version": 3
   },
   "file_extension": ".py",
   "mimetype": "text/x-python",
   "name": "python",
   "nbconvert_exporter": "python",
   "pygments_lexer": "ipython3",
   "version": "3.8.8"
  }
 },
 "nbformat": 4,
 "nbformat_minor": 5
}

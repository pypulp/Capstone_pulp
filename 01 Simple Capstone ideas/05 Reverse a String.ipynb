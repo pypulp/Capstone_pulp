{
 "cells": [
  {
   "cell_type": "markdown",
   "id": "448f3700",
   "metadata": {},
   "source": [
    "# Reverse a String "
   ]
  },
  {
   "cell_type": "code",
   "execution_count": 1,
   "id": "54e945f3",
   "metadata": {},
   "outputs": [],
   "source": [
    "strng = \"Python\""
   ]
  },
  {
   "cell_type": "markdown",
   "id": "92da5576",
   "metadata": {},
   "source": [
    "### method 1"
   ]
  },
  {
   "cell_type": "code",
   "execution_count": 2,
   "id": "24f32d21",
   "metadata": {},
   "outputs": [
    {
     "data": {
      "text/plain": [
       "'nohtyP'"
      ]
     },
     "execution_count": 2,
     "metadata": {},
     "output_type": "execute_result"
    }
   ],
   "source": [
    "strng[::-1]"
   ]
  },
  {
   "cell_type": "markdown",
   "id": "bdb4e416",
   "metadata": {},
   "source": [
    "### method 2 "
   ]
  },
  {
   "cell_type": "code",
   "execution_count": 3,
   "id": "f3cbbbcf",
   "metadata": {},
   "outputs": [
    {
     "data": {
      "text/plain": [
       "'nohtyP'"
      ]
     },
     "execution_count": 3,
     "metadata": {},
     "output_type": "execute_result"
    }
   ],
   "source": [
    "\"\".join(reversed(strng))"
   ]
  },
  {
   "cell_type": "markdown",
   "id": "b534586f",
   "metadata": {},
   "source": [
    "### method 3"
   ]
  },
  {
   "cell_type": "code",
   "execution_count": 5,
   "id": "0caedd67",
   "metadata": {},
   "outputs": [
    {
     "name": "stdout",
     "output_type": "stream",
     "text": [
      "nohtyP\n"
     ]
    }
   ],
   "source": [
    "new_str=\"\"                    \n",
    "\n",
    "for i in strng:\n",
    "    new_str = i + new_str \n",
    "print(new_str)\n"
   ]
  },
  {
   "cell_type": "markdown",
   "id": "c0c7b414",
   "metadata": {},
   "source": [
    "# Reverse a sentence "
   ]
  },
  {
   "cell_type": "code",
   "execution_count": 12,
   "id": "a0e086fb",
   "metadata": {},
   "outputs": [
    {
     "name": "stdout",
     "output_type": "stream",
     "text": [
      "It’s not magic, it’s talent and sweat\n",
      "sweat and talent it’s magic, not It’s\n"
     ]
    }
   ],
   "source": [
    "strng1 = input()\n",
    "def rev_string(strng1):                             \n",
    "    \n",
    "    strng2=strng1.split()\n",
    "        \n",
    "    lst1=strng2[::-1]\n",
    "    rev_str=\" \".join(lst1)\n",
    "    print(rev_str)\n",
    "     \n",
    "rev_string(strng1)"
   ]
  },
  {
   "cell_type": "markdown",
   "id": "3937576e",
   "metadata": {},
   "source": [
    "## Reverse a sentence(including strings)"
   ]
  },
  {
   "cell_type": "code",
   "execution_count": 19,
   "id": "00e334af",
   "metadata": {},
   "outputs": [
    {
     "name": "stdout",
     "output_type": "stream",
     "text": [
      "when they take power, our digital overlords will punish those of us who did not help them get there\n",
      "ereht teg meht pleh ton did ohw su fo esoht hsinup lliw sdrolrevo latigid ruo ,rewop ekat yeht nehw\n"
     ]
    }
   ],
   "source": [
    "strng2 = input()\n",
    "def rev_string(strng2):\n",
    "    \n",
    "    strng2=strng2.split()\n",
    "    lst=[]\n",
    "    for item in strng2:\n",
    "        item=item[::-1]\n",
    "        lst.append(item)\n",
    "        \n",
    "    lst1=lst[::-1]\n",
    "    \n",
    "    rev_str=\" \".join(lst1)\n",
    "    print(rev_str)\n",
    "    \n",
    "rev_string(strng2)"
   ]
  }
 ],
 "metadata": {
  "kernelspec": {
   "display_name": "Python 3",
   "language": "python",
   "name": "python3"
  },
  "language_info": {
   "codemirror_mode": {
    "name": "ipython",
    "version": 3
   },
   "file_extension": ".py",
   "mimetype": "text/x-python",
   "name": "python",
   "nbconvert_exporter": "python",
   "pygments_lexer": "ipython3",
   "version": "3.8.8"
  }
 },
 "nbformat": 4,
 "nbformat_minor": 5
}

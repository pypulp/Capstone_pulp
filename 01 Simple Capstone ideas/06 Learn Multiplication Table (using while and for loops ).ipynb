{
 "cells": [
  {
   "cell_type": "markdown",
   "id": "05d1c513",
   "metadata": {},
   "source": [
    "# Learn Multiplication Table, using \"while\" loop"
   ]
  },
  {
   "cell_type": "code",
   "execution_count": 11,
   "id": "5f3edb86",
   "metadata": {},
   "outputs": [
    {
     "name": "stdout",
     "output_type": "stream",
     "text": [
      "Hello!!\n",
      "Which multiplication table do you want to learn today?\n",
      "7\n",
      "7 X 1  = 7\n",
      "7 X 2  = 14\n",
      "7 X 3  = 21\n",
      "7 X 4  = 28\n",
      "7 X 5  = 35\n",
      "7 X 6  = 42\n",
      "7 X 7  = 49\n",
      "7 X 8  = 56\n",
      "7 X 9  = 63\n",
      "7 X 10  = 70\n"
     ]
    }
   ],
   "source": [
    "print(\"Hello!!\")\n",
    "num=int(input(\"Which multiplication table do you want to learn today?\\n\"))\n",
    "i=0\n",
    "while i<10:\n",
    "    i+= 1\n",
    "    print(f\"{num} X {i}  = {i*num}\")"
   ]
  },
  {
   "cell_type": "markdown",
   "id": "e8c99dc6",
   "metadata": {},
   "source": [
    "# Learn Multiplication Table, using \"FOR\" loop"
   ]
  },
  {
   "cell_type": "code",
   "execution_count": 12,
   "id": "99ffa0ab",
   "metadata": {},
   "outputs": [
    {
     "name": "stdout",
     "output_type": "stream",
     "text": [
      "Which multiplication table do you want to learn today?\n",
      "8\n",
      "8 X 1  = 8\n",
      "8 X 2  = 16\n",
      "8 X 3  = 24\n",
      "8 X 4  = 32\n",
      "8 X 5  = 40\n",
      "8 X 6  = 48\n",
      "8 X 7  = 56\n",
      "8 X 8  = 64\n",
      "8 X 9  = 72\n",
      "8 X 10  = 80\n",
      "8 X 11  = 88\n"
     ]
    }
   ],
   "source": [
    "num=int(input(\"Which multiplication table do you want to learn today?\\n\"))\n",
    "i=0\n",
    "for i in range(0,11):\n",
    "    i+= 1\n",
    "    print(f\"{num} X {i}  = {i*num}\")"
   ]
  }
 ],
 "metadata": {
  "kernelspec": {
   "display_name": "Python 3",
   "language": "python",
   "name": "python3"
  },
  "language_info": {
   "codemirror_mode": {
    "name": "ipython",
    "version": 3
   },
   "file_extension": ".py",
   "mimetype": "text/x-python",
   "name": "python",
   "nbconvert_exporter": "python",
   "pygments_lexer": "ipython3",
   "version": "3.8.8"
  }
 },
 "nbformat": 4,
 "nbformat_minor": 5
}

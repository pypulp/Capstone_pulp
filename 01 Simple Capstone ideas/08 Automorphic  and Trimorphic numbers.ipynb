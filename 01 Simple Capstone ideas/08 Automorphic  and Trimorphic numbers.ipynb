{
 "cells": [
  {
   "cell_type": "markdown",
   "id": "5002bfaa",
   "metadata": {},
   "source": [
    "# Automorphic  & Trimorphic Numbers\n",
    "(sometimes referred to as a circular number) is a natural **number whose square \"ends\" in the same digits as the number itself.**\n",
    "\n",
    "For eg: if n =6, 6 squared is 36. Since 36 (square) ends with 6 (or n). It is an automorphic number"
   ]
  },
  {
   "cell_type": "markdown",
   "id": "b46a4303",
   "metadata": {},
   "source": [
    "en.wikipedia.org/wiki/Automorphic_number"
   ]
  },
  {
   "cell_type": "markdown",
   "id": "7dedd61b",
   "metadata": {},
   "source": [
    "### Return simple boolean check"
   ]
  },
  {
   "cell_type": "code",
   "execution_count": 1,
   "id": "f9112658",
   "metadata": {},
   "outputs": [],
   "source": [
    "def auto_morphic(num):\n",
    "    square = str(num**2) \n",
    "    return square[-len(str(num)):]== str(num) "
   ]
  },
  {
   "cell_type": "code",
   "execution_count": 2,
   "id": "c05e20c5",
   "metadata": {},
   "outputs": [
    {
     "data": {
      "text/plain": [
       "False"
      ]
     },
     "execution_count": 2,
     "metadata": {},
     "output_type": "execute_result"
    }
   ],
   "source": [
    "auto_morphic(10)"
   ]
  },
  {
   "cell_type": "code",
   "execution_count": 3,
   "id": "074933fe",
   "metadata": {},
   "outputs": [
    {
     "data": {
      "text/plain": [
       "True"
      ]
     },
     "execution_count": 3,
     "metadata": {},
     "output_type": "execute_result"
    }
   ],
   "source": [
    "auto_morphic(25)"
   ]
  },
  {
   "cell_type": "markdown",
   "id": "65b51f25",
   "metadata": {},
   "source": [
    "### To find all automorphic numbers in a given range"
   ]
  },
  {
   "cell_type": "code",
   "execution_count": 11,
   "id": "88bb2869",
   "metadata": {},
   "outputs": [
    {
     "name": "stdout",
     "output_type": "stream",
     "text": [
      "0\tsquared is :  0\n",
      "1\tsquared is :  1\n",
      "5\tsquared is :  25\n",
      "6\tsquared is :  36\n",
      "25\tsquared is :  625\n",
      "76\tsquared is :  5776\n",
      "376\tsquared is :  141376\n",
      "625\tsquared is :  390625\n",
      "9376\tsquared is :  87909376\n",
      "90625\tsquared is :  8212890625\n"
     ]
    }
   ],
   "source": [
    "for num in range(100000):\n",
    "    if str(num**2)[-len(str(num)):]== str(num):\n",
    "        print(f\"{num}\\tsquared is :  {num**2}\")"
   ]
  },
  {
   "attachments": {
    "image.png": {
     "image/png": "[encoded data removed]"
    }
   },
   "cell_type": "markdown",
   "id": "b5aeba62",
   "metadata": {},
   "source": [
    "## Trimorphic Number\n",
    "![image.png](attachment:image.png)\n",
    "\n",
    "Extending the same logic to cubes"
   ]
  },
  {
   "cell_type": "markdown",
   "id": "01baa6c2",
   "metadata": {},
   "source": [
    "### Boolean Check"
   ]
  },
  {
   "cell_type": "code",
   "execution_count": 14,
   "id": "4b7f6880",
   "metadata": {},
   "outputs": [],
   "source": [
    "def tri_morphic(num):\n",
    "    cube = str(num**3) \n",
    "    return cube[-len(str(num)):]== str(num) "
   ]
  },
  {
   "cell_type": "code",
   "execution_count": 15,
   "id": "e09dd337",
   "metadata": {},
   "outputs": [
    {
     "data": {
      "text/plain": [
       "True"
      ]
     },
     "execution_count": 15,
     "metadata": {},
     "output_type": "execute_result"
    }
   ],
   "source": [
    "tri_morphic(4)"
   ]
  },
  {
   "cell_type": "code",
   "execution_count": 16,
   "id": "2f784578",
   "metadata": {},
   "outputs": [
    {
     "data": {
      "text/plain": [
       "True"
      ]
     },
     "execution_count": 16,
     "metadata": {},
     "output_type": "execute_result"
    }
   ],
   "source": [
    "tri_morphic(5)"
   ]
  },
  {
   "cell_type": "code",
   "execution_count": 17,
   "id": "873fab94",
   "metadata": {},
   "outputs": [
    {
     "data": {
      "text/plain": [
       "False"
      ]
     },
     "execution_count": 17,
     "metadata": {},
     "output_type": "execute_result"
    }
   ],
   "source": [
    "tri_morphic(11)"
   ]
  },
  {
   "cell_type": "markdown",
   "id": "50632a0f",
   "metadata": {},
   "source": [
    "### Trimorphic numbers in a range"
   ]
  },
  {
   "cell_type": "code",
   "execution_count": 20,
   "id": "e944e4b0",
   "metadata": {},
   "outputs": [
    {
     "name": "stdout",
     "output_type": "stream",
     "text": [
      "0\tcubed is :  0\n",
      "1\tcubed is :  1\n",
      "4\tcubed is :  64\n",
      "5\tcubed is :  125\n",
      "6\tcubed is :  216\n",
      "9\tcubed is :  729\n",
      "24\tcubed is :  13824\n",
      "25\tcubed is :  15625\n",
      "49\tcubed is :  117649\n",
      "51\tcubed is :  132651\n",
      "75\tcubed is :  421875\n",
      "76\tcubed is :  438976\n",
      "99\tcubed is :  970299\n",
      "125\tcubed is :  1953125\n",
      "249\tcubed is :  15438249\n",
      "251\tcubed is :  15813251\n",
      "375\tcubed is :  52734375\n",
      "376\tcubed is :  53157376\n",
      "499\tcubed is :  124251499\n",
      "501\tcubed is :  125751501\n",
      "624\tcubed is :  242970624\n",
      "625\tcubed is :  244140625\n",
      "749\tcubed is :  420189749\n",
      "751\tcubed is :  423564751\n",
      "875\tcubed is :  669921875\n",
      "999\tcubed is :  997002999\n"
     ]
    }
   ],
   "source": [
    "for num in range(1000):\n",
    "    if str(num**3)[-len(str(num)):]== str(num):\n",
    "        print(f\"{num}\\tcubed is :  {num**3}\") # check last digits of cube"
   ]
  },
  {
   "cell_type": "code",
   "execution_count": null,
   "id": "e0f741d6",
   "metadata": {},
   "outputs": [],
   "source": []
  }
 ],
 "metadata": {
  "kernelspec": {
   "display_name": "Python 3",
   "language": "python",
   "name": "python3"
  },
  "language_info": {
   "codemirror_mode": {
    "name": "ipython",
    "version": 3
   },
   "file_extension": ".py",
   "mimetype": "text/x-python",
   "name": "python",
   "nbconvert_exporter": "python",
   "pygments_lexer": "ipython3",
   "version": "3.8.8"
  }
 },
 "nbformat": 4,
 "nbformat_minor": 5
}

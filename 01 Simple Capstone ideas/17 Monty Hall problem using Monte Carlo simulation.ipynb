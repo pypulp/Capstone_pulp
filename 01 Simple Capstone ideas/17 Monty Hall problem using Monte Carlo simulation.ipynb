{
 "cells": [
  {
   "cell_type": "markdown",
   "id": "56111dbb",
   "metadata": {},
   "source": [
    "## Monty Hall Wiki\n",
    "\n",
    "https://en.wikipedia.org/wiki/Monty_Hall_problem\n",
    "\n",
    "\n",
    "## Mathematical Solution via Khan Academy\n",
    "\n",
    "https://www.khanacademy.org/math/statistics-probability/probability-library/basic-theoretical-probability/v/monty-hall-problem"
   ]
  },
  {
   "cell_type": "code",
   "execution_count": 1,
   "id": "cd984512",
   "metadata": {},
   "outputs": [],
   "source": [
    "import random\n",
    "\n",
    "def monty_hall(strategy):\n",
    "    doors = [1, 2, 3]\n",
    "    trials = 10000\n",
    "    winning_guesses = 0\n",
    "        \n",
    "    for _ in range(trials):\n",
    "        car_door = random.choice(doors) \n",
    "        selected_door = random.choice(doors)\n",
    "        \n",
    "        if strategy ==\"stick\":\n",
    "            stick_choice = selected_door\n",
    "            if stick_choice == car_door:\n",
    "                winning_guesses += 1\n",
    "    \n",
    "        elif strategy== \"switch\":\n",
    "            \n",
    "            opened_door = random.choice([door for door in doors if door!= selected_door and door!= car_door])\n",
    "            \n",
    "            switch_choice = [door for door in doors if door!= selected_door and door!= opened_door][0]\n",
    "            \n",
    "            if switch_choice == car_door:\n",
    "                winning_guesses += 1\n",
    "                \n",
    "        else:\n",
    "            \n",
    "            break        \n",
    "    \n",
    "    return winning_guesses "
   ]
  },
  {
   "cell_type": "code",
   "execution_count": 2,
   "id": "e9de8537",
   "metadata": {},
   "outputs": [
    {
     "data": {
      "text/plain": [
       "6720"
      ]
     },
     "execution_count": 2,
     "metadata": {},
     "output_type": "execute_result"
    }
   ],
   "source": [
    "monty_hall(\"switch\")"
   ]
  },
  {
   "cell_type": "code",
   "execution_count": 3,
   "id": "2b49a449",
   "metadata": {},
   "outputs": [
    {
     "data": {
      "text/plain": [
       "3342"
      ]
     },
     "execution_count": 3,
     "metadata": {},
     "output_type": "execute_result"
    }
   ],
   "source": [
    "monty_hall(\"stick\")"
   ]
  },
  {
   "cell_type": "markdown",
   "id": "2b314d01",
   "metadata": {},
   "source": [
    "__Monte Carlo Results are consistent with the mathematical solution:__\n",
    "\n",
    "Probability of winning(if we stick to chosen door) = 3342/10000 = 0.3342 or 1/3 approx.\n",
    "                                                                                       \n",
    "\n",
    "Probability of winning(if we switch doors) = 6720/10000 = 0.672 or 2/3 approx                                                                        "
   ]
  }
 ],
 "metadata": {
  "kernelspec": {
   "display_name": "Python 3 (ipykernel)",
   "language": "python",
   "name": "python3"
  },
  "language_info": {
   "codemirror_mode": {
    "name": "ipython",
    "version": 3
   },
   "file_extension": ".py",
   "mimetype": "text/x-python",
   "name": "python",
   "nbconvert_exporter": "python",
   "pygments_lexer": "ipython3",
   "version": "3.9.7"
  }
 },
 "nbformat": 4,
 "nbformat_minor": 5
}

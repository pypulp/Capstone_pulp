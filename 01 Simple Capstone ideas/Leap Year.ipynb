{
 "cells": [
  {
   "cell_type": "markdown",
   "id": "e706f34f",
   "metadata": {},
   "source": [
    "# To check if a given year is a Leap Year"
   ]
  },
  {
   "cell_type": "markdown",
   "id": "08051f04",
   "metadata": {},
   "source": [
    "https://en.wikipedia.org/wiki/Leap_year"
   ]
  },
  {
   "attachments": {
    "image-2.png": {
     "image/png": "[encoded data removed]"
    }
   },
   "cell_type": "markdown",
   "id": "f36d852f",
   "metadata": {},
   "source": [
    "![image-2.png](attachment:image-2.png)"
   ]
  },
  {
   "cell_type": "code",
   "execution_count": 6,
   "id": "5bc5be19",
   "metadata": {},
   "outputs": [],
   "source": [
    "def leap_year():    \n",
    "    num = int(input(\"Please enter the year(yyyy) to check: \\n\"))\n",
    "\n",
    "    if num % 4 == 0:\n",
    "        if num % 100 == 0:\n",
    "            if num % 400 == 0:\n",
    "                print(f\"{num} is a leap year.\")\n",
    "            else:\n",
    "                print(f\"{num} is NOT a leap year.\")\n",
    "        else:\n",
    "            print(f\"{num} is a leap year.\")\n",
    "    else:\n",
    "        print(f\"{num} is NOT a leap year.\")"
   ]
  },
  {
   "cell_type": "code",
   "execution_count": 8,
   "id": "9a4d7c0b",
   "metadata": {},
   "outputs": [
    {
     "name": "stdout",
     "output_type": "stream",
     "text": [
      "Please enter the year(yyyy) to check: \n",
      "2000\n",
      "2000 is a leap year.\n"
     ]
    }
   ],
   "source": [
    "leap_year()"
   ]
  },
  {
   "cell_type": "code",
   "execution_count": 9,
   "id": "c5a18c84",
   "metadata": {},
   "outputs": [
    {
     "name": "stdout",
     "output_type": "stream",
     "text": [
      "Please enter the year(yyyy) to check: \n",
      "1984\n",
      "1984 is a leap year.\n"
     ]
    }
   ],
   "source": [
    "leap_year()"
   ]
  }
 ],
 "metadata": {
  "kernelspec": {
   "display_name": "Python 3",
   "language": "python",
   "name": "python3"
  },
  "language_info": {
   "codemirror_mode": {
    "name": "ipython",
    "version": 3
   },
   "file_extension": ".py",
   "mimetype": "text/x-python",
   "name": "python",
   "nbconvert_exporter": "python",
   "pygments_lexer": "ipython3",
   "version": "3.8.8"
  }
 },
 "nbformat": 4,
 "nbformat_minor": 5
}

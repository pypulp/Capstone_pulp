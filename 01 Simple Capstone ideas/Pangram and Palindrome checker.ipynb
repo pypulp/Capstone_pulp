{
 "cells": [
  {
   "cell_type": "markdown",
   "id": "2d467c29",
   "metadata": {},
   "source": [
    "# Pangram"
   ]
  },
  {
   "cell_type": "markdown",
   "id": "1b5fe794",
   "metadata": {},
   "source": [
    "https://en.wikipedia.org/wiki/Pangram"
   ]
  },
  {
   "cell_type": "code",
   "execution_count": 1,
   "id": "2b5adeee",
   "metadata": {},
   "outputs": [],
   "source": [
    "import string"
   ]
  },
  {
   "cell_type": "code",
   "execution_count": 2,
   "id": "af453c68",
   "metadata": {},
   "outputs": [
    {
     "data": {
      "text/plain": [
       "'abcdefghijklmnopqrstuvwxyz'"
      ]
     },
     "execution_count": 2,
     "metadata": {},
     "output_type": "execute_result"
    }
   ],
   "source": [
    "string.ascii_lowercase"
   ]
  },
  {
   "cell_type": "markdown",
   "id": "fd0ce125",
   "metadata": {},
   "source": [
    "### method 1 - comparisn of two sets"
   ]
  },
  {
   "cell_type": "code",
   "execution_count": 13,
   "id": "07ee226e",
   "metadata": {},
   "outputs": [
    {
     "name": "stdout",
     "output_type": "stream",
     "text": [
      "Enter the sentence: \n",
      "The quick brown fox jumps over the lazy dog\n",
      "\n",
      "Given sentence is a PANGRAM\n"
     ]
    }
   ],
   "source": [
    "my_string = input(\"Enter the sentence: \\n\")\n",
    "import string \n",
    "\n",
    "set_str = set(my_string.lower())\n",
    "set_str.remove(\" \")\n",
    "\n",
    "if set_str ==set(string.ascii_lowercase):\n",
    "    print(\"\\nGiven sentence is a PANGRAM\")\n",
    "else :\n",
    "    print(\"\\nGiven sentence is NOT a PANGRAM\")\n"
   ]
  },
  {
   "cell_type": "markdown",
   "id": "bbb87023",
   "metadata": {},
   "source": [
    "### method 2 - for loop"
   ]
  },
  {
   "cell_type": "code",
   "execution_count": 20,
   "id": "6b0a1978",
   "metadata": {},
   "outputs": [
    {
     "name": "stdout",
     "output_type": "stream",
     "text": [
      "Pangram Check result :True\n"
     ]
    }
   ],
   "source": [
    "my_str =\"The five boxing wizards jump quickly\"\n",
    "\n",
    "is_a_pangram = True\n",
    "\n",
    "for char in string.ascii_uppercase:\n",
    "    if char not in my_str.upper():\n",
    "        is_a_pangram = False\n",
    "\n",
    "print(f\"Pangram Check result :{is_a_pangram}\")\n",
    "\n"
   ]
  },
  {
   "cell_type": "markdown",
   "id": "f2a98006",
   "metadata": {},
   "source": [
    "# Palindrome"
   ]
  },
  {
   "cell_type": "markdown",
   "id": "d36cdcaf",
   "metadata": {},
   "source": [
    "# method 1"
   ]
  },
  {
   "cell_type": "code",
   "execution_count": 21,
   "id": "0d78345f",
   "metadata": {},
   "outputs": [
    {
     "name": "stdout",
     "output_type": "stream",
     "text": [
      "Enter word/sentence  :Malayalam\n",
      "\n",
      "Malayalam is a palindrome\n"
     ]
    }
   ],
   "source": [
    "str_check = input(\"Enter word  :\")\n",
    "\n",
    "if str_check.lower() ==(str_check[::-1].lower()):\n",
    "    print (f\"\\n{str_check} is a palindrome\")\n",
    "else :\n",
    "    print (f\"\\n{str_check} is NOT a palindrome\")"
   ]
  },
  {
   "cell_type": "markdown",
   "id": "a14f1ce3",
   "metadata": {},
   "source": [
    "# method 2"
   ]
  },
  {
   "cell_type": "code",
   "execution_count": 6,
   "id": "33958a6d",
   "metadata": {},
   "outputs": [
    {
     "name": "stdout",
     "output_type": "stream",
     "text": [
      "Enter word/ phrase  :race car\n",
      "True\n"
     ]
    }
   ],
   "source": [
    "string = input(\"Enter word/ phrase  :\")\n",
    "string = string.replace(' ','')\n",
    "print(string == string [::-1])"
   ]
  },
  {
   "cell_type": "code",
   "execution_count": null,
   "id": "2e0e8224",
   "metadata": {},
   "outputs": [],
   "source": []
  }
 ],
 "metadata": {
  "kernelspec": {
   "display_name": "Python 3",
   "language": "python",
   "name": "python3"
  },
  "language_info": {
   "codemirror_mode": {
    "name": "ipython",
    "version": 3
   },
   "file_extension": ".py",
   "mimetype": "text/x-python",
   "name": "python",
   "nbconvert_exporter": "python",
   "pygments_lexer": "ipython3",
   "version": "3.8.8"
  }
 },
 "nbformat": 4,
 "nbformat_minor": 5
}

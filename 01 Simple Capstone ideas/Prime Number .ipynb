{
 "cells": [
  {
   "cell_type": "markdown",
   "id": "5ca5f3a7",
   "metadata": {},
   "source": [
    "# Return the prime numbers (& count) between 1 and number (num) "
   ]
  },
  {
   "cell_type": "code",
   "execution_count": 1,
   "id": "3ccee87b",
   "metadata": {},
   "outputs": [],
   "source": [
    "def prime_check(num):\n",
    "    \n",
    "    primes=[]\n",
    "    if num < 2:\n",
    "        return 0\n",
    "        \n",
    "   \n",
    "    for num in range(num+1):\n",
    "        if num>1:\n",
    "            for i in range(2,num):\n",
    "                if (num%i)==0:\n",
    "                    break\n",
    "            else:\n",
    "                primes.append(num)\n",
    "    print(f\"List of prime number(s) is\\n{primes}\")\n",
    "    return f\"Number of prime numbers from 0 to {num } is : {len(primes)}\""
   ]
  },
  {
   "cell_type": "code",
   "execution_count": 2,
   "id": "e3cff3e7",
   "metadata": {},
   "outputs": [
    {
     "name": "stdout",
     "output_type": "stream",
     "text": [
      "List of prime number(s) is\n",
      "[2, 3, 5, 7, 11, 13, 17, 19, 23, 29, 31, 37, 41, 43, 47, 53, 59, 61, 67, 71, 73, 79, 83, 89, 97]\n"
     ]
    },
    {
     "data": {
      "text/plain": [
       "'Number of prime numbers from 0 to 100 is : 25'"
      ]
     },
     "execution_count": 2,
     "metadata": {},
     "output_type": "execute_result"
    }
   ],
   "source": [
    "prime_check(100)"
   ]
  },
  {
   "cell_type": "markdown",
   "id": "ab4fdc4a",
   "metadata": {},
   "source": [
    "#### Please Note :0 and 1 are not prime numbers\n",
    "visit :https://en.wikipedia.org/wiki/Prime_number"
   ]
  },
  {
   "cell_type": "code",
   "execution_count": null,
   "id": "5b621654",
   "metadata": {},
   "outputs": [],
   "source": []
  }
 ],
 "metadata": {
  "kernelspec": {
   "display_name": "Python 3",
   "language": "python",
   "name": "python3"
  },
  "language_info": {
   "codemirror_mode": {
    "name": "ipython",
    "version": 3
   },
   "file_extension": ".py",
   "mimetype": "text/x-python",
   "name": "python",
   "nbconvert_exporter": "python",
   "pygments_lexer": "ipython3",
   "version": "3.8.8"
  }
 },
 "nbformat": 4,
 "nbformat_minor": 5
}

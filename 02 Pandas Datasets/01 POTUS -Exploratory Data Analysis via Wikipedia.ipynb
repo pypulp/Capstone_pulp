{
 "cells": [
  {
   "cell_type": "markdown",
   "id": "0f4a230d",
   "metadata": {},
   "source": [
    "# Objective:\n"
   ]
  },
  {
   "cell_type": "markdown",
   "id": "078638f1",
   "metadata": {},
   "source": [
    "### To do a Exploratory Data Analysis on Presidents of USA, using data from Wikipedia."
   ]
  },
  {
   "cell_type": "code",
   "execution_count": 2,
   "id": "ce9880cd",
   "metadata": {},
   "outputs": [],
   "source": [
    "import pandas as pd\n",
    "from datetime import date\n",
    "import seaborn as sns\n",
    "import matplotlib.pyplot as plt\n",
    "import numpy as np\n",
    "%matplotlib inline"
   ]
  },
  {
   "cell_type": "markdown",
   "id": "40a3e7c0",
   "metadata": {},
   "source": [
    "### Webscrape a Wikipedia Table:"
   ]
  },
  {
   "cell_type": "markdown",
   "id": "916bfa11",
   "metadata": {},
   "source": [
    "source1:https://en.wikipedia.org/wiki/List_of_presidents_of_the_United_States "
   ]
  },
  {
   "cell_type": "code",
   "execution_count": 3,
   "id": "4b2860a5",
   "metadata": {},
   "outputs": [],
   "source": [
    "pres = pd.read_html(\"https://en.wikipedia.org/wiki/List_of_presidents_of_the_United_States\")[1]"
   ]
  },
  {
   "cell_type": "code",
   "execution_count": 4,
   "id": "e66f42d6",
   "metadata": {
    "scrolled": true
   },
   "outputs": [
    {
     "data": {
      "text/html": [
       "<div>\n",
       "<style scoped>\n",
       "    .dataframe tbody tr th:only-of-type {\n",
       "        vertical-align: middle;\n",
       "    }\n",
       "\n",
       "    .dataframe tbody tr th {\n",
       "        vertical-align: top;\n",
       "    }\n",
       "\n",
       "    .dataframe thead th {\n",
       "        text-align: right;\n",
       "    }\n",
       "</style>\n",
       "<table border=\"1\" class=\"dataframe\">\n",
       "  <thead>\n",
       "    <tr style=\"text-align: right;\">\n",
       "      <th></th>\n",
       "      <th>Presidency[a]</th>\n",
       "      <th>Presidency[a].1</th>\n",
       "      <th>Portrait</th>\n",
       "      <th>Name(Birth–Death)</th>\n",
       "      <th>Party[b]</th>\n",
       "      <th>Party[b].1</th>\n",
       "      <th>Election</th>\n",
       "      <th>Vice President</th>\n",
       "    </tr>\n",
       "  </thead>\n",
       "  <tbody>\n",
       "    <tr>\n",
       "      <th>0</th>\n",
       "      <td>1</td>\n",
       "      <td>April 30, 1789–March 4, 1797</td>\n",
       "      <td>NaN</td>\n",
       "      <td>George Washington(1732–1799)</td>\n",
       "      <td>NaN</td>\n",
       "      <td>Unaffiliated</td>\n",
       "      <td>1788–89</td>\n",
       "      <td>John Adams[c]</td>\n",
       "    </tr>\n",
       "    <tr>\n",
       "      <th>1</th>\n",
       "      <td>1</td>\n",
       "      <td>April 30, 1789–March 4, 1797</td>\n",
       "      <td>NaN</td>\n",
       "      <td>George Washington(1732–1799)</td>\n",
       "      <td>NaN</td>\n",
       "      <td>Unaffiliated</td>\n",
       "      <td>1792</td>\n",
       "      <td>John Adams[c]</td>\n",
       "    </tr>\n",
       "    <tr>\n",
       "      <th>2</th>\n",
       "      <td>2</td>\n",
       "      <td>March 4, 1797–March 4, 1801</td>\n",
       "      <td>NaN</td>\n",
       "      <td>John Adams(1735–1826)</td>\n",
       "      <td>NaN</td>\n",
       "      <td>Federalist</td>\n",
       "      <td>1796</td>\n",
       "      <td>Thomas Jefferson[d]</td>\n",
       "    </tr>\n",
       "  </tbody>\n",
       "</table>\n",
       "</div>"
      ],
      "text/plain": [
       "  Presidency[a]               Presidency[a].1 Portrait  \\\n",
       "0             1  April 30, 1789–March 4, 1797      NaN   \n",
       "1             1  April 30, 1789–March 4, 1797      NaN   \n",
       "2             2   March 4, 1797–March 4, 1801      NaN   \n",
       "\n",
       "              Name(Birth–Death) Party[b]    Party[b].1 Election  \\\n",
       "0  George Washington(1732–1799)      NaN  Unaffiliated  1788–89   \n",
       "1  George Washington(1732–1799)      NaN  Unaffiliated     1792   \n",
       "2         John Adams(1735–1826)      NaN    Federalist     1796   \n",
       "\n",
       "        Vice President  \n",
       "0        John Adams[c]  \n",
       "1        John Adams[c]  \n",
       "2  Thomas Jefferson[d]  "
      ]
     },
     "execution_count": 4,
     "metadata": {},
     "output_type": "execute_result"
    }
   ],
   "source": [
    "pres.head(3)"
   ]
  },
  {
   "cell_type": "markdown",
   "id": "9d723879",
   "metadata": {},
   "source": [
    "### Drop NaN Columns"
   ]
  },
  {
   "cell_type": "code",
   "execution_count": 5,
   "id": "ca0feb15",
   "metadata": {},
   "outputs": [],
   "source": [
    "pres = (pres.drop([\"Portrait\",\"Party[b]\"], axis=1)).drop_duplicates(\"Name(Birth–Death)\")"
   ]
  },
  {
   "cell_type": "code",
   "execution_count": 6,
   "id": "4086471f",
   "metadata": {
    "scrolled": true
   },
   "outputs": [
    {
     "data": {
      "text/html": [
       "<div>\n",
       "<style scoped>\n",
       "    .dataframe tbody tr th:only-of-type {\n",
       "        vertical-align: middle;\n",
       "    }\n",
       "\n",
       "    .dataframe tbody tr th {\n",
       "        vertical-align: top;\n",
       "    }\n",
       "\n",
       "    .dataframe thead th {\n",
       "        text-align: right;\n",
       "    }\n",
       "</style>\n",
       "<table border=\"1\" class=\"dataframe\">\n",
       "  <thead>\n",
       "    <tr style=\"text-align: right;\">\n",
       "      <th></th>\n",
       "      <th>Presidency[a]</th>\n",
       "      <th>Presidency[a].1</th>\n",
       "      <th>Name(Birth–Death)</th>\n",
       "      <th>Party[b].1</th>\n",
       "      <th>Election</th>\n",
       "      <th>Vice President</th>\n",
       "    </tr>\n",
       "  </thead>\n",
       "  <tbody>\n",
       "    <tr>\n",
       "      <th>0</th>\n",
       "      <td>1</td>\n",
       "      <td>April 30, 1789–March 4, 1797</td>\n",
       "      <td>George Washington(1732–1799)</td>\n",
       "      <td>Unaffiliated</td>\n",
       "      <td>1788–89</td>\n",
       "      <td>John Adams[c]</td>\n",
       "    </tr>\n",
       "    <tr>\n",
       "      <th>2</th>\n",
       "      <td>2</td>\n",
       "      <td>March 4, 1797–March 4, 1801</td>\n",
       "      <td>John Adams(1735–1826)</td>\n",
       "      <td>Federalist</td>\n",
       "      <td>1796</td>\n",
       "      <td>Thomas Jefferson[d]</td>\n",
       "    </tr>\n",
       "    <tr>\n",
       "      <th>3</th>\n",
       "      <td>3</td>\n",
       "      <td>March 4, 1801–March 4, 1809</td>\n",
       "      <td>Thomas Jefferson(1743–1826)</td>\n",
       "      <td>Democratic-Republican</td>\n",
       "      <td>1800</td>\n",
       "      <td>Aaron Burr</td>\n",
       "    </tr>\n",
       "  </tbody>\n",
       "</table>\n",
       "</div>"
      ],
      "text/plain": [
       "  Presidency[a]               Presidency[a].1             Name(Birth–Death)  \\\n",
       "0             1  April 30, 1789–March 4, 1797  George Washington(1732–1799)   \n",
       "2             2   March 4, 1797–March 4, 1801         John Adams(1735–1826)   \n",
       "3             3   March 4, 1801–March 4, 1809   Thomas Jefferson(1743–1826)   \n",
       "\n",
       "              Party[b].1 Election       Vice President  \n",
       "0           Unaffiliated  1788–89        John Adams[c]  \n",
       "2             Federalist     1796  Thomas Jefferson[d]  \n",
       "3  Democratic-Republican     1800           Aaron Burr  "
      ]
     },
     "execution_count": 6,
     "metadata": {},
     "output_type": "execute_result"
    }
   ],
   "source": [
    "pres.head(3)"
   ]
  },
  {
   "cell_type": "markdown",
   "id": "ed42455c",
   "metadata": {},
   "source": [
    "### Rename and re-arrange columns"
   ]
  },
  {
   "cell_type": "code",
   "execution_count": 7,
   "id": "c2d840c3",
   "metadata": {},
   "outputs": [],
   "source": [
    "pres1 = pres[\"Presidency[a].1\"].str.split(\"–\",expand=True)\n",
    "pres1 = pres1.rename(columns={0: \"From Date\",1: \"To Date\"})"
   ]
  },
  {
   "cell_type": "code",
   "execution_count": 8,
   "id": "bd2c6753",
   "metadata": {},
   "outputs": [],
   "source": [
    "pres= pres.join(pres1)"
   ]
  },
  {
   "cell_type": "code",
   "execution_count": 9,
   "id": "bf268057",
   "metadata": {},
   "outputs": [],
   "source": [
    "pres = pres.drop(\"Presidency[a].1\", axis=1)"
   ]
  },
  {
   "cell_type": "code",
   "execution_count": 10,
   "id": "4e9849b8",
   "metadata": {},
   "outputs": [],
   "source": [
    "pres = pres.rename(columns={'Presidency[a]': 'No.',\"Party[b].1\":\"Party Name\"})"
   ]
  },
  {
   "cell_type": "code",
   "execution_count": 11,
   "id": "9caa76f4",
   "metadata": {},
   "outputs": [
    {
     "data": {
      "text/html": [
       "<div>\n",
       "<style scoped>\n",
       "    .dataframe tbody tr th:only-of-type {\n",
       "        vertical-align: middle;\n",
       "    }\n",
       "\n",
       "    .dataframe tbody tr th {\n",
       "        vertical-align: top;\n",
       "    }\n",
       "\n",
       "    .dataframe thead th {\n",
       "        text-align: right;\n",
       "    }\n",
       "</style>\n",
       "<table border=\"1\" class=\"dataframe\">\n",
       "  <thead>\n",
       "    <tr style=\"text-align: right;\">\n",
       "      <th></th>\n",
       "      <th>No.</th>\n",
       "      <th>Name(Birth–Death)</th>\n",
       "      <th>Party Name</th>\n",
       "      <th>Election</th>\n",
       "      <th>Vice President</th>\n",
       "      <th>From Date</th>\n",
       "      <th>To Date</th>\n",
       "    </tr>\n",
       "  </thead>\n",
       "  <tbody>\n",
       "    <tr>\n",
       "      <th>0</th>\n",
       "      <td>1</td>\n",
       "      <td>George Washington(1732–1799)</td>\n",
       "      <td>Unaffiliated</td>\n",
       "      <td>1788–89</td>\n",
       "      <td>John Adams[c]</td>\n",
       "      <td>April 30, 1789</td>\n",
       "      <td>March 4, 1797</td>\n",
       "    </tr>\n",
       "  </tbody>\n",
       "</table>\n",
       "</div>"
      ],
      "text/plain": [
       "  No.             Name(Birth–Death)    Party Name Election Vice President  \\\n",
       "0   1  George Washington(1732–1799)  Unaffiliated  1788–89  John Adams[c]   \n",
       "\n",
       "        From Date        To Date  \n",
       "0  April 30, 1789  March 4, 1797  "
      ]
     },
     "execution_count": 11,
     "metadata": {},
     "output_type": "execute_result"
    }
   ],
   "source": [
    "pres.head(1)"
   ]
  },
  {
   "cell_type": "markdown",
   "id": "fd45e3a6",
   "metadata": {},
   "source": [
    "### Remove unwanted rows & Setting till date for current President"
   ]
  },
  {
   "cell_type": "code",
   "execution_count": 12,
   "id": "65d7b37c",
   "metadata": {},
   "outputs": [],
   "source": [
    "pres = pres.drop(82)"
   ]
  },
  {
   "cell_type": "code",
   "execution_count": 13,
   "id": "dd13cbb2",
   "metadata": {},
   "outputs": [],
   "source": [
    "today = date.today()\n",
    "d2 = today.strftime(\"%B %d, %Y\")\n",
    "pres[\"To Date\"].values[44]=d2"
   ]
  },
  {
   "cell_type": "code",
   "execution_count": 14,
   "id": "0a17e3a9",
   "metadata": {},
   "outputs": [
    {
     "data": {
      "text/html": [
       "<div>\n",
       "<style scoped>\n",
       "    .dataframe tbody tr th:only-of-type {\n",
       "        vertical-align: middle;\n",
       "    }\n",
       "\n",
       "    .dataframe tbody tr th {\n",
       "        vertical-align: top;\n",
       "    }\n",
       "\n",
       "    .dataframe thead th {\n",
       "        text-align: right;\n",
       "    }\n",
       "</style>\n",
       "<table border=\"1\" class=\"dataframe\">\n",
       "  <thead>\n",
       "    <tr style=\"text-align: right;\">\n",
       "      <th></th>\n",
       "      <th>No.</th>\n",
       "      <th>Name(Birth–Death)</th>\n",
       "      <th>Party Name</th>\n",
       "      <th>Election</th>\n",
       "      <th>Vice President</th>\n",
       "      <th>From Date</th>\n",
       "      <th>To Date</th>\n",
       "    </tr>\n",
       "  </thead>\n",
       "  <tbody>\n",
       "    <tr>\n",
       "      <th>78</th>\n",
       "      <td>44</td>\n",
       "      <td>Barack Obama(b. 1961)</td>\n",
       "      <td>Democratic</td>\n",
       "      <td>2008</td>\n",
       "      <td>Joe Biden</td>\n",
       "      <td>January 20, 2009</td>\n",
       "      <td>January 20, 2017</td>\n",
       "    </tr>\n",
       "    <tr>\n",
       "      <th>80</th>\n",
       "      <td>45</td>\n",
       "      <td>Donald Trump(b. 1946)</td>\n",
       "      <td>Republican</td>\n",
       "      <td>2016</td>\n",
       "      <td>Mike Pence</td>\n",
       "      <td>January 20, 2017</td>\n",
       "      <td>January 20, 2021</td>\n",
       "    </tr>\n",
       "    <tr>\n",
       "      <th>81</th>\n",
       "      <td>46</td>\n",
       "      <td>Joe Biden(b. 1942)</td>\n",
       "      <td>Democratic</td>\n",
       "      <td>2020</td>\n",
       "      <td>Kamala Harris</td>\n",
       "      <td>January 20, 2021</td>\n",
       "      <td>January 03, 2022</td>\n",
       "    </tr>\n",
       "  </tbody>\n",
       "</table>\n",
       "</div>"
      ],
      "text/plain": [
       "   No.      Name(Birth–Death)  Party Name Election Vice President  \\\n",
       "78  44  Barack Obama(b. 1961)  Democratic     2008      Joe Biden   \n",
       "80  45  Donald Trump(b. 1946)  Republican     2016     Mike Pence   \n",
       "81  46     Joe Biden(b. 1942)  Democratic     2020  Kamala Harris   \n",
       "\n",
       "           From Date           To Date  \n",
       "78  January 20, 2009  January 20, 2017  \n",
       "80  January 20, 2017  January 20, 2021  \n",
       "81  January 20, 2021  January 03, 2022  "
      ]
     },
     "execution_count": 14,
     "metadata": {},
     "output_type": "execute_result"
    }
   ],
   "source": [
    "pres.tail(3)"
   ]
  },
  {
   "cell_type": "markdown",
   "id": "9f114ca8",
   "metadata": {},
   "source": [
    "### Calculate \"Days in Office\" as POTUS"
   ]
  },
  {
   "cell_type": "code",
   "execution_count": 15,
   "id": "238a1aee",
   "metadata": {},
   "outputs": [],
   "source": [
    "pres[\"From Date\"] =pres[\"From Date\"].replace(\n",
    "                              [\"April 4, 1841[i]\",\"July 9, 1850[k]\",\"September 19, 1881[p]\",\"August 2, 1923[r]\"],\n",
    "                              [\"April 4, 1841\",\"July 9, 1850\",\"September 19, 1881\",\"August 2, 1923\"])"
   ]
  },
  {
   "cell_type": "code",
   "execution_count": 16,
   "id": "ebd7eb56",
   "metadata": {},
   "outputs": [],
   "source": [
    "t1= pres[\"To Date\"].apply(pd.to_datetime)\n",
    "t2= pres[\"From Date\"].apply(pd.to_datetime)\n",
    "pres[\"Days in Office\"]=t1-t2"
   ]
  },
  {
   "cell_type": "code",
   "execution_count": 17,
   "id": "76e4bff2",
   "metadata": {},
   "outputs": [
    {
     "data": {
      "text/html": [
       "<div>\n",
       "<style scoped>\n",
       "    .dataframe tbody tr th:only-of-type {\n",
       "        vertical-align: middle;\n",
       "    }\n",
       "\n",
       "    .dataframe tbody tr th {\n",
       "        vertical-align: top;\n",
       "    }\n",
       "\n",
       "    .dataframe thead th {\n",
       "        text-align: right;\n",
       "    }\n",
       "</style>\n",
       "<table border=\"1\" class=\"dataframe\">\n",
       "  <thead>\n",
       "    <tr style=\"text-align: right;\">\n",
       "      <th></th>\n",
       "      <th>No.</th>\n",
       "      <th>Name(Birth–Death)</th>\n",
       "      <th>Party Name</th>\n",
       "      <th>Election</th>\n",
       "      <th>Vice President</th>\n",
       "      <th>From Date</th>\n",
       "      <th>To Date</th>\n",
       "      <th>Days in Office</th>\n",
       "    </tr>\n",
       "  </thead>\n",
       "  <tbody>\n",
       "    <tr>\n",
       "      <th>0</th>\n",
       "      <td>1</td>\n",
       "      <td>George Washington(1732–1799)</td>\n",
       "      <td>Unaffiliated</td>\n",
       "      <td>1788–89</td>\n",
       "      <td>John Adams[c]</td>\n",
       "      <td>April 30, 1789</td>\n",
       "      <td>March 4, 1797</td>\n",
       "      <td>2865 days</td>\n",
       "    </tr>\n",
       "    <tr>\n",
       "      <th>2</th>\n",
       "      <td>2</td>\n",
       "      <td>John Adams(1735–1826)</td>\n",
       "      <td>Federalist</td>\n",
       "      <td>1796</td>\n",
       "      <td>Thomas Jefferson[d]</td>\n",
       "      <td>March 4, 1797</td>\n",
       "      <td>March 4, 1801</td>\n",
       "      <td>1460 days</td>\n",
       "    </tr>\n",
       "    <tr>\n",
       "      <th>3</th>\n",
       "      <td>3</td>\n",
       "      <td>Thomas Jefferson(1743–1826)</td>\n",
       "      <td>Democratic-Republican</td>\n",
       "      <td>1800</td>\n",
       "      <td>Aaron Burr</td>\n",
       "      <td>March 4, 1801</td>\n",
       "      <td>March 4, 1809</td>\n",
       "      <td>2922 days</td>\n",
       "    </tr>\n",
       "    <tr>\n",
       "      <th>5</th>\n",
       "      <td>4</td>\n",
       "      <td>James Madison(1751–1836)</td>\n",
       "      <td>Democratic-Republican</td>\n",
       "      <td>1808</td>\n",
       "      <td>George Clinton[e]</td>\n",
       "      <td>March 4, 1809</td>\n",
       "      <td>March 4, 1817</td>\n",
       "      <td>2922 days</td>\n",
       "    </tr>\n",
       "    <tr>\n",
       "      <th>9</th>\n",
       "      <td>5</td>\n",
       "      <td>James Monroe(1758–1831)</td>\n",
       "      <td>Democratic-Republican</td>\n",
       "      <td>1816</td>\n",
       "      <td>Daniel D. Tompkins</td>\n",
       "      <td>March 4, 1817</td>\n",
       "      <td>March 4, 1825</td>\n",
       "      <td>2922 days</td>\n",
       "    </tr>\n",
       "  </tbody>\n",
       "</table>\n",
       "</div>"
      ],
      "text/plain": [
       "  No.             Name(Birth–Death)             Party Name Election  \\\n",
       "0   1  George Washington(1732–1799)           Unaffiliated  1788–89   \n",
       "2   2         John Adams(1735–1826)             Federalist     1796   \n",
       "3   3   Thomas Jefferson(1743–1826)  Democratic-Republican     1800   \n",
       "5   4      James Madison(1751–1836)  Democratic-Republican     1808   \n",
       "9   5       James Monroe(1758–1831)  Democratic-Republican     1816   \n",
       "\n",
       "        Vice President       From Date        To Date Days in Office  \n",
       "0        John Adams[c]  April 30, 1789  March 4, 1797      2865 days  \n",
       "2  Thomas Jefferson[d]   March 4, 1797  March 4, 1801      1460 days  \n",
       "3           Aaron Burr   March 4, 1801  March 4, 1809      2922 days  \n",
       "5    George Clinton[e]   March 4, 1809  March 4, 1817      2922 days  \n",
       "9   Daniel D. Tompkins   March 4, 1817  March 4, 1825      2922 days  "
      ]
     },
     "execution_count": 17,
     "metadata": {},
     "output_type": "execute_result"
    }
   ],
   "source": [
    "pres.head(5)"
   ]
  },
  {
   "cell_type": "markdown",
   "id": "98c57267",
   "metadata": {},
   "source": [
    "### Party names of POTUS"
   ]
  },
  {
   "cell_type": "code",
   "execution_count": 18,
   "id": "c7ea6549",
   "metadata": {},
   "outputs": [
    {
     "data": {
      "text/plain": [
       "array(['Unaffiliated', 'Federalist', 'Democratic-Republican',\n",
       "       'Democratic-Republican[f]', 'Democratic', 'Whig', 'Whig[j]',\n",
       "       'Republican', 'National Union[n]'], dtype=object)"
      ]
     },
     "execution_count": 18,
     "metadata": {},
     "output_type": "execute_result"
    }
   ],
   "source": [
    "pres[\"Party Name\"].unique()"
   ]
  },
  {
   "cell_type": "code",
   "execution_count": 19,
   "id": "f810e236",
   "metadata": {},
   "outputs": [],
   "source": [
    "pres[\"Party Name\"]=pres[\"Party Name\"].replace(\n",
    "                            [\"Democratic-Republican[f]\",\"Whig[j]\",\"National Union[n]\"],\n",
    "                            [\"Democratic-Republican\",\"Whig\",\"National Union\"])"
   ]
  },
  {
   "cell_type": "code",
   "execution_count": 20,
   "id": "8685228f",
   "metadata": {
    "scrolled": true
   },
   "outputs": [
    {
     "data": {
      "text/plain": [
       "Party Name\n",
       "Republican               19\n",
       "Democratic               15\n",
       "Democratic-Republican     4\n",
       "Whig                      4\n",
       "Federalist                1\n",
       "National Union            1\n",
       "Unaffiliated              1\n",
       "dtype: int64"
      ]
     },
     "execution_count": 20,
     "metadata": {},
     "output_type": "execute_result"
    }
   ],
   "source": [
    "pres.value_counts(\"Party Name\")"
   ]
  },
  {
   "cell_type": "code",
   "execution_count": 21,
   "id": "061c7427",
   "metadata": {},
   "outputs": [
    {
     "data": {
      "image/png": "[encoded data removed]",
      "text/plain": [
       "<Figure size 1800x750 with 1 Axes>"
      ]
     },
     "metadata": {},
     "output_type": "display_data"
    }
   ],
   "source": [
    "sns.set_style(\"whitegrid\")\n",
    "plt.figure(figsize=(12,5), dpi =150 )\n",
    "splot =sns.countplot(data =pres, x=\"Party Name\",\n",
    "                     palette=['#8a838a',\"#ad21ad\",\"#0ecf48\",\"#0a1df5\",\"#f50af1\",\"#f50509\",\"#4f1c1d\"])\n",
    "plt.ylim((0,20));\n",
    "plt.yticks(np.arange(0, 20, 2))\n",
    "plt.suptitle(\"Party Name & Presidency Count\",fontsize=23)\n",
    "splot.set_xlabel(\"Party Name\",fontsize=15)\n",
    "splot.set_ylabel(\"Presidency Count\",fontsize=15)\n",
    "splot.tick_params(labelsize=10)"
   ]
  },
  {
   "cell_type": "code",
   "execution_count": 22,
   "id": "4e90704f",
   "metadata": {},
   "outputs": [],
   "source": [
    "pres2= pres[\"Name(Birth–Death)\"].str.split(\"(\",expand=True)"
   ]
  },
  {
   "cell_type": "code",
   "execution_count": 23,
   "id": "d8174360",
   "metadata": {},
   "outputs": [],
   "source": [
    "pres= pres.join(pres2)"
   ]
  },
  {
   "cell_type": "code",
   "execution_count": 24,
   "id": "5a4e2486",
   "metadata": {},
   "outputs": [],
   "source": [
    "pres = pres.drop(\"Name(Birth–Death)\", axis =1)"
   ]
  },
  {
   "cell_type": "code",
   "execution_count": 25,
   "id": "66b298ce",
   "metadata": {},
   "outputs": [],
   "source": [
    "pres[1]= pres[1].apply(lambda title :title.split(\"(\")[-1].replace(\")\",\"\"))"
   ]
  },
  {
   "cell_type": "code",
   "execution_count": 26,
   "id": "77bad0fb",
   "metadata": {},
   "outputs": [],
   "source": [
    "pres.columns= ['POTUS No.','Party Name','Election','Vice President','From Date','To Date','Days in Office',\"Name \",\n",
    "              \"Birth - Death\"]"
   ]
  },
  {
   "cell_type": "code",
   "execution_count": 27,
   "id": "e0cbd72c",
   "metadata": {},
   "outputs": [
    {
     "data": {
      "text/html": [
       "<div>\n",
       "<style scoped>\n",
       "    .dataframe tbody tr th:only-of-type {\n",
       "        vertical-align: middle;\n",
       "    }\n",
       "\n",
       "    .dataframe tbody tr th {\n",
       "        vertical-align: top;\n",
       "    }\n",
       "\n",
       "    .dataframe thead th {\n",
       "        text-align: right;\n",
       "    }\n",
       "</style>\n",
       "<table border=\"1\" class=\"dataframe\">\n",
       "  <thead>\n",
       "    <tr style=\"text-align: right;\">\n",
       "      <th></th>\n",
       "      <th>POTUS No.</th>\n",
       "      <th>Party Name</th>\n",
       "      <th>Election</th>\n",
       "      <th>Vice President</th>\n",
       "      <th>From Date</th>\n",
       "      <th>To Date</th>\n",
       "      <th>Days in Office</th>\n",
       "      <th>Name</th>\n",
       "      <th>Birth - Death</th>\n",
       "    </tr>\n",
       "  </thead>\n",
       "  <tbody>\n",
       "    <tr>\n",
       "      <th>0</th>\n",
       "      <td>1</td>\n",
       "      <td>Unaffiliated</td>\n",
       "      <td>1788–89</td>\n",
       "      <td>John Adams[c]</td>\n",
       "      <td>April 30, 1789</td>\n",
       "      <td>March 4, 1797</td>\n",
       "      <td>2865 days</td>\n",
       "      <td>George Washington</td>\n",
       "      <td>1732–1799</td>\n",
       "    </tr>\n",
       "    <tr>\n",
       "      <th>2</th>\n",
       "      <td>2</td>\n",
       "      <td>Federalist</td>\n",
       "      <td>1796</td>\n",
       "      <td>Thomas Jefferson[d]</td>\n",
       "      <td>March 4, 1797</td>\n",
       "      <td>March 4, 1801</td>\n",
       "      <td>1460 days</td>\n",
       "      <td>John Adams</td>\n",
       "      <td>1735–1826</td>\n",
       "    </tr>\n",
       "    <tr>\n",
       "      <th>3</th>\n",
       "      <td>3</td>\n",
       "      <td>Democratic-Republican</td>\n",
       "      <td>1800</td>\n",
       "      <td>Aaron Burr</td>\n",
       "      <td>March 4, 1801</td>\n",
       "      <td>March 4, 1809</td>\n",
       "      <td>2922 days</td>\n",
       "      <td>Thomas Jefferson</td>\n",
       "      <td>1743–1826</td>\n",
       "    </tr>\n",
       "    <tr>\n",
       "      <th>5</th>\n",
       "      <td>4</td>\n",
       "      <td>Democratic-Republican</td>\n",
       "      <td>1808</td>\n",
       "      <td>George Clinton[e]</td>\n",
       "      <td>March 4, 1809</td>\n",
       "      <td>March 4, 1817</td>\n",
       "      <td>2922 days</td>\n",
       "      <td>James Madison</td>\n",
       "      <td>1751–1836</td>\n",
       "    </tr>\n",
       "    <tr>\n",
       "      <th>9</th>\n",
       "      <td>5</td>\n",
       "      <td>Democratic-Republican</td>\n",
       "      <td>1816</td>\n",
       "      <td>Daniel D. Tompkins</td>\n",
       "      <td>March 4, 1817</td>\n",
       "      <td>March 4, 1825</td>\n",
       "      <td>2922 days</td>\n",
       "      <td>James Monroe</td>\n",
       "      <td>1758–1831</td>\n",
       "    </tr>\n",
       "  </tbody>\n",
       "</table>\n",
       "</div>"
      ],
      "text/plain": [
       "  POTUS No.             Party Name Election       Vice President  \\\n",
       "0         1           Unaffiliated  1788–89        John Adams[c]   \n",
       "2         2             Federalist     1796  Thomas Jefferson[d]   \n",
       "3         3  Democratic-Republican     1800           Aaron Burr   \n",
       "5         4  Democratic-Republican     1808    George Clinton[e]   \n",
       "9         5  Democratic-Republican     1816   Daniel D. Tompkins   \n",
       "\n",
       "        From Date        To Date Days in Office              Name   \\\n",
       "0  April 30, 1789  March 4, 1797      2865 days  George Washington   \n",
       "2   March 4, 1797  March 4, 1801      1460 days         John Adams   \n",
       "3   March 4, 1801  March 4, 1809      2922 days   Thomas Jefferson   \n",
       "5   March 4, 1809  March 4, 1817      2922 days      James Madison   \n",
       "9   March 4, 1817  March 4, 1825      2922 days       James Monroe   \n",
       "\n",
       "  Birth - Death  \n",
       "0     1732–1799  \n",
       "2     1735–1826  \n",
       "3     1743–1826  \n",
       "5     1751–1836  \n",
       "9     1758–1831  "
      ]
     },
     "execution_count": 27,
     "metadata": {},
     "output_type": "execute_result"
    }
   ],
   "source": [
    "pres.head()"
   ]
  },
  {
   "cell_type": "code",
   "execution_count": 28,
   "id": "43587dfc",
   "metadata": {},
   "outputs": [],
   "source": [
    "pres=pres[['POTUS No.', \"Name \",\"Birth - Death\",'Party Name','Election', 'Vice President',\n",
    "             'From Date','To Date','Days in Office']]"
   ]
  },
  {
   "cell_type": "code",
   "execution_count": 29,
   "id": "55c0f5a1",
   "metadata": {},
   "outputs": [],
   "source": [
    "pres[\"Days in Office\"]=pres[\"Days in Office\"].dt.days"
   ]
  },
  {
   "cell_type": "markdown",
   "id": "c2f4d288",
   "metadata": {},
   "source": [
    "**Grover Cleveland was 22nd and 24th POTUS,from March 4, 1885–March 4, 1889 (Term 1) and March 4, 1893-March 4, 1897 (Term 2)**"
   ]
  },
  {
   "cell_type": "code",
   "execution_count": 30,
   "id": "b09e0e49",
   "metadata": {},
   "outputs": [],
   "source": [
    "from datetime import datetime\n",
    "date_format = \"%B %d,%Y\"\n",
    "t1 = datetime.strptime(\"March 4, 1897\", '%B %d, %Y')\n",
    "t2 = datetime.strptime(\"March 4, 1893\",'%B %d, %Y')\n",
    "Term2 = t1-t2"
   ]
  },
  {
   "cell_type": "code",
   "execution_count": 31,
   "id": "ee0d386b",
   "metadata": {},
   "outputs": [
    {
     "data": {
      "text/plain": [
       "datetime.timedelta(days=1461)"
      ]
     },
     "execution_count": 31,
     "metadata": {},
     "output_type": "execute_result"
    }
   ],
   "source": [
    "Term2"
   ]
  },
  {
   "cell_type": "code",
   "execution_count": 32,
   "id": "61c5ccb8",
   "metadata": {
    "scrolled": true
   },
   "outputs": [],
   "source": [
    "pres.loc[pres[\"POTUS No.\"]== \"22\",\"Days in Office\"]=2922"
   ]
  },
  {
   "cell_type": "code",
   "execution_count": 33,
   "id": "6baac2de",
   "metadata": {},
   "outputs": [
    {
     "data": {
      "text/html": [
       "<div>\n",
       "<style scoped>\n",
       "    .dataframe tbody tr th:only-of-type {\n",
       "        vertical-align: middle;\n",
       "    }\n",
       "\n",
       "    .dataframe tbody tr th {\n",
       "        vertical-align: top;\n",
       "    }\n",
       "\n",
       "    .dataframe thead th {\n",
       "        text-align: right;\n",
       "    }\n",
       "</style>\n",
       "<table border=\"1\" class=\"dataframe\">\n",
       "  <thead>\n",
       "    <tr style=\"text-align: right;\">\n",
       "      <th></th>\n",
       "      <th>POTUS No.</th>\n",
       "      <th>Name</th>\n",
       "      <th>Birth - Death</th>\n",
       "      <th>Party Name</th>\n",
       "      <th>Election</th>\n",
       "      <th>Vice President</th>\n",
       "      <th>From Date</th>\n",
       "      <th>To Date</th>\n",
       "      <th>Days in Office</th>\n",
       "    </tr>\n",
       "  </thead>\n",
       "  <tbody>\n",
       "    <tr>\n",
       "      <th>36</th>\n",
       "      <td>22</td>\n",
       "      <td>Grover Cleveland</td>\n",
       "      <td>1837–1908</td>\n",
       "      <td>Democratic</td>\n",
       "      <td>1884</td>\n",
       "      <td>Thomas A. Hendricks[e]</td>\n",
       "      <td>March 4, 1885</td>\n",
       "      <td>March 4, 1889</td>\n",
       "      <td>2922</td>\n",
       "    </tr>\n",
       "  </tbody>\n",
       "</table>\n",
       "</div>"
      ],
      "text/plain": [
       "   POTUS No.             Name  Birth - Death  Party Name Election  \\\n",
       "36        22  Grover Cleveland     1837–1908  Democratic     1884   \n",
       "\n",
       "            Vice President      From Date        To Date  Days in Office  \n",
       "36  Thomas A. Hendricks[e]  March 4, 1885  March 4, 1889            2922  "
      ]
     },
     "execution_count": 33,
     "metadata": {},
     "output_type": "execute_result"
    }
   ],
   "source": [
    "pres.loc[pres[\"POTUS No.\"]== \"22\"]"
   ]
  },
  {
   "cell_type": "code",
   "execution_count": 34,
   "id": "6b60d36b",
   "metadata": {},
   "outputs": [
    {
     "data": {
      "image/png": "[encoded data removed]",
      "text/plain": [
       "<Figure size 3600x1800 with 1 Axes>"
      ]
     },
     "metadata": {},
     "output_type": "display_data"
    }
   ],
   "source": [
    "sns.set_style(\"whitegrid\")\n",
    "plt.figure(figsize=(18,9), dpi =200)\n",
    "splot2=sns.barplot(x = \"Name \", y=\"Days in Office\",data=pres,hue=\"Party Name\",\n",
    "            palette=['#8a838a',\"#ad21ad\",\"#0ecf48\",\"#0a1df5\",\"#f50af1\",\"#f50509\",\"#4f1c1d\"],dodge=False)\n",
    "splot2.set_xlabel(\"POTUS Name\",fontsize=15)\n",
    "plt.suptitle(\"POTUS and Days in Office\",fontsize=23)\n",
    "plt.legend(bbox_to_anchor=(1.05, -0.2), loc=0)\n",
    "plt.xticks(rotation=90, fontsize=12)\n",
    "splot2.set_ylabel(\"Days in Oval Office\",fontsize=15);"
   ]
  },
  {
   "cell_type": "code",
   "execution_count": 35,
   "id": "5bac1973",
   "metadata": {},
   "outputs": [
    {
     "data": {
      "text/plain": [
       "Index(['POTUS No.', 'Name ', 'Birth - Death', 'Party Name', 'Election',\n",
       "       'Vice President', 'From Date', 'To Date', 'Days in Office'],\n",
       "      dtype='object')"
      ]
     },
     "execution_count": 35,
     "metadata": {},
     "output_type": "execute_result"
    }
   ],
   "source": [
    "pres.columns"
   ]
  },
  {
   "cell_type": "markdown",
   "id": "41985d40",
   "metadata": {},
   "source": [
    "## Presidents and State of Birth / State of Affilliation"
   ]
  },
  {
   "cell_type": "markdown",
   "id": "0e7b2328",
   "metadata": {},
   "source": [
    "### Presidents & State of Birth"
   ]
  },
  {
   "cell_type": "markdown",
   "id": "5fa54a04",
   "metadata": {},
   "source": [
    "source 2:https://en.wikipedia.org/wiki/List_of_presidents_of_the_United_States_by_home_state"
   ]
  },
  {
   "cell_type": "code",
   "execution_count": 36,
   "id": "08892455",
   "metadata": {},
   "outputs": [],
   "source": [
    "import chart_studio.plotly as py\n",
    "import plotly.graph_objs as go \n",
    "from plotly.offline import download_plotlyjs, init_notebook_mode, plot, iplot"
   ]
  },
  {
   "cell_type": "code",
   "execution_count": 37,
   "id": "8dccdaf1",
   "metadata": {},
   "outputs": [
    {
     "data": {
      "text/html": [
       "        <script type=\"text/javascript\">\n",
       "        window.PlotlyConfig = {MathJaxConfig: 'local'};\n",
       "        if (window.MathJax) {MathJax.Hub.Config({SVG: {font: \"STIX-Web\"}});}\n",
       "        if (typeof require !== 'undefined') {\n",
       "        require.undef(\"plotly\");\n",
       "        requirejs.config({\n",
       "            paths: {\n",
       "                'plotly': ['https://cdn.plot.ly/plotly-2.6.3.min']\n",
       "            }\n",
       "        });\n",
       "        require(['plotly'], function(Plotly) {\n",
       "            window._Plotly = Plotly;\n",
       "        });\n",
       "        }\n",
       "        </script>\n",
       "        "
      ]
     },
     "metadata": {},
     "output_type": "display_data"
    }
   ],
   "source": [
    "init_notebook_mode(connected=True) "
   ]
  },
  {
   "cell_type": "code",
   "execution_count": 38,
   "id": "1772024f",
   "metadata": {},
   "outputs": [],
   "source": [
    "pres_birth= pd.read_html(\"https://en.wikipedia.org/wiki/List_of_presidents_of_the_United_States_by_home_state\")[0].drop([45,46])"
   ]
  },
  {
   "cell_type": "code",
   "execution_count": 39,
   "id": "e9151ebd",
   "metadata": {},
   "outputs": [],
   "source": [
    "pres_birth.columns =['Date of birth', 'President', 'Birthplace', 'State of birth','In office']"
   ]
  },
  {
   "cell_type": "code",
   "execution_count": 40,
   "id": "e5063d48",
   "metadata": {},
   "outputs": [],
   "source": [
    "pres_birth[\"State of birth\"]=pres_birth[\"State of birth\"].apply(lambda x:x.replace(\"†\",\"\"))"
   ]
  },
  {
   "cell_type": "code",
   "execution_count": 41,
   "id": "aef4f875",
   "metadata": {},
   "outputs": [],
   "source": [
    "pres_birth[\"In office\"][22] =\"(22nd) March 4, 1885 – March 4, 1889\""
   ]
  },
  {
   "cell_type": "code",
   "execution_count": 42,
   "id": "80068d7f",
   "metadata": {},
   "outputs": [],
   "source": [
    "pres_split =pres_birth[\"In office\"].str.split(\")\", expand=True)\n",
    "pres_split1=pres_split[1].str.split(\"–\", expand=True)\n",
    "pres_split2= pres_split[0].str.split(\"(\",expand=True).drop(0,axis=1)\n",
    "pres_birth =pres_birth.join(pres_split1)"
   ]
  },
  {
   "cell_type": "code",
   "execution_count": 43,
   "id": "425c1a18",
   "metadata": {},
   "outputs": [],
   "source": [
    "pres_birth.columns=['Date of birth', 'President', 'Birthplace', 'State of birth',\n",
    "       'In office', \"Presidency Start\", \"Presidency End\"]"
   ]
  },
  {
   "cell_type": "markdown",
   "id": "e239816d",
   "metadata": {},
   "source": [
    "### Age during Start of Presidency"
   ]
  },
  {
   "cell_type": "code",
   "execution_count": 44,
   "id": "db8d953f",
   "metadata": {},
   "outputs": [],
   "source": [
    "pres_birth[\"Date of birth\"][2]='April 13, 1743'"
   ]
  },
  {
   "cell_type": "code",
   "execution_count": 45,
   "id": "21a0b11e",
   "metadata": {},
   "outputs": [],
   "source": [
    "d1= pres_birth[\"Date of birth\"].apply(pd.to_datetime)\n",
    "d2= pres_birth[\"Presidency Start\"].apply(pd.to_datetime)"
   ]
  },
  {
   "cell_type": "code",
   "execution_count": 46,
   "id": "51044477",
   "metadata": {},
   "outputs": [],
   "source": [
    "pres_birth[\"Age at Presidency\"]=(d2-d1)// np.timedelta64(1, 'Y')"
   ]
  },
  {
   "cell_type": "code",
   "execution_count": 47,
   "id": "4e967636",
   "metadata": {},
   "outputs": [],
   "source": [
    "pres_birth[\"Age at Presidency\"]=np.round(pres_birth[\"Age at Presidency\"],0)\n",
    "pres_birth[\"Age at Presidency\"]=pres_birth[\"Age at Presidency\"].astype(int)"
   ]
  },
  {
   "cell_type": "code",
   "execution_count": 48,
   "id": "1b518c8f",
   "metadata": {},
   "outputs": [
    {
     "data": {
      "text/html": [
       "<div>\n",
       "<style scoped>\n",
       "    .dataframe tbody tr th:only-of-type {\n",
       "        vertical-align: middle;\n",
       "    }\n",
       "\n",
       "    .dataframe tbody tr th {\n",
       "        vertical-align: top;\n",
       "    }\n",
       "\n",
       "    .dataframe thead th {\n",
       "        text-align: right;\n",
       "    }\n",
       "</style>\n",
       "<table border=\"1\" class=\"dataframe\">\n",
       "  <thead>\n",
       "    <tr style=\"text-align: right;\">\n",
       "      <th></th>\n",
       "      <th>Age at Presidency</th>\n",
       "    </tr>\n",
       "  </thead>\n",
       "  <tbody>\n",
       "    <tr>\n",
       "      <th>count</th>\n",
       "      <td>45.000000</td>\n",
       "    </tr>\n",
       "    <tr>\n",
       "      <th>mean</th>\n",
       "      <td>55.511111</td>\n",
       "    </tr>\n",
       "    <tr>\n",
       "      <th>std</th>\n",
       "      <td>7.433408</td>\n",
       "    </tr>\n",
       "    <tr>\n",
       "      <th>min</th>\n",
       "      <td>42.000000</td>\n",
       "    </tr>\n",
       "    <tr>\n",
       "      <th>25%</th>\n",
       "      <td>51.000000</td>\n",
       "    </tr>\n",
       "    <tr>\n",
       "      <th>50%</th>\n",
       "      <td>55.000000</td>\n",
       "    </tr>\n",
       "    <tr>\n",
       "      <th>75%</th>\n",
       "      <td>60.000000</td>\n",
       "    </tr>\n",
       "    <tr>\n",
       "      <th>max</th>\n",
       "      <td>78.000000</td>\n",
       "    </tr>\n",
       "  </tbody>\n",
       "</table>\n",
       "</div>"
      ],
      "text/plain": [
       "       Age at Presidency\n",
       "count          45.000000\n",
       "mean           55.511111\n",
       "std             7.433408\n",
       "min            42.000000\n",
       "25%            51.000000\n",
       "50%            55.000000\n",
       "75%            60.000000\n",
       "max            78.000000"
      ]
     },
     "execution_count": 48,
     "metadata": {},
     "output_type": "execute_result"
    }
   ],
   "source": [
    "pres_birth.describe()"
   ]
  },
  {
   "cell_type": "code",
   "execution_count": 49,
   "id": "e4f35ded",
   "metadata": {},
   "outputs": [
    {
     "data": {
      "image/png": "[encoded data removed]",
      "text/plain": [
       "<Figure size 432x288 with 1 Axes>"
      ]
     },
     "metadata": {},
     "output_type": "display_data"
    }
   ],
   "source": [
    "sns.boxplot(data=pres_birth,y=\"Age at Presidency\");"
   ]
  },
  {
   "cell_type": "markdown",
   "id": "127e6843",
   "metadata": {},
   "source": [
    "### Maximum age of a POTUS during the start of Presidency"
   ]
  },
  {
   "cell_type": "code",
   "execution_count": 50,
   "id": "df3e5967",
   "metadata": {},
   "outputs": [
    {
     "data": {
      "text/html": [
       "<div>\n",
       "<style scoped>\n",
       "    .dataframe tbody tr th:only-of-type {\n",
       "        vertical-align: middle;\n",
       "    }\n",
       "\n",
       "    .dataframe tbody tr th {\n",
       "        vertical-align: top;\n",
       "    }\n",
       "\n",
       "    .dataframe thead th {\n",
       "        text-align: right;\n",
       "    }\n",
       "</style>\n",
       "<table border=\"1\" class=\"dataframe\">\n",
       "  <thead>\n",
       "    <tr style=\"text-align: right;\">\n",
       "      <th></th>\n",
       "      <th>Date of birth</th>\n",
       "      <th>President</th>\n",
       "      <th>Birthplace</th>\n",
       "      <th>State of birth</th>\n",
       "      <th>In office</th>\n",
       "      <th>Presidency Start</th>\n",
       "      <th>Presidency End</th>\n",
       "      <th>Age at Presidency</th>\n",
       "    </tr>\n",
       "  </thead>\n",
       "  <tbody>\n",
       "    <tr>\n",
       "      <th>40</th>\n",
       "      <td>November 20, 1942</td>\n",
       "      <td>Joseph R. Biden</td>\n",
       "      <td>Scranton</td>\n",
       "      <td>Pennsylvania</td>\n",
       "      <td>(46th) January 20, 2021 – present</td>\n",
       "      <td>January 20, 2021</td>\n",
       "      <td>present</td>\n",
       "      <td>78</td>\n",
       "    </tr>\n",
       "  </tbody>\n",
       "</table>\n",
       "</div>"
      ],
      "text/plain": [
       "        Date of birth        President Birthplace State of birth  \\\n",
       "40  November 20, 1942  Joseph R. Biden   Scranton   Pennsylvania   \n",
       "\n",
       "                            In office    Presidency Start Presidency End  \\\n",
       "40  (46th) January 20, 2021 – present   January 20, 2021         present   \n",
       "\n",
       "    Age at Presidency  \n",
       "40                 78  "
      ]
     },
     "execution_count": 50,
     "metadata": {},
     "output_type": "execute_result"
    }
   ],
   "source": [
    "pres_birth[pres_birth[\"Age at Presidency\"]==pres_birth[\"Age at Presidency\"].max()]"
   ]
  },
  {
   "cell_type": "markdown",
   "id": "b23e2a90",
   "metadata": {},
   "source": [
    "### Minimum age of a POTUS during the start of Presidency"
   ]
  },
  {
   "cell_type": "markdown",
   "id": "2fa917e9",
   "metadata": {},
   "source": [
    "Using iloc method"
   ]
  },
  {
   "cell_type": "code",
   "execution_count": 51,
   "id": "416001a4",
   "metadata": {},
   "outputs": [
    {
     "data": {
      "text/plain": [
       "Date of birth                                 October 27, 1858\n",
       "President                                   Theodore Roosevelt\n",
       "Birthplace                                           Manhattan\n",
       "State of birth                                        New York\n",
       "In office            (26th) September 14, 1901 – March 4, 1909\n",
       "Presidency Start                           September 14, 1901 \n",
       "Presidency End                                   March 4, 1909\n",
       "Age at Presidency                                           42\n",
       "Name: 26, dtype: object"
      ]
     },
     "execution_count": 51,
     "metadata": {},
     "output_type": "execute_result"
    }
   ],
   "source": [
    "pres_birth.iloc[pres_birth[\"Age at Presidency\"].idxmin()]"
   ]
  },
  {
   "cell_type": "code",
   "execution_count": 52,
   "id": "a1ca767d",
   "metadata": {},
   "outputs": [
    {
     "data": {
      "text/html": [
       "<div>\n",
       "<style scoped>\n",
       "    .dataframe tbody tr th:only-of-type {\n",
       "        vertical-align: middle;\n",
       "    }\n",
       "\n",
       "    .dataframe tbody tr th {\n",
       "        vertical-align: top;\n",
       "    }\n",
       "\n",
       "    .dataframe thead th {\n",
       "        text-align: right;\n",
       "    }\n",
       "</style>\n",
       "<table border=\"1\" class=\"dataframe\">\n",
       "  <thead>\n",
       "    <tr style=\"text-align: right;\">\n",
       "      <th></th>\n",
       "      <th>Date of birth</th>\n",
       "      <th>President</th>\n",
       "      <th>Birthplace</th>\n",
       "      <th>State of birth</th>\n",
       "      <th>In office</th>\n",
       "      <th>Presidency Start</th>\n",
       "      <th>Presidency End</th>\n",
       "      <th>Age at Presidency</th>\n",
       "    </tr>\n",
       "  </thead>\n",
       "  <tbody>\n",
       "    <tr>\n",
       "      <th>44</th>\n",
       "      <td>August 4, 1961</td>\n",
       "      <td>Barack Obama</td>\n",
       "      <td>Honolulu</td>\n",
       "      <td>Hawaii</td>\n",
       "      <td>(44th) January 20, 2009 – January 20, 2017</td>\n",
       "      <td>January 20, 2009</td>\n",
       "      <td>January 20, 2017</td>\n",
       "      <td>47</td>\n",
       "    </tr>\n",
       "  </tbody>\n",
       "</table>\n",
       "</div>"
      ],
      "text/plain": [
       "     Date of birth     President Birthplace State of birth  \\\n",
       "44  August 4, 1961  Barack Obama   Honolulu         Hawaii   \n",
       "\n",
       "                                     In office    Presidency Start  \\\n",
       "44  (44th) January 20, 2009 – January 20, 2017   January 20, 2009    \n",
       "\n",
       "       Presidency End  Age at Presidency  \n",
       "44   January 20, 2017                 47  "
      ]
     },
     "execution_count": 52,
     "metadata": {},
     "output_type": "execute_result"
    }
   ],
   "source": [
    "pres_birth[pres_birth[\"President\"]== \"Barack Obama\"]"
   ]
  },
  {
   "cell_type": "markdown",
   "id": "7ac45bfa",
   "metadata": {},
   "source": [
    "### Top 5 Youngest POTUS by age at start of Presidency "
   ]
  },
  {
   "cell_type": "code",
   "execution_count": 53,
   "id": "8bff88b0",
   "metadata": {},
   "outputs": [
    {
     "data": {
      "text/html": [
       "<div>\n",
       "<style scoped>\n",
       "    .dataframe tbody tr th:only-of-type {\n",
       "        vertical-align: middle;\n",
       "    }\n",
       "\n",
       "    .dataframe tbody tr th {\n",
       "        vertical-align: top;\n",
       "    }\n",
       "\n",
       "    .dataframe thead th {\n",
       "        text-align: right;\n",
       "    }\n",
       "</style>\n",
       "<table border=\"1\" class=\"dataframe\">\n",
       "  <thead>\n",
       "    <tr style=\"text-align: right;\">\n",
       "      <th></th>\n",
       "      <th>Date of birth</th>\n",
       "      <th>President</th>\n",
       "      <th>Birthplace</th>\n",
       "      <th>State of birth</th>\n",
       "      <th>In office</th>\n",
       "      <th>Presidency Start</th>\n",
       "      <th>Presidency End</th>\n",
       "      <th>Age at Presidency</th>\n",
       "    </tr>\n",
       "  </thead>\n",
       "  <tbody>\n",
       "    <tr>\n",
       "      <th>26</th>\n",
       "      <td>October 27, 1858</td>\n",
       "      <td>Theodore Roosevelt</td>\n",
       "      <td>Manhattan</td>\n",
       "      <td>New York</td>\n",
       "      <td>(26th) September 14, 1901 – March 4, 1909</td>\n",
       "      <td>September 14, 1901</td>\n",
       "      <td>March 4, 1909</td>\n",
       "      <td>42</td>\n",
       "    </tr>\n",
       "    <tr>\n",
       "      <th>37</th>\n",
       "      <td>May 29, 1917</td>\n",
       "      <td>John F. Kennedy</td>\n",
       "      <td>Brookline</td>\n",
       "      <td>Massachusetts</td>\n",
       "      <td>(35th) January 20, 1961 – November 22, 1963</td>\n",
       "      <td>January 20, 1961</td>\n",
       "      <td>November 22, 1963</td>\n",
       "      <td>43</td>\n",
       "    </tr>\n",
       "    <tr>\n",
       "      <th>43</th>\n",
       "      <td>August 19, 1946</td>\n",
       "      <td>Bill Clinton</td>\n",
       "      <td>Hope</td>\n",
       "      <td>Arkansas</td>\n",
       "      <td>(42nd) January 20, 1993 – January 20, 2001</td>\n",
       "      <td>January 20, 1993</td>\n",
       "      <td>January 20, 2001</td>\n",
       "      <td>46</td>\n",
       "    </tr>\n",
       "    <tr>\n",
       "      <th>17</th>\n",
       "      <td>April 27, 1822</td>\n",
       "      <td>Ulysses S. Grant</td>\n",
       "      <td>Point Pleasant</td>\n",
       "      <td>Ohio</td>\n",
       "      <td>(18th) March 4, 1869 – March 4, 1877</td>\n",
       "      <td>March 4, 1869</td>\n",
       "      <td>March 4, 1877</td>\n",
       "      <td>46</td>\n",
       "    </tr>\n",
       "    <tr>\n",
       "      <th>22</th>\n",
       "      <td>March 18, 1837</td>\n",
       "      <td>Grover Cleveland</td>\n",
       "      <td>Caldwell</td>\n",
       "      <td>New Jersey</td>\n",
       "      <td>(22nd) March 4, 1885 – March 4, 1889</td>\n",
       "      <td>March 4, 1885</td>\n",
       "      <td>March 4, 1889</td>\n",
       "      <td>47</td>\n",
       "    </tr>\n",
       "  </tbody>\n",
       "</table>\n",
       "</div>"
      ],
      "text/plain": [
       "       Date of birth           President      Birthplace State of birth  \\\n",
       "26  October 27, 1858  Theodore Roosevelt       Manhattan       New York   \n",
       "37      May 29, 1917     John F. Kennedy       Brookline  Massachusetts   \n",
       "43   August 19, 1946        Bill Clinton            Hope       Arkansas   \n",
       "17    April 27, 1822    Ulysses S. Grant  Point Pleasant           Ohio   \n",
       "22    March 18, 1837    Grover Cleveland        Caldwell     New Jersey   \n",
       "\n",
       "                                      In office      Presidency Start  \\\n",
       "26    (26th) September 14, 1901 – March 4, 1909   September 14, 1901    \n",
       "37  (35th) January 20, 1961 – November 22, 1963     January 20, 1961    \n",
       "43   (42nd) January 20, 1993 – January 20, 2001     January 20, 1993    \n",
       "17         (18th) March 4, 1869 – March 4, 1877        March 4, 1869    \n",
       "22         (22nd) March 4, 1885 – March 4, 1889        March 4, 1885    \n",
       "\n",
       "        Presidency End  Age at Presidency  \n",
       "26       March 4, 1909                 42  \n",
       "37   November 22, 1963                 43  \n",
       "43    January 20, 2001                 46  \n",
       "17       March 4, 1877                 46  \n",
       "22       March 4, 1889                 47  "
      ]
     },
     "execution_count": 53,
     "metadata": {},
     "output_type": "execute_result"
    }
   ],
   "source": [
    "pres_birth.sort_values(by=\"Age at Presidency\")[0:5]"
   ]
  },
  {
   "cell_type": "markdown",
   "id": "833b8c65",
   "metadata": {},
   "source": [
    "### Top 5 Oldest POTUS by age at start of Presidency "
   ]
  },
  {
   "cell_type": "code",
   "execution_count": 54,
   "id": "521c50b3",
   "metadata": {},
   "outputs": [
    {
     "data": {
      "text/html": [
       "<div>\n",
       "<style scoped>\n",
       "    .dataframe tbody tr th:only-of-type {\n",
       "        vertical-align: middle;\n",
       "    }\n",
       "\n",
       "    .dataframe tbody tr th {\n",
       "        vertical-align: top;\n",
       "    }\n",
       "\n",
       "    .dataframe thead th {\n",
       "        text-align: right;\n",
       "    }\n",
       "</style>\n",
       "<table border=\"1\" class=\"dataframe\">\n",
       "  <thead>\n",
       "    <tr style=\"text-align: right;\">\n",
       "      <th></th>\n",
       "      <th>Date of birth</th>\n",
       "      <th>President</th>\n",
       "      <th>Birthplace</th>\n",
       "      <th>State of birth</th>\n",
       "      <th>In office</th>\n",
       "      <th>Presidency Start</th>\n",
       "      <th>Presidency End</th>\n",
       "      <th>Age at Presidency</th>\n",
       "    </tr>\n",
       "  </thead>\n",
       "  <tbody>\n",
       "    <tr>\n",
       "      <th>40</th>\n",
       "      <td>November 20, 1942</td>\n",
       "      <td>Joseph R. Biden</td>\n",
       "      <td>Scranton</td>\n",
       "      <td>Pennsylvania</td>\n",
       "      <td>(46th) January 20, 2021 – present</td>\n",
       "      <td>January 20, 2021</td>\n",
       "      <td>present</td>\n",
       "      <td>78</td>\n",
       "    </tr>\n",
       "    <tr>\n",
       "      <th>41</th>\n",
       "      <td>June 14, 1946</td>\n",
       "      <td>Donald Trump</td>\n",
       "      <td>Queens</td>\n",
       "      <td>New York</td>\n",
       "      <td>(45th) January 20, 2017 – January 20, 2021</td>\n",
       "      <td>January 20, 2017</td>\n",
       "      <td>January 20, 2021</td>\n",
       "      <td>70</td>\n",
       "    </tr>\n",
       "    <tr>\n",
       "      <th>34</th>\n",
       "      <td>February 6, 1911</td>\n",
       "      <td>Ronald Reagan</td>\n",
       "      <td>Tampico</td>\n",
       "      <td>Illinois</td>\n",
       "      <td>(40th) January 20, 1981 – January 20, 1989</td>\n",
       "      <td>January 20, 1981</td>\n",
       "      <td>January 20, 1989</td>\n",
       "      <td>69</td>\n",
       "    </tr>\n",
       "    <tr>\n",
       "      <th>7</th>\n",
       "      <td>February 9, 1773</td>\n",
       "      <td>William Henry Harrison</td>\n",
       "      <td>Charles City County</td>\n",
       "      <td>Virginia</td>\n",
       "      <td>(9th) March 4, 1841 – April 4, 1841</td>\n",
       "      <td>March 4, 1841</td>\n",
       "      <td>April 4, 1841</td>\n",
       "      <td>68</td>\n",
       "    </tr>\n",
       "    <tr>\n",
       "      <th>11</th>\n",
       "      <td>April 23, 1791</td>\n",
       "      <td>James Buchanan</td>\n",
       "      <td>Cove Gap</td>\n",
       "      <td>Pennsylvania</td>\n",
       "      <td>(15th) March 4, 1857 – March 4, 1861</td>\n",
       "      <td>March 4, 1857</td>\n",
       "      <td>March 4, 1861</td>\n",
       "      <td>65</td>\n",
       "    </tr>\n",
       "  </tbody>\n",
       "</table>\n",
       "</div>"
      ],
      "text/plain": [
       "        Date of birth               President           Birthplace  \\\n",
       "40  November 20, 1942         Joseph R. Biden             Scranton   \n",
       "41      June 14, 1946            Donald Trump               Queens   \n",
       "34   February 6, 1911           Ronald Reagan              Tampico   \n",
       "7    February 9, 1773  William Henry Harrison  Charles City County   \n",
       "11     April 23, 1791          James Buchanan             Cove Gap   \n",
       "\n",
       "   State of birth                                   In office  \\\n",
       "40   Pennsylvania           (46th) January 20, 2021 – present   \n",
       "41       New York  (45th) January 20, 2017 – January 20, 2021   \n",
       "34       Illinois  (40th) January 20, 1981 – January 20, 1989   \n",
       "7        Virginia         (9th) March 4, 1841 – April 4, 1841   \n",
       "11   Pennsylvania        (15th) March 4, 1857 – March 4, 1861   \n",
       "\n",
       "      Presidency Start     Presidency End  Age at Presidency  \n",
       "40   January 20, 2021             present                 78  \n",
       "41   January 20, 2017    January 20, 2021                 70  \n",
       "34   January 20, 1981    January 20, 1989                 69  \n",
       "7       March 4, 1841       April 4, 1841                 68  \n",
       "11      March 4, 1857       March 4, 1861                 65  "
      ]
     },
     "execution_count": 54,
     "metadata": {},
     "output_type": "execute_result"
    }
   ],
   "source": [
    "pres_birth.sort_values(by=\"Age at Presidency\",ascending=False)[0:5]"
   ]
  },
  {
   "cell_type": "markdown",
   "id": "f020158a",
   "metadata": {},
   "source": [
    "## Presidents and their State of Birth"
   ]
  },
  {
   "cell_type": "code",
   "execution_count": 55,
   "id": "8fef5ea8",
   "metadata": {},
   "outputs": [],
   "source": [
    "code = {'Alabama': 'AL',\n",
    "        'Alaska': 'AK',\n",
    "        'Arizona': 'AZ',\n",
    "        'Arkansas': 'AR',\n",
    "        'California': 'CA',\n",
    "        'Colorado': 'CO',\n",
    "        'Connecticut': 'CT',\n",
    "        'Delaware': 'DE',\n",
    "        'District of Columbia': 'DC',\n",
    "        'Florida': 'FL',\n",
    "        'Georgia': 'GA',\n",
    "        'Hawaii': 'HI',\n",
    "        'Idaho': 'ID',\n",
    "        'Illinois': 'IL',\n",
    "        'Indiana': 'IN',\n",
    "        'Iowa': 'IA',\n",
    "        'Kansas': 'KS',\n",
    "        'Kentucky': 'KY',\n",
    "        'Louisiana': 'LA',\n",
    "        'Maine': 'ME',\n",
    "        'Maryland': 'MD',\n",
    "        'Massachusetts': 'MA',\n",
    "        'Michigan': 'MI',\n",
    "        'Minnesota': 'MN',\n",
    "        'Mississippi': 'MS',\n",
    "        'Missouri': 'MO',\n",
    "        'Montana': 'MT',\n",
    "        'Nebraska': 'NE',\n",
    "        'Nevada': 'NV',\n",
    "        'New Hampshire': 'NH',\n",
    "        'New Jersey': 'NJ',\n",
    "        'New Mexico': 'NM',\n",
    "        'New York': 'NY',\n",
    "        'North Carolina': 'NC',\n",
    "        'North Dakota': 'ND',\n",
    "        'Ohio': 'OH',\n",
    "        'Oklahoma': 'OK',\n",
    "        'Oregon': 'OR',\n",
    "        'Pennsylvania': 'PA',\n",
    "        'Rhode Island': 'RI',\n",
    "        'South Carolina': 'SC',\n",
    "        'South Dakota': 'SD',\n",
    "        'Tennessee': 'TN',\n",
    "        'Texas': 'TX',\n",
    "        'Utah': 'UT',\n",
    "        'Vermont': 'VT',\n",
    "        'Virginia': 'VA',\n",
    "        'Washington': 'WA',\n",
    "        'West Virginia': 'WV',\n",
    "        'Wisconsin': 'WI',\n",
    "        'Wyoming': 'WY'}"
   ]
  },
  {
   "cell_type": "code",
   "execution_count": 56,
   "id": "3e70ed0d",
   "metadata": {},
   "outputs": [],
   "source": [
    "pres_birth['Code'] = pres_birth['State of birth'].map(code)"
   ]
  },
  {
   "cell_type": "code",
   "execution_count": 57,
   "id": "651e0076",
   "metadata": {},
   "outputs": [],
   "source": [
    "pres_birth['No of Presidents from the State']  = pres_birth['State of birth'].map(pres_birth['State of birth'].value_counts())"
   ]
  },
  {
   "cell_type": "code",
   "execution_count": 58,
   "id": "250a822b",
   "metadata": {
    "scrolled": true
   },
   "outputs": [
    {
     "data": {
      "text/plain": [
       "Virginia          8\n",
       "Ohio              7\n",
       "New York          5\n",
       "Massachusetts     4\n",
       "Texas             2\n",
       "North Carolina    2\n",
       "Vermont           2\n",
       "Pennsylvania      2\n",
       "Hawaii            1\n",
       "Kentucky          1\n",
       "Missouri          1\n",
       "California        1\n",
       "Connecticut       1\n",
       "Georgia           1\n",
       "New Hampshire     1\n",
       "South Carolina    1\n",
       "Arkansas          1\n",
       "Illinois          1\n",
       "New Jersey        1\n",
       "Iowa              1\n",
       "Nebraska          1\n",
       "Name: State of birth, dtype: int64"
      ]
     },
     "execution_count": 58,
     "metadata": {},
     "output_type": "execute_result"
    }
   ],
   "source": [
    "pres_birth[\"State of birth\"].value_counts()"
   ]
  },
  {
   "cell_type": "code",
   "execution_count": 59,
   "id": "db2745c9",
   "metadata": {},
   "outputs": [
    {
     "data": {
      "image/png": "[encoded data removed]",
      "text/plain": [
       "<Figure size 2400x600 with 1 Axes>"
      ]
     },
     "metadata": {},
     "output_type": "display_data"
    }
   ],
   "source": [
    "plt.figure(figsize=(12,3),dpi =200)\n",
    "plt.tick_params(axis=\"x\",labelrotation=90)\n",
    "sns.barplot(data=pres_birth,x=\"State of birth\",y= \"No of Presidents from the State\",palette=\"viridis\");"
   ]
  },
  {
   "cell_type": "code",
   "execution_count": 60,
   "id": "44998ec9",
   "metadata": {},
   "outputs": [],
   "source": [
    "data = dict(type='choropleth',\n",
    "            colorscale = 'teal',\n",
    "            locations = pres_birth['Code'],\n",
    "            z = pres_birth['No of Presidents from the State'],\n",
    "            locationmode = 'USA-states',\n",
    "            text=pres_birth[\"State of birth\"],\n",
    "            marker = dict(line = dict(color = 'rgb(255,255,255)',width = 2)),\n",
    "            \n",
    "            ) \n",
    "\n",
    "layout = dict(title = 'Presidents and State of Birth',\n",
    "              geo = dict(scope='usa',\n",
    "                         showlakes = True,\n",
    "                         lakecolor = 'rgb(85,173,240)')\n",
    "             )"
   ]
  },
  {
   "cell_type": "code",
   "execution_count": 61,
   "id": "a0b19a9b",
   "metadata": {},
   "outputs": [],
   "source": [
    "choromap = go.Figure(data = [data],layout = layout)"
   ]
  },
  {
   "cell_type": "code",
   "execution_count": 73,
   "id": "5ce240f7",
   "metadata": {},
   "outputs": [
    {
     "data": {
      "application/vnd.plotly.v1+json": {
       "config": {
        "linkText": "Export to plot.ly",
        "plotlyServerURL": "https://plot.ly",
        "showLink": false
       },
       "data": [
        {
         "colorscale": [
          [
           0,
           "rgb(209, 238, 234)"
          ],
          [
           0.16666666666666666,
           "rgb(168, 219, 217)"
          ],
          [
           0.3333333333333333,
           "rgb(133, 196, 201)"
          ],
          [
           0.5,
           "rgb(104, 171, 184)"
          ],
          [
           0.6666666666666666,
           "rgb(79, 144, 166)"
          ],
          [
           0.8333333333333334,
           "rgb(59, 115, 143)"
          ],
          [
           1,
           "rgb(42, 86, 116)"
          ]
         ],
         "locationmode": "USA-states",
         "locations": [
          "VA",
          "MA",
          "VA",
          "VA",
          "VA",
          "SC",
          "MA",
          "VA",
          "NY",
          "VA",
          "VA",
          "PA",
          "NC",
          "NY",
          "NH",
          "NC",
          "KY",
          "OH",
          "OH",
          "VT",
          "OH",
          "OH",
          "NJ",
          "OH",
          "VA",
          "OH",
          "NY",
          "OH",
          "VT",
          "IA",
          "NY",
          "MO",
          "TX",
          "TX",
          "IL",
          "CA",
          "NE",
          "MA",
          "MA",
          "GA",
          "PA",
          "NY",
          "CT",
          "AR",
          "HI"
         ],
         "marker": {
          "line": {
           "color": "rgb(255,255,255)",
           "width": 2
          }
         },
         "text": [
          "Virginia",
          "Massachusetts",
          "Virginia",
          "Virginia",
          "Virginia",
          "South Carolina",
          "Massachusetts",
          "Virginia",
          "New York",
          "Virginia",
          "Virginia",
          "Pennsylvania",
          "North Carolina",
          "New York",
          "New Hampshire",
          "North Carolina",
          "Kentucky",
          "Ohio",
          "Ohio",
          "Vermont",
          "Ohio",
          "Ohio",
          "New Jersey",
          "Ohio",
          "Virginia",
          "Ohio",
          "New York",
          "Ohio",
          "Vermont",
          "Iowa",
          "New York",
          "Missouri",
          "Texas",
          "Texas",
          "Illinois",
          "California",
          "Nebraska",
          "Massachusetts",
          "Massachusetts",
          "Georgia",
          "Pennsylvania",
          "New York",
          "Connecticut",
          "Arkansas",
          "Hawaii"
         ],
         "type": "choropleth",
         "z": [
          8,
          4,
          8,
          8,
          8,
          1,
          4,
          8,
          5,
          8,
          8,
          2,
          2,
          5,
          1,
          2,
          1,
          7,
          7,
          2,
          7,
          7,
          1,
          7,
          8,
          7,
          5,
          7,
          2,
          1,
          5,
          1,
          2,
          2,
          1,
          1,
          1,
          4,
          4,
          1,
          2,
          5,
          1,
          1,
          1
         ]
        }
       ],
       "layout": {
        "geo": {
         "lakecolor": "rgb(85,173,240)",
         "scope": "usa",
         "showlakes": true
        },
        "template": {
         "data": {
          "bar": [
           {
            "error_x": {
             "color": "#2a3f5f"
            },
            "error_y": {
             "color": "#2a3f5f"
            },
            "marker": {
             "line": {
              "color": "#E5ECF6",
              "width": 0.5
             },
             "pattern": {
              "fillmode": "overlay",
              "size": 10,
              "solidity": 0.2
             }
            },
            "type": "bar"
           }
          ],
          "barpolar": [
           {
            "marker": {
             "line": {
              "color": "#E5ECF6",
              "width": 0.5
             },
             "pattern": {
              "fillmode": "overlay",
              "size": 10,
              "solidity": 0.2
             }
            },
            "type": "barpolar"
           }
          ],
          "carpet": [
           {
            "aaxis": {
             "endlinecolor": "#2a3f5f",
             "gridcolor": "white",
             "linecolor": "white",
             "minorgridcolor": "white",
             "startlinecolor": "#2a3f5f"
            },
            "baxis": {
             "endlinecolor": "#2a3f5f",
             "gridcolor": "white",
             "linecolor": "white",
             "minorgridcolor": "white",
             "startlinecolor": "#2a3f5f"
            },
            "type": "carpet"
           }
          ],
          "choropleth": [
           {
            "colorbar": {
             "outlinewidth": 0,
             "ticks": ""
            },
            "type": "choropleth"
           }
          ],
          "contour": [
           {
            "colorbar": {
             "outlinewidth": 0,
             "ticks": ""
            },
            "colorscale": [
             [
              0,
              "#0d0887"
             ],
             [
              0.1111111111111111,
              "#46039f"
             ],
             [
              0.2222222222222222,
              "#7201a8"
             ],
             [
              0.3333333333333333,
              "#9c179e"
             ],
             [
              0.4444444444444444,
              "#bd3786"
             ],
             [
              0.5555555555555556,
              "#d8576b"
             ],
             [
              0.6666666666666666,
              "#ed7953"
             ],
             [
              0.7777777777777778,
              "#fb9f3a"
             ],
             [
              0.8888888888888888,
              "#fdca26"
             ],
             [
              1,
              "#f0f921"
             ]
            ],
            "type": "contour"
           }
          ],
          "contourcarpet": [
           {
            "colorbar": {
             "outlinewidth": 0,
             "ticks": ""
            },
            "type": "contourcarpet"
           }
          ],
          "heatmap": [
           {
            "colorbar": {
             "outlinewidth": 0,
             "ticks": ""
            },
            "colorscale": [
             [
              0,
              "#0d0887"
             ],
             [
              0.1111111111111111,
              "#46039f"
             ],
             [
              0.2222222222222222,
              "#7201a8"
             ],
             [
              0.3333333333333333,
              "#9c179e"
             ],
             [
              0.4444444444444444,
              "#bd3786"
             ],
             [
              0.5555555555555556,
              "#d8576b"
             ],
             [
              0.6666666666666666,
              "#ed7953"
             ],
             [
              0.7777777777777778,
              "#fb9f3a"
             ],
             [
              0.8888888888888888,
              "#fdca26"
             ],
             [
              1,
              "#f0f921"
             ]
            ],
            "type": "heatmap"
           }
          ],
          "heatmapgl": [
           {
            "colorbar": {
             "outlinewidth": 0,
             "ticks": ""
            },
            "colorscale": [
             [
              0,
              "#0d0887"
             ],
             [
              0.1111111111111111,
              "#46039f"
             ],
             [
              0.2222222222222222,
              "#7201a8"
             ],
             [
              0.3333333333333333,
              "#9c179e"
             ],
             [
              0.4444444444444444,
              "#bd3786"
             ],
             [
              0.5555555555555556,
              "#d8576b"
             ],
             [
              0.6666666666666666,
              "#ed7953"
             ],
             [
              0.7777777777777778,
              "#fb9f3a"
             ],
             [
              0.8888888888888888,
              "#fdca26"
             ],
             [
              1,
              "#f0f921"
             ]
            ],
            "type": "heatmapgl"
           }
          ],
          "histogram": [
           {
            "marker": {
             "pattern": {
              "fillmode": "overlay",
              "size": 10,
              "solidity": 0.2
             }
            },
            "type": "histogram"
           }
          ],
          "histogram2d": [
           {
            "colorbar": {
             "outlinewidth": 0,
             "ticks": ""
            },
            "colorscale": [
             [
              0,
              "#0d0887"
             ],
             [
              0.1111111111111111,
              "#46039f"
             ],
             [
              0.2222222222222222,
              "#7201a8"
             ],
             [
              0.3333333333333333,
              "#9c179e"
             ],
             [
              0.4444444444444444,
              "#bd3786"
             ],
             [
              0.5555555555555556,
              "#d8576b"
             ],
             [
              0.6666666666666666,
              "#ed7953"
             ],
             [
              0.7777777777777778,
              "#fb9f3a"
             ],
             [
              0.8888888888888888,
              "#fdca26"
             ],
             [
              1,
              "#f0f921"
             ]
            ],
            "type": "histogram2d"
           }
          ],
          "histogram2dcontour": [
           {
            "colorbar": {
             "outlinewidth": 0,
             "ticks": ""
            },
            "colorscale": [
             [
              0,
              "#0d0887"
             ],
             [
              0.1111111111111111,
              "#46039f"
             ],
             [
              0.2222222222222222,
              "#7201a8"
             ],
             [
              0.3333333333333333,
              "#9c179e"
             ],
             [
              0.4444444444444444,
              "#bd3786"
             ],
             [
              0.5555555555555556,
              "#d8576b"
             ],
             [
              0.6666666666666666,
              "#ed7953"
             ],
             [
              0.7777777777777778,
              "#fb9f3a"
             ],
             [
              0.8888888888888888,
              "#fdca26"
             ],
             [
              1,
              "#f0f921"
             ]
            ],
            "type": "histogram2dcontour"
           }
          ],
          "mesh3d": [
           {
            "colorbar": {
             "outlinewidth": 0,
             "ticks": ""
            },
            "type": "mesh3d"
           }
          ],
          "parcoords": [
           {
            "line": {
             "colorbar": {
              "outlinewidth": 0,
              "ticks": ""
             }
            },
            "type": "parcoords"
           }
          ],
          "pie": [
           {
            "automargin": true,
            "type": "pie"
           }
          ],
          "scatter": [
           {
            "marker": {
             "colorbar": {
              "outlinewidth": 0,
              "ticks": ""
             }
            },
            "type": "scatter"
           }
          ],
          "scatter3d": [
           {
            "line": {
             "colorbar": {
              "outlinewidth": 0,
              "ticks": ""
             }
            },
            "marker": {
             "colorbar": {
              "outlinewidth": 0,
              "ticks": ""
             }
            },
            "type": "scatter3d"
           }
          ],
          "scattercarpet": [
           {
            "marker": {
             "colorbar": {
              "outlinewidth": 0,
              "ticks": ""
             }
            },
            "type": "scattercarpet"
           }
          ],
          "scattergeo": [
           {
            "marker": {
             "colorbar": {
              "outlinewidth": 0,
              "ticks": ""
             }
            },
            "type": "scattergeo"
           }
          ],
          "scattergl": [
           {
            "marker": {
             "colorbar": {
              "outlinewidth": 0,
              "ticks": ""
             }
            },
            "type": "scattergl"
           }
          ],
          "scattermapbox": [
           {
            "marker": {
             "colorbar": {
              "outlinewidth": 0,
              "ticks": ""
             }
            },
            "type": "scattermapbox"
           }
          ],
          "scatterpolar": [
           {
            "marker": {
             "colorbar": {
              "outlinewidth": 0,
              "ticks": ""
             }
            },
            "type": "scatterpolar"
           }
          ],
          "scatterpolargl": [
           {
            "marker": {
             "colorbar": {
              "outlinewidth": 0,
              "ticks": ""
             }
            },
            "type": "scatterpolargl"
           }
          ],
          "scatterternary": [
           {
            "marker": {
             "colorbar": {
              "outlinewidth": 0,
              "ticks": ""
             }
            },
            "type": "scatterternary"
           }
          ],
          "surface": [
           {
            "colorbar": {
             "outlinewidth": 0,
             "ticks": ""
            },
            "colorscale": [
             [
              0,
              "#0d0887"
             ],
             [
              0.1111111111111111,
              "#46039f"
             ],
             [
              0.2222222222222222,
              "#7201a8"
             ],
             [
              0.3333333333333333,
              "#9c179e"
             ],
             [
              0.4444444444444444,
              "#bd3786"
             ],
             [
              0.5555555555555556,
              "#d8576b"
             ],
             [
              0.6666666666666666,
              "#ed7953"
             ],
             [
              0.7777777777777778,
              "#fb9f3a"
             ],
             [
              0.8888888888888888,
              "#fdca26"
             ],
             [
              1,
              "#f0f921"
             ]
            ],
            "type": "surface"
           }
          ],
          "table": [
           {
            "cells": {
             "fill": {
              "color": "#EBF0F8"
             },
             "line": {
              "color": "white"
             }
            },
            "header": {
             "fill": {
              "color": "#C8D4E3"
             },
             "line": {
              "color": "white"
             }
            },
            "type": "table"
           }
          ]
         },
         "layout": {
          "annotationdefaults": {
           "arrowcolor": "#2a3f5f",
           "arrowhead": 0,
           "arrowwidth": 1
          },
          "autotypenumbers": "strict",
          "coloraxis": {
           "colorbar": {
            "outlinewidth": 0,
            "ticks": ""
           }
          },
          "colorscale": {
           "diverging": [
            [
             0,
             "#8e0152"
            ],
            [
             0.1,
             "#c51b7d"
            ],
            [
             0.2,
             "#de77ae"
            ],
            [
             0.3,
             "#f1b6da"
            ],
            [
             0.4,
             "#fde0ef"
            ],
            [
             0.5,
             "#f7f7f7"
            ],
            [
             0.6,
             "#e6f5d0"
            ],
            [
             0.7,
             "#b8e186"
            ],
            [
             0.8,
             "#7fbc41"
            ],
            [
             0.9,
             "#4d9221"
            ],
            [
             1,
             "#276419"
            ]
           ],
           "sequential": [
            [
             0,
             "#0d0887"
            ],
            [
             0.1111111111111111,
             "#46039f"
            ],
            [
             0.2222222222222222,
             "#7201a8"
            ],
            [
             0.3333333333333333,
             "#9c179e"
            ],
            [
             0.4444444444444444,
             "#bd3786"
            ],
            [
             0.5555555555555556,
             "#d8576b"
            ],
            [
             0.6666666666666666,
             "#ed7953"
            ],
            [
             0.7777777777777778,
             "#fb9f3a"
            ],
            [
             0.8888888888888888,
             "#fdca26"
            ],
            [
             1,
             "#f0f921"
            ]
           ],
           "sequentialminus": [
            [
             0,
             "#0d0887"
            ],
            [
             0.1111111111111111,
             "#46039f"
            ],
            [
             0.2222222222222222,
             "#7201a8"
            ],
            [
             0.3333333333333333,
             "#9c179e"
            ],
            [
             0.4444444444444444,
             "#bd3786"
            ],
            [
             0.5555555555555556,
             "#d8576b"
            ],
            [
             0.6666666666666666,
             "#ed7953"
            ],
            [
             0.7777777777777778,
             "#fb9f3a"
            ],
            [
             0.8888888888888888,
             "#fdca26"
            ],
            [
             1,
             "#f0f921"
            ]
           ]
          },
          "colorway": [
           "#636efa",
           "#EF553B",
           "#00cc96",
           "#ab63fa",
           "#FFA15A",
           "#19d3f3",
           "#FF6692",
           "#B6E880",
           "#FF97FF",
           "#FECB52"
          ],
          "font": {
           "color": "#2a3f5f"
          },
          "geo": {
           "bgcolor": "white",
           "lakecolor": "white",
           "landcolor": "#E5ECF6",
           "showlakes": true,
           "showland": true,
           "subunitcolor": "white"
          },
          "hoverlabel": {
           "align": "left"
          },
          "hovermode": "closest",
          "mapbox": {
           "style": "light"
          },
          "paper_bgcolor": "white",
          "plot_bgcolor": "#E5ECF6",
          "polar": {
           "angularaxis": {
            "gridcolor": "white",
            "linecolor": "white",
            "ticks": ""
           },
           "bgcolor": "#E5ECF6",
           "radialaxis": {
            "gridcolor": "white",
            "linecolor": "white",
            "ticks": ""
           }
          },
          "scene": {
           "xaxis": {
            "backgroundcolor": "#E5ECF6",
            "gridcolor": "white",
            "gridwidth": 2,
            "linecolor": "white",
            "showbackground": true,
            "ticks": "",
            "zerolinecolor": "white"
           },
           "yaxis": {
            "backgroundcolor": "#E5ECF6",
            "gridcolor": "white",
            "gridwidth": 2,
            "linecolor": "white",
            "showbackground": true,
            "ticks": "",
            "zerolinecolor": "white"
           },
           "zaxis": {
            "backgroundcolor": "#E5ECF6",
            "gridcolor": "white",
            "gridwidth": 2,
            "linecolor": "white",
            "showbackground": true,
            "ticks": "",
            "zerolinecolor": "white"
           }
          },
          "shapedefaults": {
           "line": {
            "color": "#2a3f5f"
           }
          },
          "ternary": {
           "aaxis": {
            "gridcolor": "white",
            "linecolor": "white",
            "ticks": ""
           },
           "baxis": {
            "gridcolor": "white",
            "linecolor": "white",
            "ticks": ""
           },
           "bgcolor": "#E5ECF6",
           "caxis": {
            "gridcolor": "white",
            "linecolor": "white",
            "ticks": ""
           }
          },
          "title": {
           "x": 0.05
          },
          "xaxis": {
           "automargin": true,
           "gridcolor": "white",
           "linecolor": "white",
           "ticks": "",
           "title": {
            "standoff": 15
           },
           "zerolinecolor": "white",
           "zerolinewidth": 2
          },
          "yaxis": {
           "automargin": true,
           "gridcolor": "white",
           "linecolor": "white",
           "ticks": "",
           "title": {
            "standoff": 15
           },
           "zerolinecolor": "white",
           "zerolinewidth": 2
          }
         }
        },
        "title": {
         "text": "Presidents and State of Birth"
        }
       }
      },
      "text/html": [
       "<div>                            <div id=\"1ca482a6-a2a8-4a0c-b7cd-741870321881\" class=\"plotly-graph-div\" style=\"height:525px; width:100%;\"></div>            <script type=\"text/javascript\">                require([\"plotly\"], function(Plotly) {                    window.PLOTLYENV=window.PLOTLYENV || {};                                    if (document.getElementById(\"1ca482a6-a2a8-4a0c-b7cd-741870321881\")) {                    Plotly.newPlot(                        \"1ca482a6-a2a8-4a0c-b7cd-741870321881\",                        [{\"colorscale\":[[0.0,\"rgb(209, 238, 234)\"],[0.16666666666666666,\"rgb(168, 219, 217)\"],[0.3333333333333333,\"rgb(133, 196, 201)\"],[0.5,\"rgb(104, 171, 184)\"],[0.6666666666666666,\"rgb(79, 144, 166)\"],[0.8333333333333334,\"rgb(59, 115, 143)\"],[1.0,\"rgb(42, 86, 116)\"]],\"locationmode\":\"USA-states\",\"locations\":[\"VA\",\"MA\",\"VA\",\"VA\",\"VA\",\"SC\",\"MA\",\"VA\",\"NY\",\"VA\",\"VA\",\"PA\",\"NC\",\"NY\",\"NH\",\"NC\",\"KY\",\"OH\",\"OH\",\"VT\",\"OH\",\"OH\",\"NJ\",\"OH\",\"VA\",\"OH\",\"NY\",\"OH\",\"VT\",\"IA\",\"NY\",\"MO\",\"TX\",\"TX\",\"IL\",\"CA\",\"NE\",\"MA\",\"MA\",\"GA\",\"PA\",\"NY\",\"CT\",\"AR\",\"HI\"],\"marker\":{\"line\":{\"color\":\"rgb(255,255,255)\",\"width\":2}},\"text\":[\"Virginia\",\"Massachusetts\",\"Virginia\",\"Virginia\",\"Virginia\",\"South Carolina\",\"Massachusetts\",\"Virginia\",\"New York\",\"Virginia\",\"Virginia\",\"Pennsylvania\",\"North Carolina\",\"New York\",\"New Hampshire\",\"North Carolina\",\"Kentucky\",\"Ohio\",\"Ohio\",\"Vermont\",\"Ohio\",\"Ohio\",\"New Jersey\",\"Ohio\",\"Virginia\",\"Ohio\",\"New York\",\"Ohio\",\"Vermont\",\"Iowa\",\"New York\",\"Missouri\",\"Texas\",\"Texas\",\"Illinois\",\"California\",\"Nebraska\",\"Massachusetts\",\"Massachusetts\",\"Georgia\",\"Pennsylvania\",\"New York\",\"Connecticut\",\"Arkansas\",\"Hawaii\"],\"z\":[8,4,8,8,8,1,4,8,5,8,8,2,2,5,1,2,1,7,7,2,7,7,1,7,8,7,5,7,2,1,5,1,2,2,1,1,1,4,4,1,2,5,1,1,1],\"type\":\"choropleth\"}],                        {\"geo\":{\"lakecolor\":\"rgb(85,173,240)\",\"scope\":\"usa\",\"showlakes\":true},\"template\":{\"data\":{\"barpolar\":[{\"marker\":{\"line\":{\"color\":\"#E5ECF6\",\"width\":0.5},\"pattern\":{\"fillmode\":\"overlay\",\"size\":10,\"solidity\":0.2}},\"type\":\"barpolar\"}],\"bar\":[{\"error_x\":{\"color\":\"#2a3f5f\"},\"error_y\":{\"color\":\"#2a3f5f\"},\"marker\":{\"line\":{\"color\":\"#E5ECF6\",\"width\":0.5},\"pattern\":{\"fillmode\":\"overlay\",\"size\":10,\"solidity\":0.2}},\"type\":\"bar\"}],\"carpet\":[{\"aaxis\":{\"endlinecolor\":\"#2a3f5f\",\"gridcolor\":\"white\",\"linecolor\":\"white\",\"minorgridcolor\":\"white\",\"startlinecolor\":\"#2a3f5f\"},\"baxis\":{\"endlinecolor\":\"#2a3f5f\",\"gridcolor\":\"white\",\"linecolor\":\"white\",\"minorgridcolor\":\"white\",\"startlinecolor\":\"#2a3f5f\"},\"type\":\"carpet\"}],\"choropleth\":[{\"colorbar\":{\"outlinewidth\":0,\"ticks\":\"\"},\"type\":\"choropleth\"}],\"contourcarpet\":[{\"colorbar\":{\"outlinewidth\":0,\"ticks\":\"\"},\"type\":\"contourcarpet\"}],\"contour\":[{\"colorbar\":{\"outlinewidth\":0,\"ticks\":\"\"},\"colorscale\":[[0.0,\"#0d0887\"],[0.1111111111111111,\"#46039f\"],[0.2222222222222222,\"#7201a8\"],[0.3333333333333333,\"#9c179e\"],[0.4444444444444444,\"#bd3786\"],[0.5555555555555556,\"#d8576b\"],[0.6666666666666666,\"#ed7953\"],[0.7777777777777778,\"#fb9f3a\"],[0.8888888888888888,\"#fdca26\"],[1.0,\"#f0f921\"]],\"type\":\"contour\"}],\"heatmapgl\":[{\"colorbar\":{\"outlinewidth\":0,\"ticks\":\"\"},\"colorscale\":[[0.0,\"#0d0887\"],[0.1111111111111111,\"#46039f\"],[0.2222222222222222,\"#7201a8\"],[0.3333333333333333,\"#9c179e\"],[0.4444444444444444,\"#bd3786\"],[0.5555555555555556,\"#d8576b\"],[0.6666666666666666,\"#ed7953\"],[0.7777777777777778,\"#fb9f3a\"],[0.8888888888888888,\"#fdca26\"],[1.0,\"#f0f921\"]],\"type\":\"heatmapgl\"}],\"heatmap\":[{\"colorbar\":{\"outlinewidth\":0,\"ticks\":\"\"},\"colorscale\":[[0.0,\"#0d0887\"],[0.1111111111111111,\"#46039f\"],[0.2222222222222222,\"#7201a8\"],[0.3333333333333333,\"#9c179e\"],[0.4444444444444444,\"#bd3786\"],[0.5555555555555556,\"#d8576b\"],[0.6666666666666666,\"#ed7953\"],[0.7777777777777778,\"#fb9f3a\"],[0.8888888888888888,\"#fdca26\"],[1.0,\"#f0f921\"]],\"type\":\"heatmap\"}],\"histogram2dcontour\":[{\"colorbar\":{\"outlinewidth\":0,\"ticks\":\"\"},\"colorscale\":[[0.0,\"#0d0887\"],[0.1111111111111111,\"#46039f\"],[0.2222222222222222,\"#7201a8\"],[0.3333333333333333,\"#9c179e\"],[0.4444444444444444,\"#bd3786\"],[0.5555555555555556,\"#d8576b\"],[0.6666666666666666,\"#ed7953\"],[0.7777777777777778,\"#fb9f3a\"],[0.8888888888888888,\"#fdca26\"],[1.0,\"#f0f921\"]],\"type\":\"histogram2dcontour\"}],\"histogram2d\":[{\"colorbar\":{\"outlinewidth\":0,\"ticks\":\"\"},\"colorscale\":[[0.0,\"#0d0887\"],[0.1111111111111111,\"#46039f\"],[0.2222222222222222,\"#7201a8\"],[0.3333333333333333,\"#9c179e\"],[0.4444444444444444,\"#bd3786\"],[0.5555555555555556,\"#d8576b\"],[0.6666666666666666,\"#ed7953\"],[0.7777777777777778,\"#fb9f3a\"],[0.8888888888888888,\"#fdca26\"],[1.0,\"#f0f921\"]],\"type\":\"histogram2d\"}],\"histogram\":[{\"marker\":{\"pattern\":{\"fillmode\":\"overlay\",\"size\":10,\"solidity\":0.2}},\"type\":\"histogram\"}],\"mesh3d\":[{\"colorbar\":{\"outlinewidth\":0,\"ticks\":\"\"},\"type\":\"mesh3d\"}],\"parcoords\":[{\"line\":{\"colorbar\":{\"outlinewidth\":0,\"ticks\":\"\"}},\"type\":\"parcoords\"}],\"pie\":[{\"automargin\":true,\"type\":\"pie\"}],\"scatter3d\":[{\"line\":{\"colorbar\":{\"outlinewidth\":0,\"ticks\":\"\"}},\"marker\":{\"colorbar\":{\"outlinewidth\":0,\"ticks\":\"\"}},\"type\":\"scatter3d\"}],\"scattercarpet\":[{\"marker\":{\"colorbar\":{\"outlinewidth\":0,\"ticks\":\"\"}},\"type\":\"scattercarpet\"}],\"scattergeo\":[{\"marker\":{\"colorbar\":{\"outlinewidth\":0,\"ticks\":\"\"}},\"type\":\"scattergeo\"}],\"scattergl\":[{\"marker\":{\"colorbar\":{\"outlinewidth\":0,\"ticks\":\"\"}},\"type\":\"scattergl\"}],\"scattermapbox\":[{\"marker\":{\"colorbar\":{\"outlinewidth\":0,\"ticks\":\"\"}},\"type\":\"scattermapbox\"}],\"scatterpolargl\":[{\"marker\":{\"colorbar\":{\"outlinewidth\":0,\"ticks\":\"\"}},\"type\":\"scatterpolargl\"}],\"scatterpolar\":[{\"marker\":{\"colorbar\":{\"outlinewidth\":0,\"ticks\":\"\"}},\"type\":\"scatterpolar\"}],\"scatter\":[{\"marker\":{\"colorbar\":{\"outlinewidth\":0,\"ticks\":\"\"}},\"type\":\"scatter\"}],\"scatterternary\":[{\"marker\":{\"colorbar\":{\"outlinewidth\":0,\"ticks\":\"\"}},\"type\":\"scatterternary\"}],\"surface\":[{\"colorbar\":{\"outlinewidth\":0,\"ticks\":\"\"},\"colorscale\":[[0.0,\"#0d0887\"],[0.1111111111111111,\"#46039f\"],[0.2222222222222222,\"#7201a8\"],[0.3333333333333333,\"#9c179e\"],[0.4444444444444444,\"#bd3786\"],[0.5555555555555556,\"#d8576b\"],[0.6666666666666666,\"#ed7953\"],[0.7777777777777778,\"#fb9f3a\"],[0.8888888888888888,\"#fdca26\"],[1.0,\"#f0f921\"]],\"type\":\"surface\"}],\"table\":[{\"cells\":{\"fill\":{\"color\":\"#EBF0F8\"},\"line\":{\"color\":\"white\"}},\"header\":{\"fill\":{\"color\":\"#C8D4E3\"},\"line\":{\"color\":\"white\"}},\"type\":\"table\"}]},\"layout\":{\"annotationdefaults\":{\"arrowcolor\":\"#2a3f5f\",\"arrowhead\":0,\"arrowwidth\":1},\"autotypenumbers\":\"strict\",\"coloraxis\":{\"colorbar\":{\"outlinewidth\":0,\"ticks\":\"\"}},\"colorscale\":{\"diverging\":[[0,\"#8e0152\"],[0.1,\"#c51b7d\"],[0.2,\"#de77ae\"],[0.3,\"#f1b6da\"],[0.4,\"#fde0ef\"],[0.5,\"#f7f7f7\"],[0.6,\"#e6f5d0\"],[0.7,\"#b8e186\"],[0.8,\"#7fbc41\"],[0.9,\"#4d9221\"],[1,\"#276419\"]],\"sequential\":[[0.0,\"#0d0887\"],[0.1111111111111111,\"#46039f\"],[0.2222222222222222,\"#7201a8\"],[0.3333333333333333,\"#9c179e\"],[0.4444444444444444,\"#bd3786\"],[0.5555555555555556,\"#d8576b\"],[0.6666666666666666,\"#ed7953\"],[0.7777777777777778,\"#fb9f3a\"],[0.8888888888888888,\"#fdca26\"],[1.0,\"#f0f921\"]],\"sequentialminus\":[[0.0,\"#0d0887\"],[0.1111111111111111,\"#46039f\"],[0.2222222222222222,\"#7201a8\"],[0.3333333333333333,\"#9c179e\"],[0.4444444444444444,\"#bd3786\"],[0.5555555555555556,\"#d8576b\"],[0.6666666666666666,\"#ed7953\"],[0.7777777777777778,\"#fb9f3a\"],[0.8888888888888888,\"#fdca26\"],[1.0,\"#f0f921\"]]},\"colorway\":[\"#636efa\",\"#EF553B\",\"#00cc96\",\"#ab63fa\",\"#FFA15A\",\"#19d3f3\",\"#FF6692\",\"#B6E880\",\"#FF97FF\",\"#FECB52\"],\"font\":{\"color\":\"#2a3f5f\"},\"geo\":{\"bgcolor\":\"white\",\"lakecolor\":\"white\",\"landcolor\":\"#E5ECF6\",\"showlakes\":true,\"showland\":true,\"subunitcolor\":\"white\"},\"hoverlabel\":{\"align\":\"left\"},\"hovermode\":\"closest\",\"mapbox\":{\"style\":\"light\"},\"paper_bgcolor\":\"white\",\"plot_bgcolor\":\"#E5ECF6\",\"polar\":{\"angularaxis\":{\"gridcolor\":\"white\",\"linecolor\":\"white\",\"ticks\":\"\"},\"bgcolor\":\"#E5ECF6\",\"radialaxis\":{\"gridcolor\":\"white\",\"linecolor\":\"white\",\"ticks\":\"\"}},\"scene\":{\"xaxis\":{\"backgroundcolor\":\"#E5ECF6\",\"gridcolor\":\"white\",\"gridwidth\":2,\"linecolor\":\"white\",\"showbackground\":true,\"ticks\":\"\",\"zerolinecolor\":\"white\"},\"yaxis\":{\"backgroundcolor\":\"#E5ECF6\",\"gridcolor\":\"white\",\"gridwidth\":2,\"linecolor\":\"white\",\"showbackground\":true,\"ticks\":\"\",\"zerolinecolor\":\"white\"},\"zaxis\":{\"backgroundcolor\":\"#E5ECF6\",\"gridcolor\":\"white\",\"gridwidth\":2,\"linecolor\":\"white\",\"showbackground\":true,\"ticks\":\"\",\"zerolinecolor\":\"white\"}},\"shapedefaults\":{\"line\":{\"color\":\"#2a3f5f\"}},\"ternary\":{\"aaxis\":{\"gridcolor\":\"white\",\"linecolor\":\"white\",\"ticks\":\"\"},\"baxis\":{\"gridcolor\":\"white\",\"linecolor\":\"white\",\"ticks\":\"\"},\"bgcolor\":\"#E5ECF6\",\"caxis\":{\"gridcolor\":\"white\",\"linecolor\":\"white\",\"ticks\":\"\"}},\"title\":{\"x\":0.05},\"xaxis\":{\"automargin\":true,\"gridcolor\":\"white\",\"linecolor\":\"white\",\"ticks\":\"\",\"title\":{\"standoff\":15},\"zerolinecolor\":\"white\",\"zerolinewidth\":2},\"yaxis\":{\"automargin\":true,\"gridcolor\":\"white\",\"linecolor\":\"white\",\"ticks\":\"\",\"title\":{\"standoff\":15},\"zerolinecolor\":\"white\",\"zerolinewidth\":2}}},\"title\":{\"text\":\"Presidents and State of Birth\"}},                        {\"responsive\": true}                    ).then(function(){\n",
       "                            \n",
       "var gd = document.getElementById('1ca482a6-a2a8-4a0c-b7cd-741870321881');\n",
       "var x = new MutationObserver(function (mutations, observer) {{\n",
       "        var display = window.getComputedStyle(gd).display;\n",
       "        if (!display || display === 'none') {{\n",
       "            console.log([gd, 'removed!']);\n",
       "            Plotly.purge(gd);\n",
       "            observer.disconnect();\n",
       "        }}\n",
       "}});\n",
       "\n",
       "// Listen for the removal of the full notebook cells\n",
       "var notebookContainer = gd.closest('#notebook-container');\n",
       "if (notebookContainer) {{\n",
       "    x.observe(notebookContainer, {childList: true});\n",
       "}}\n",
       "\n",
       "// Listen for the clearing of the current output cell\n",
       "var outputEl = gd.closest('.output');\n",
       "if (outputEl) {{\n",
       "    x.observe(outputEl, {childList: true});\n",
       "}}\n",
       "\n",
       "                        })                };                });            </script>        </div>"
      ]
     },
     "metadata": {},
     "output_type": "display_data"
    }
   ],
   "source": [
    "iplot(choromap)"
   ]
  },
  {
   "cell_type": "code",
   "execution_count": 63,
   "id": "bd984d7b",
   "metadata": {},
   "outputs": [
    {
     "data": {
      "text/html": [
       "<div>\n",
       "<style scoped>\n",
       "    .dataframe tbody tr th:only-of-type {\n",
       "        vertical-align: middle;\n",
       "    }\n",
       "\n",
       "    .dataframe tbody tr th {\n",
       "        vertical-align: top;\n",
       "    }\n",
       "\n",
       "    .dataframe thead th {\n",
       "        text-align: right;\n",
       "    }\n",
       "</style>\n",
       "<table border=\"1\" class=\"dataframe\">\n",
       "  <thead>\n",
       "    <tr style=\"text-align: right;\">\n",
       "      <th></th>\n",
       "      <th>President</th>\n",
       "    </tr>\n",
       "    <tr>\n",
       "      <th>State of birth</th>\n",
       "      <th></th>\n",
       "    </tr>\n",
       "  </thead>\n",
       "  <tbody>\n",
       "    <tr>\n",
       "      <th>Arkansas</th>\n",
       "      <td>1</td>\n",
       "    </tr>\n",
       "    <tr>\n",
       "      <th>California</th>\n",
       "      <td>1</td>\n",
       "    </tr>\n",
       "    <tr>\n",
       "      <th>Connecticut</th>\n",
       "      <td>1</td>\n",
       "    </tr>\n",
       "    <tr>\n",
       "      <th>Georgia</th>\n",
       "      <td>1</td>\n",
       "    </tr>\n",
       "    <tr>\n",
       "      <th>Hawaii</th>\n",
       "      <td>1</td>\n",
       "    </tr>\n",
       "    <tr>\n",
       "      <th>Illinois</th>\n",
       "      <td>1</td>\n",
       "    </tr>\n",
       "    <tr>\n",
       "      <th>Iowa</th>\n",
       "      <td>1</td>\n",
       "    </tr>\n",
       "    <tr>\n",
       "      <th>Kentucky</th>\n",
       "      <td>1</td>\n",
       "    </tr>\n",
       "    <tr>\n",
       "      <th>Massachusetts</th>\n",
       "      <td>4</td>\n",
       "    </tr>\n",
       "    <tr>\n",
       "      <th>Missouri</th>\n",
       "      <td>1</td>\n",
       "    </tr>\n",
       "    <tr>\n",
       "      <th>Nebraska</th>\n",
       "      <td>1</td>\n",
       "    </tr>\n",
       "    <tr>\n",
       "      <th>New Hampshire</th>\n",
       "      <td>1</td>\n",
       "    </tr>\n",
       "    <tr>\n",
       "      <th>New Jersey</th>\n",
       "      <td>1</td>\n",
       "    </tr>\n",
       "    <tr>\n",
       "      <th>New York</th>\n",
       "      <td>5</td>\n",
       "    </tr>\n",
       "    <tr>\n",
       "      <th>North Carolina</th>\n",
       "      <td>2</td>\n",
       "    </tr>\n",
       "    <tr>\n",
       "      <th>Ohio</th>\n",
       "      <td>7</td>\n",
       "    </tr>\n",
       "    <tr>\n",
       "      <th>Pennsylvania</th>\n",
       "      <td>2</td>\n",
       "    </tr>\n",
       "    <tr>\n",
       "      <th>South Carolina</th>\n",
       "      <td>1</td>\n",
       "    </tr>\n",
       "    <tr>\n",
       "      <th>Texas</th>\n",
       "      <td>2</td>\n",
       "    </tr>\n",
       "    <tr>\n",
       "      <th>Vermont</th>\n",
       "      <td>2</td>\n",
       "    </tr>\n",
       "    <tr>\n",
       "      <th>Virginia</th>\n",
       "      <td>8</td>\n",
       "    </tr>\n",
       "  </tbody>\n",
       "</table>\n",
       "</div>"
      ],
      "text/plain": [
       "                President\n",
       "State of birth           \n",
       "Arkansas                1\n",
       "California              1\n",
       "Connecticut             1\n",
       "Georgia                 1\n",
       "Hawaii                  1\n",
       "Illinois                1\n",
       "Iowa                    1\n",
       "Kentucky                1\n",
       "Massachusetts           4\n",
       "Missouri                1\n",
       "Nebraska                1\n",
       "New Hampshire           1\n",
       "New Jersey              1\n",
       "New York                5\n",
       "North Carolina          2\n",
       "Ohio                    7\n",
       "Pennsylvania            2\n",
       "South Carolina          1\n",
       "Texas                   2\n",
       "Vermont                 2\n",
       "Virginia                8"
      ]
     },
     "execution_count": 63,
     "metadata": {},
     "output_type": "execute_result"
    }
   ],
   "source": [
    "pd.pivot_table(pres_birth, index = [\"State of birth\"],aggfunc=\"count\", values= \"President\")"
   ]
  },
  {
   "cell_type": "code",
   "execution_count": 64,
   "id": "3f072ad4",
   "metadata": {},
   "outputs": [
    {
     "data": {
      "text/html": [
       "<div>\n",
       "<style scoped>\n",
       "    .dataframe tbody tr th:only-of-type {\n",
       "        vertical-align: middle;\n",
       "    }\n",
       "\n",
       "    .dataframe tbody tr th {\n",
       "        vertical-align: top;\n",
       "    }\n",
       "\n",
       "    .dataframe thead th {\n",
       "        text-align: right;\n",
       "    }\n",
       "</style>\n",
       "<table border=\"1\" class=\"dataframe\">\n",
       "  <thead>\n",
       "    <tr style=\"text-align: right;\">\n",
       "      <th></th>\n",
       "      <th></th>\n",
       "      <th>Age at Presidency</th>\n",
       "    </tr>\n",
       "    <tr>\n",
       "      <th>State of birth</th>\n",
       "      <th>President</th>\n",
       "      <th></th>\n",
       "    </tr>\n",
       "  </thead>\n",
       "  <tbody>\n",
       "    <tr>\n",
       "      <th>Arkansas</th>\n",
       "      <th>Bill Clinton</th>\n",
       "      <td>46</td>\n",
       "    </tr>\n",
       "    <tr>\n",
       "      <th>California</th>\n",
       "      <th>Richard Nixon</th>\n",
       "      <td>56</td>\n",
       "    </tr>\n",
       "    <tr>\n",
       "      <th>Connecticut</th>\n",
       "      <th>George W. Bush</th>\n",
       "      <td>54</td>\n",
       "    </tr>\n",
       "    <tr>\n",
       "      <th>Georgia</th>\n",
       "      <th>Jimmy Carter</th>\n",
       "      <td>52</td>\n",
       "    </tr>\n",
       "    <tr>\n",
       "      <th>Hawaii</th>\n",
       "      <th>Barack Obama</th>\n",
       "      <td>47</td>\n",
       "    </tr>\n",
       "    <tr>\n",
       "      <th>Illinois</th>\n",
       "      <th>Ronald Reagan</th>\n",
       "      <td>69</td>\n",
       "    </tr>\n",
       "    <tr>\n",
       "      <th>Iowa</th>\n",
       "      <th>Herbert Hoover</th>\n",
       "      <td>54</td>\n",
       "    </tr>\n",
       "    <tr>\n",
       "      <th>Kentucky</th>\n",
       "      <th>Abraham Lincoln</th>\n",
       "      <td>52</td>\n",
       "    </tr>\n",
       "    <tr>\n",
       "      <th rowspan=\"4\" valign=\"top\">Massachusetts</th>\n",
       "      <th>George H. W. Bush</th>\n",
       "      <td>64</td>\n",
       "    </tr>\n",
       "    <tr>\n",
       "      <th>John Adams</th>\n",
       "      <td>61</td>\n",
       "    </tr>\n",
       "    <tr>\n",
       "      <th>John F. Kennedy</th>\n",
       "      <td>43</td>\n",
       "    </tr>\n",
       "    <tr>\n",
       "      <th>John Quincy Adams</th>\n",
       "      <td>57</td>\n",
       "    </tr>\n",
       "    <tr>\n",
       "      <th>Missouri</th>\n",
       "      <th>Harry S. Truman</th>\n",
       "      <td>60</td>\n",
       "    </tr>\n",
       "    <tr>\n",
       "      <th>Nebraska</th>\n",
       "      <th>Gerald Ford</th>\n",
       "      <td>61</td>\n",
       "    </tr>\n",
       "    <tr>\n",
       "      <th>New Hampshire</th>\n",
       "      <th>Franklin Pierce</th>\n",
       "      <td>48</td>\n",
       "    </tr>\n",
       "    <tr>\n",
       "      <th>New Jersey</th>\n",
       "      <th>Grover Cleveland</th>\n",
       "      <td>47</td>\n",
       "    </tr>\n",
       "    <tr>\n",
       "      <th rowspan=\"5\" valign=\"top\">New York</th>\n",
       "      <th>Donald Trump</th>\n",
       "      <td>70</td>\n",
       "    </tr>\n",
       "    <tr>\n",
       "      <th>Franklin D. Roosevelt</th>\n",
       "      <td>51</td>\n",
       "    </tr>\n",
       "    <tr>\n",
       "      <th>Martin Van Buren</th>\n",
       "      <td>54</td>\n",
       "    </tr>\n",
       "    <tr>\n",
       "      <th>Millard Fillmore</th>\n",
       "      <td>50</td>\n",
       "    </tr>\n",
       "    <tr>\n",
       "      <th>Theodore Roosevelt</th>\n",
       "      <td>42</td>\n",
       "    </tr>\n",
       "    <tr>\n",
       "      <th rowspan=\"2\" valign=\"top\">North Carolina</th>\n",
       "      <th>Andrew Johnson</th>\n",
       "      <td>56</td>\n",
       "    </tr>\n",
       "    <tr>\n",
       "      <th>James K. Polk</th>\n",
       "      <td>49</td>\n",
       "    </tr>\n",
       "    <tr>\n",
       "      <th rowspan=\"7\" valign=\"top\">Ohio</th>\n",
       "      <th>Benjamin Harrison</th>\n",
       "      <td>55</td>\n",
       "    </tr>\n",
       "    <tr>\n",
       "      <th>James A. Garfield</th>\n",
       "      <td>49</td>\n",
       "    </tr>\n",
       "    <tr>\n",
       "      <th>Rutherford B. Hayes</th>\n",
       "      <td>54</td>\n",
       "    </tr>\n",
       "    <tr>\n",
       "      <th>Ulysses S. Grant</th>\n",
       "      <td>46</td>\n",
       "    </tr>\n",
       "    <tr>\n",
       "      <th>Warren G. Harding</th>\n",
       "      <td>55</td>\n",
       "    </tr>\n",
       "    <tr>\n",
       "      <th>William Howard Taft</th>\n",
       "      <td>51</td>\n",
       "    </tr>\n",
       "    <tr>\n",
       "      <th>William McKinley</th>\n",
       "      <td>54</td>\n",
       "    </tr>\n",
       "    <tr>\n",
       "      <th rowspan=\"2\" valign=\"top\">Pennsylvania</th>\n",
       "      <th>James Buchanan</th>\n",
       "      <td>65</td>\n",
       "    </tr>\n",
       "    <tr>\n",
       "      <th>Joseph R. Biden</th>\n",
       "      <td>78</td>\n",
       "    </tr>\n",
       "    <tr>\n",
       "      <th>South Carolina</th>\n",
       "      <th>Andrew Jackson</th>\n",
       "      <td>61</td>\n",
       "    </tr>\n",
       "    <tr>\n",
       "      <th rowspan=\"2\" valign=\"top\">Texas</th>\n",
       "      <th>Dwight D. Eisenhower</th>\n",
       "      <td>62</td>\n",
       "    </tr>\n",
       "    <tr>\n",
       "      <th>Lyndon B. Johnson</th>\n",
       "      <td>55</td>\n",
       "    </tr>\n",
       "    <tr>\n",
       "      <th rowspan=\"2\" valign=\"top\">Vermont</th>\n",
       "      <th>Calvin Coolidge</th>\n",
       "      <td>51</td>\n",
       "    </tr>\n",
       "    <tr>\n",
       "      <th>Chester A. Arthur</th>\n",
       "      <td>51</td>\n",
       "    </tr>\n",
       "    <tr>\n",
       "      <th rowspan=\"8\" valign=\"top\">Virginia</th>\n",
       "      <th>George Washington</th>\n",
       "      <td>57</td>\n",
       "    </tr>\n",
       "    <tr>\n",
       "      <th>James Madison</th>\n",
       "      <td>57</td>\n",
       "    </tr>\n",
       "    <tr>\n",
       "      <th>James Monroe</th>\n",
       "      <td>58</td>\n",
       "    </tr>\n",
       "    <tr>\n",
       "      <th>John Tyler</th>\n",
       "      <td>51</td>\n",
       "    </tr>\n",
       "    <tr>\n",
       "      <th>Thomas Jefferson</th>\n",
       "      <td>57</td>\n",
       "    </tr>\n",
       "    <tr>\n",
       "      <th>William Henry Harrison</th>\n",
       "      <td>68</td>\n",
       "    </tr>\n",
       "    <tr>\n",
       "      <th>Woodrow Wilson</th>\n",
       "      <td>56</td>\n",
       "    </tr>\n",
       "    <tr>\n",
       "      <th>Zachary Taylor</th>\n",
       "      <td>64</td>\n",
       "    </tr>\n",
       "  </tbody>\n",
       "</table>\n",
       "</div>"
      ],
      "text/plain": [
       "                                       Age at Presidency\n",
       "State of birth President                                \n",
       "Arkansas       Bill Clinton                           46\n",
       "California     Richard Nixon                          56\n",
       "Connecticut    George W. Bush                         54\n",
       "Georgia        Jimmy Carter                           52\n",
       "Hawaii         Barack Obama                           47\n",
       "Illinois       Ronald Reagan                          69\n",
       "Iowa           Herbert Hoover                         54\n",
       "Kentucky       Abraham Lincoln                        52\n",
       "Massachusetts  George H. W. Bush                      64\n",
       "               John Adams                             61\n",
       "               John F. Kennedy                        43\n",
       "               John Quincy Adams                      57\n",
       "Missouri       Harry S. Truman                        60\n",
       "Nebraska       Gerald Ford                            61\n",
       "New Hampshire  Franklin Pierce                        48\n",
       "New Jersey     Grover Cleveland                       47\n",
       "New York       Donald Trump                           70\n",
       "               Franklin D. Roosevelt                  51\n",
       "               Martin Van Buren                       54\n",
       "               Millard Fillmore                       50\n",
       "               Theodore Roosevelt                     42\n",
       "North Carolina Andrew Johnson                         56\n",
       "               James K. Polk                          49\n",
       "Ohio           Benjamin Harrison                      55\n",
       "               James A. Garfield                      49\n",
       "               Rutherford B. Hayes                    54\n",
       "               Ulysses S. Grant                       46\n",
       "               Warren G. Harding                      55\n",
       "               William Howard Taft                    51\n",
       "               William McKinley                       54\n",
       "Pennsylvania   James Buchanan                         65\n",
       "               Joseph R. Biden                        78\n",
       "South Carolina Andrew Jackson                         61\n",
       "Texas          Dwight D. Eisenhower                   62\n",
       "               Lyndon B. Johnson                      55\n",
       "Vermont        Calvin Coolidge                        51\n",
       "               Chester A. Arthur                      51\n",
       "Virginia       George Washington                      57\n",
       "               James Madison                          57\n",
       "               James Monroe                           58\n",
       "               John Tyler                             51\n",
       "               Thomas Jefferson                       57\n",
       "               William Henry Harrison                 68\n",
       "               Woodrow Wilson                         56\n",
       "               Zachary Taylor                         64"
      ]
     },
     "execution_count": 64,
     "metadata": {},
     "output_type": "execute_result"
    }
   ],
   "source": [
    "pd.pivot_table(pres_birth, index = [\"State of birth\",\"President\"],aggfunc=\"sum\", values= \"Age at Presidency\")"
   ]
  },
  {
   "cell_type": "markdown",
   "id": "0eeefa99",
   "metadata": {},
   "source": [
    "### Presidents & States of Primary affiliation"
   ]
  },
  {
   "cell_type": "code",
   "execution_count": 65,
   "id": "ba2efa72",
   "metadata": {},
   "outputs": [],
   "source": [
    "pres_aff= pd.read_html(\"https://en.wikipedia.org/wiki/List_of_presidents_of_the_United_States_by_home_state\")[2]"
   ]
  },
  {
   "cell_type": "code",
   "execution_count": 66,
   "id": "6d0c96b8",
   "metadata": {},
   "outputs": [],
   "source": [
    "pres_aff[\"State\"]=pres_aff[\"State\"].str.split(\"[\",expand=True).drop(1, axis=1)"
   ]
  },
  {
   "cell_type": "code",
   "execution_count": 67,
   "id": "bc60513d",
   "metadata": {},
   "outputs": [],
   "source": [
    "pres_aff['Code'] = pres_aff['State'].map(code)"
   ]
  },
  {
   "cell_type": "code",
   "execution_count": 68,
   "id": "eab307ee",
   "metadata": {},
   "outputs": [],
   "source": [
    "pres_aff['No of Presidents from the State'] = pres_aff['State'].map(pres_aff['State'].value_counts())"
   ]
  },
  {
   "cell_type": "code",
   "execution_count": 69,
   "id": "580c3813",
   "metadata": {},
   "outputs": [],
   "source": [
    "data2 = dict(type='choropleth',\n",
    "            colorscale = 'viridis',\n",
    "            locations = pres_aff['Code'],\n",
    "            z = pres_aff['No of Presidents from the State'],\n",
    "            locationmode = 'USA-states',\n",
    "            text=pres_aff[\"State\"],\n",
    "            marker = dict(line = dict(color = 'rgb(255,255,255)',width = 2)),\n",
    "            \n",
    "            ) \n",
    "\n",
    "layout2 = dict(title = 'Presidents and State of Affiliation',\n",
    "              geo = dict(scope='usa',\n",
    "                         showlakes = True,\n",
    "                         lakecolor = 'rgb(85,173,240)')\n",
    "             )"
   ]
  },
  {
   "cell_type": "code",
   "execution_count": 70,
   "id": "8bd238c2",
   "metadata": {},
   "outputs": [],
   "source": [
    "choromap2 = go.Figure(data = [data2],layout = layout2)"
   ]
  },
  {
   "cell_type": "code",
   "execution_count": 71,
   "id": "add7c5dd",
   "metadata": {},
   "outputs": [
    {
     "data": {
      "application/vnd.plotly.v1+json": {
       "config": {
        "linkText": "Export to plot.ly",
        "plotlyServerURL": "https://plot.ly",
        "showLink": false
       },
       "data": [
        {
         "colorscale": [
          [
           0,
           "#440154"
          ],
          [
           0.1111111111111111,
           "#482878"
          ],
          [
           0.2222222222222222,
           "#3e4989"
          ],
          [
           0.3333333333333333,
           "#31688e"
          ],
          [
           0.4444444444444444,
           "#26828e"
          ],
          [
           0.5555555555555556,
           "#1f9e89"
          ],
          [
           0.6666666666666666,
           "#35b779"
          ],
          [
           0.7777777777777778,
           "#6ece58"
          ],
          [
           0.8888888888888888,
           "#b5de2b"
          ],
          [
           1,
           "#fde725"
          ]
         ],
         "locationmode": "USA-states",
         "locations": [
          "VA",
          "MA",
          "VA",
          "VA",
          "VA",
          "MA",
          "TN",
          "NY",
          "OH",
          "VA",
          "TN",
          "KY",
          "NY",
          "NH",
          "PA",
          "IL",
          "TN",
          "IL",
          "OH",
          "OH",
          "NY",
          "NY",
          "IN",
          "OH",
          "NY",
          "OH",
          "NJ",
          "OH",
          "MA",
          "CA",
          "NY",
          "MO",
          "KS",
          "MA",
          "TX",
          "CA",
          "MI",
          "GA",
          "CA",
          "TX",
          "AR",
          "TX",
          "IL",
          "NY",
          "DE"
         ],
         "marker": {
          "line": {
           "color": "rgb(255,255,255)",
           "width": 2
          }
         },
         "text": [
          "Virginia",
          "Massachusetts",
          "Virginia",
          "Virginia",
          "Virginia",
          "Massachusetts",
          "Tennessee",
          "New York",
          "Ohio",
          "Virginia",
          "Tennessee",
          "Kentucky",
          "New York",
          "New Hampshire",
          "Pennsylvania",
          "Illinois",
          "Tennessee",
          "Illinois",
          "Ohio",
          "Ohio",
          "New York",
          "New York",
          "Indiana",
          "Ohio",
          "New York",
          "Ohio",
          "New Jersey",
          "Ohio",
          "Massachusetts",
          "California",
          "New York",
          "Missouri",
          "Kansas",
          "Massachusetts",
          "Texas",
          "California",
          "Michigan",
          "Georgia",
          "California",
          "Texas",
          "Arkansas",
          "Texas",
          "Illinois",
          "New York",
          "Delaware"
         ],
         "type": "choropleth",
         "z": [
          5,
          4,
          5,
          5,
          5,
          4,
          3,
          7,
          6,
          5,
          3,
          1,
          7,
          1,
          1,
          3,
          3,
          3,
          6,
          6,
          7,
          7,
          1,
          6,
          7,
          6,
          1,
          6,
          4,
          3,
          7,
          1,
          1,
          4,
          3,
          3,
          1,
          1,
          3,
          3,
          1,
          3,
          3,
          7,
          1
         ]
        }
       ],
       "layout": {
        "geo": {
         "lakecolor": "rgb(85,173,240)",
         "scope": "usa",
         "showlakes": true
        },
        "template": {
         "data": {
          "bar": [
           {
            "error_x": {
             "color": "#2a3f5f"
            },
            "error_y": {
             "color": "#2a3f5f"
            },
            "marker": {
             "line": {
              "color": "#E5ECF6",
              "width": 0.5
             },
             "pattern": {
              "fillmode": "overlay",
              "size": 10,
              "solidity": 0.2
             }
            },
            "type": "bar"
           }
          ],
          "barpolar": [
           {
            "marker": {
             "line": {
              "color": "#E5ECF6",
              "width": 0.5
             },
             "pattern": {
              "fillmode": "overlay",
              "size": 10,
              "solidity": 0.2
             }
            },
            "type": "barpolar"
           }
          ],
          "carpet": [
           {
            "aaxis": {
             "endlinecolor": "#2a3f5f",
             "gridcolor": "white",
             "linecolor": "white",
             "minorgridcolor": "white",
             "startlinecolor": "#2a3f5f"
            },
            "baxis": {
             "endlinecolor": "#2a3f5f",
             "gridcolor": "white",
             "linecolor": "white",
             "minorgridcolor": "white",
             "startlinecolor": "#2a3f5f"
            },
            "type": "carpet"
           }
          ],
          "choropleth": [
           {
            "colorbar": {
             "outlinewidth": 0,
             "ticks": ""
            },
            "type": "choropleth"
           }
          ],
          "contour": [
           {
            "colorbar": {
             "outlinewidth": 0,
             "ticks": ""
            },
            "colorscale": [
             [
              0,
              "#0d0887"
             ],
             [
              0.1111111111111111,
              "#46039f"
             ],
             [
              0.2222222222222222,
              "#7201a8"
             ],
             [
              0.3333333333333333,
              "#9c179e"
             ],
             [
              0.4444444444444444,
              "#bd3786"
             ],
             [
              0.5555555555555556,
              "#d8576b"
             ],
             [
              0.6666666666666666,
              "#ed7953"
             ],
             [
              0.7777777777777778,
              "#fb9f3a"
             ],
             [
              0.8888888888888888,
              "#fdca26"
             ],
             [
              1,
              "#f0f921"
             ]
            ],
            "type": "contour"
           }
          ],
          "contourcarpet": [
           {
            "colorbar": {
             "outlinewidth": 0,
             "ticks": ""
            },
            "type": "contourcarpet"
           }
          ],
          "heatmap": [
           {
            "colorbar": {
             "outlinewidth": 0,
             "ticks": ""
            },
            "colorscale": [
             [
              0,
              "#0d0887"
             ],
             [
              0.1111111111111111,
              "#46039f"
             ],
             [
              0.2222222222222222,
              "#7201a8"
             ],
             [
              0.3333333333333333,
              "#9c179e"
             ],
             [
              0.4444444444444444,
              "#bd3786"
             ],
             [
              0.5555555555555556,
              "#d8576b"
             ],
             [
              0.6666666666666666,
              "#ed7953"
             ],
             [
              0.7777777777777778,
              "#fb9f3a"
             ],
             [
              0.8888888888888888,
              "#fdca26"
             ],
             [
              1,
              "#f0f921"
             ]
            ],
            "type": "heatmap"
           }
          ],
          "heatmapgl": [
           {
            "colorbar": {
             "outlinewidth": 0,
             "ticks": ""
            },
            "colorscale": [
             [
              0,
              "#0d0887"
             ],
             [
              0.1111111111111111,
              "#46039f"
             ],
             [
              0.2222222222222222,
              "#7201a8"
             ],
             [
              0.3333333333333333,
              "#9c179e"
             ],
             [
              0.4444444444444444,
              "#bd3786"
             ],
             [
              0.5555555555555556,
              "#d8576b"
             ],
             [
              0.6666666666666666,
              "#ed7953"
             ],
             [
              0.7777777777777778,
              "#fb9f3a"
             ],
             [
              0.8888888888888888,
              "#fdca26"
             ],
             [
              1,
              "#f0f921"
             ]
            ],
            "type": "heatmapgl"
           }
          ],
          "histogram": [
           {
            "marker": {
             "pattern": {
              "fillmode": "overlay",
              "size": 10,
              "solidity": 0.2
             }
            },
            "type": "histogram"
           }
          ],
          "histogram2d": [
           {
            "colorbar": {
             "outlinewidth": 0,
             "ticks": ""
            },
            "colorscale": [
             [
              0,
              "#0d0887"
             ],
             [
              0.1111111111111111,
              "#46039f"
             ],
             [
              0.2222222222222222,
              "#7201a8"
             ],
             [
              0.3333333333333333,
              "#9c179e"
             ],
             [
              0.4444444444444444,
              "#bd3786"
             ],
             [
              0.5555555555555556,
              "#d8576b"
             ],
             [
              0.6666666666666666,
              "#ed7953"
             ],
             [
              0.7777777777777778,
              "#fb9f3a"
             ],
             [
              0.8888888888888888,
              "#fdca26"
             ],
             [
              1,
              "#f0f921"
             ]
            ],
            "type": "histogram2d"
           }
          ],
          "histogram2dcontour": [
           {
            "colorbar": {
             "outlinewidth": 0,
             "ticks": ""
            },
            "colorscale": [
             [
              0,
              "#0d0887"
             ],
             [
              0.1111111111111111,
              "#46039f"
             ],
             [
              0.2222222222222222,
              "#7201a8"
             ],
             [
              0.3333333333333333,
              "#9c179e"
             ],
             [
              0.4444444444444444,
              "#bd3786"
             ],
             [
              0.5555555555555556,
              "#d8576b"
             ],
             [
              0.6666666666666666,
              "#ed7953"
             ],
             [
              0.7777777777777778,
              "#fb9f3a"
             ],
             [
              0.8888888888888888,
              "#fdca26"
             ],
             [
              1,
              "#f0f921"
             ]
            ],
            "type": "histogram2dcontour"
           }
          ],
          "mesh3d": [
           {
            "colorbar": {
             "outlinewidth": 0,
             "ticks": ""
            },
            "type": "mesh3d"
           }
          ],
          "parcoords": [
           {
            "line": {
             "colorbar": {
              "outlinewidth": 0,
              "ticks": ""
             }
            },
            "type": "parcoords"
           }
          ],
          "pie": [
           {
            "automargin": true,
            "type": "pie"
           }
          ],
          "scatter": [
           {
            "marker": {
             "colorbar": {
              "outlinewidth": 0,
              "ticks": ""
             }
            },
            "type": "scatter"
           }
          ],
          "scatter3d": [
           {
            "line": {
             "colorbar": {
              "outlinewidth": 0,
              "ticks": ""
             }
            },
            "marker": {
             "colorbar": {
              "outlinewidth": 0,
              "ticks": ""
             }
            },
            "type": "scatter3d"
           }
          ],
          "scattercarpet": [
           {
            "marker": {
             "colorbar": {
              "outlinewidth": 0,
              "ticks": ""
             }
            },
            "type": "scattercarpet"
           }
          ],
          "scattergeo": [
           {
            "marker": {
             "colorbar": {
              "outlinewidth": 0,
              "ticks": ""
             }
            },
            "type": "scattergeo"
           }
          ],
          "scattergl": [
           {
            "marker": {
             "colorbar": {
              "outlinewidth": 0,
              "ticks": ""
             }
            },
            "type": "scattergl"
           }
          ],
          "scattermapbox": [
           {
            "marker": {
             "colorbar": {
              "outlinewidth": 0,
              "ticks": ""
             }
            },
            "type": "scattermapbox"
           }
          ],
          "scatterpolar": [
           {
            "marker": {
             "colorbar": {
              "outlinewidth": 0,
              "ticks": ""
             }
            },
            "type": "scatterpolar"
           }
          ],
          "scatterpolargl": [
           {
            "marker": {
             "colorbar": {
              "outlinewidth": 0,
              "ticks": ""
             }
            },
            "type": "scatterpolargl"
           }
          ],
          "scatterternary": [
           {
            "marker": {
             "colorbar": {
              "outlinewidth": 0,
              "ticks": ""
             }
            },
            "type": "scatterternary"
           }
          ],
          "surface": [
           {
            "colorbar": {
             "outlinewidth": 0,
             "ticks": ""
            },
            "colorscale": [
             [
              0,
              "#0d0887"
             ],
             [
              0.1111111111111111,
              "#46039f"
             ],
             [
              0.2222222222222222,
              "#7201a8"
             ],
             [
              0.3333333333333333,
              "#9c179e"
             ],
             [
              0.4444444444444444,
              "#bd3786"
             ],
             [
              0.5555555555555556,
              "#d8576b"
             ],
             [
              0.6666666666666666,
              "#ed7953"
             ],
             [
              0.7777777777777778,
              "#fb9f3a"
             ],
             [
              0.8888888888888888,
              "#fdca26"
             ],
             [
              1,
              "#f0f921"
             ]
            ],
            "type": "surface"
           }
          ],
          "table": [
           {
            "cells": {
             "fill": {
              "color": "#EBF0F8"
             },
             "line": {
              "color": "white"
             }
            },
            "header": {
             "fill": {
              "color": "#C8D4E3"
             },
             "line": {
              "color": "white"
             }
            },
            "type": "table"
           }
          ]
         },
         "layout": {
          "annotationdefaults": {
           "arrowcolor": "#2a3f5f",
           "arrowhead": 0,
           "arrowwidth": 1
          },
          "autotypenumbers": "strict",
          "coloraxis": {
           "colorbar": {
            "outlinewidth": 0,
            "ticks": ""
           }
          },
          "colorscale": {
           "diverging": [
            [
             0,
             "#8e0152"
            ],
            [
             0.1,
             "#c51b7d"
            ],
            [
             0.2,
             "#de77ae"
            ],
            [
             0.3,
             "#f1b6da"
            ],
            [
             0.4,
             "#fde0ef"
            ],
            [
             0.5,
             "#f7f7f7"
            ],
            [
             0.6,
             "#e6f5d0"
            ],
            [
             0.7,
             "#b8e186"
            ],
            [
             0.8,
             "#7fbc41"
            ],
            [
             0.9,
             "#4d9221"
            ],
            [
             1,
             "#276419"
            ]
           ],
           "sequential": [
            [
             0,
             "#0d0887"
            ],
            [
             0.1111111111111111,
             "#46039f"
            ],
            [
             0.2222222222222222,
             "#7201a8"
            ],
            [
             0.3333333333333333,
             "#9c179e"
            ],
            [
             0.4444444444444444,
             "#bd3786"
            ],
            [
             0.5555555555555556,
             "#d8576b"
            ],
            [
             0.6666666666666666,
             "#ed7953"
            ],
            [
             0.7777777777777778,
             "#fb9f3a"
            ],
            [
             0.8888888888888888,
             "#fdca26"
            ],
            [
             1,
             "#f0f921"
            ]
           ],
           "sequentialminus": [
            [
             0,
             "#0d0887"
            ],
            [
             0.1111111111111111,
             "#46039f"
            ],
            [
             0.2222222222222222,
             "#7201a8"
            ],
            [
             0.3333333333333333,
             "#9c179e"
            ],
            [
             0.4444444444444444,
             "#bd3786"
            ],
            [
             0.5555555555555556,
             "#d8576b"
            ],
            [
             0.6666666666666666,
             "#ed7953"
            ],
            [
             0.7777777777777778,
             "#fb9f3a"
            ],
            [
             0.8888888888888888,
             "#fdca26"
            ],
            [
             1,
             "#f0f921"
            ]
           ]
          },
          "colorway": [
           "#636efa",
           "#EF553B",
           "#00cc96",
           "#ab63fa",
           "#FFA15A",
           "#19d3f3",
           "#FF6692",
           "#B6E880",
           "#FF97FF",
           "#FECB52"
          ],
          "font": {
           "color": "#2a3f5f"
          },
          "geo": {
           "bgcolor": "white",
           "lakecolor": "white",
           "landcolor": "#E5ECF6",
           "showlakes": true,
           "showland": true,
           "subunitcolor": "white"
          },
          "hoverlabel": {
           "align": "left"
          },
          "hovermode": "closest",
          "mapbox": {
           "style": "light"
          },
          "paper_bgcolor": "white",
          "plot_bgcolor": "#E5ECF6",
          "polar": {
           "angularaxis": {
            "gridcolor": "white",
            "linecolor": "white",
            "ticks": ""
           },
           "bgcolor": "#E5ECF6",
           "radialaxis": {
            "gridcolor": "white",
            "linecolor": "white",
            "ticks": ""
           }
          },
          "scene": {
           "xaxis": {
            "backgroundcolor": "#E5ECF6",
            "gridcolor": "white",
            "gridwidth": 2,
            "linecolor": "white",
            "showbackground": true,
            "ticks": "",
            "zerolinecolor": "white"
           },
           "yaxis": {
            "backgroundcolor": "#E5ECF6",
            "gridcolor": "white",
            "gridwidth": 2,
            "linecolor": "white",
            "showbackground": true,
            "ticks": "",
            "zerolinecolor": "white"
           },
           "zaxis": {
            "backgroundcolor": "#E5ECF6",
            "gridcolor": "white",
            "gridwidth": 2,
            "linecolor": "white",
            "showbackground": true,
            "ticks": "",
            "zerolinecolor": "white"
           }
          },
          "shapedefaults": {
           "line": {
            "color": "#2a3f5f"
           }
          },
          "ternary": {
           "aaxis": {
            "gridcolor": "white",
            "linecolor": "white",
            "ticks": ""
           },
           "baxis": {
            "gridcolor": "white",
            "linecolor": "white",
            "ticks": ""
           },
           "bgcolor": "#E5ECF6",
           "caxis": {
            "gridcolor": "white",
            "linecolor": "white",
            "ticks": ""
           }
          },
          "title": {
           "x": 0.05
          },
          "xaxis": {
           "automargin": true,
           "gridcolor": "white",
           "linecolor": "white",
           "ticks": "",
           "title": {
            "standoff": 15
           },
           "zerolinecolor": "white",
           "zerolinewidth": 2
          },
          "yaxis": {
           "automargin": true,
           "gridcolor": "white",
           "linecolor": "white",
           "ticks": "",
           "title": {
            "standoff": 15
           },
           "zerolinecolor": "white",
           "zerolinewidth": 2
          }
         }
        },
        "title": {
         "text": "Presidents and State of Affiliation"
        }
       }
      },
      "text/html": [
       "<div>                            <div id=\"6ad704a8-6a38-48b4-a884-d8fcf94eef47\" class=\"plotly-graph-div\" style=\"height:525px; width:100%;\"></div>            <script type=\"text/javascript\">                require([\"plotly\"], function(Plotly) {                    window.PLOTLYENV=window.PLOTLYENV || {};                                    if (document.getElementById(\"6ad704a8-6a38-48b4-a884-d8fcf94eef47\")) {                    Plotly.newPlot(                        \"6ad704a8-6a38-48b4-a884-d8fcf94eef47\",                        [{\"colorscale\":[[0.0,\"#440154\"],[0.1111111111111111,\"#482878\"],[0.2222222222222222,\"#3e4989\"],[0.3333333333333333,\"#31688e\"],[0.4444444444444444,\"#26828e\"],[0.5555555555555556,\"#1f9e89\"],[0.6666666666666666,\"#35b779\"],[0.7777777777777778,\"#6ece58\"],[0.8888888888888888,\"#b5de2b\"],[1.0,\"#fde725\"]],\"locationmode\":\"USA-states\",\"locations\":[\"VA\",\"MA\",\"VA\",\"VA\",\"VA\",\"MA\",\"TN\",\"NY\",\"OH\",\"VA\",\"TN\",\"KY\",\"NY\",\"NH\",\"PA\",\"IL\",\"TN\",\"IL\",\"OH\",\"OH\",\"NY\",\"NY\",\"IN\",\"OH\",\"NY\",\"OH\",\"NJ\",\"OH\",\"MA\",\"CA\",\"NY\",\"MO\",\"KS\",\"MA\",\"TX\",\"CA\",\"MI\",\"GA\",\"CA\",\"TX\",\"AR\",\"TX\",\"IL\",\"NY\",\"DE\"],\"marker\":{\"line\":{\"color\":\"rgb(255,255,255)\",\"width\":2}},\"text\":[\"Virginia\",\"Massachusetts\",\"Virginia\",\"Virginia\",\"Virginia\",\"Massachusetts\",\"Tennessee\",\"New York\",\"Ohio\",\"Virginia\",\"Tennessee\",\"Kentucky\",\"New York\",\"New Hampshire\",\"Pennsylvania\",\"Illinois\",\"Tennessee\",\"Illinois\",\"Ohio\",\"Ohio\",\"New York\",\"New York\",\"Indiana\",\"Ohio\",\"New York\",\"Ohio\",\"New Jersey\",\"Ohio\",\"Massachusetts\",\"California\",\"New York\",\"Missouri\",\"Kansas\",\"Massachusetts\",\"Texas\",\"California\",\"Michigan\",\"Georgia\",\"California\",\"Texas\",\"Arkansas\",\"Texas\",\"Illinois\",\"New York\",\"Delaware\"],\"z\":[5,4,5,5,5,4,3,7,6,5,3,1,7,1,1,3,3,3,6,6,7,7,1,6,7,6,1,6,4,3,7,1,1,4,3,3,1,1,3,3,1,3,3,7,1],\"type\":\"choropleth\"}],                        {\"geo\":{\"lakecolor\":\"rgb(85,173,240)\",\"scope\":\"usa\",\"showlakes\":true},\"template\":{\"data\":{\"barpolar\":[{\"marker\":{\"line\":{\"color\":\"#E5ECF6\",\"width\":0.5},\"pattern\":{\"fillmode\":\"overlay\",\"size\":10,\"solidity\":0.2}},\"type\":\"barpolar\"}],\"bar\":[{\"error_x\":{\"color\":\"#2a3f5f\"},\"error_y\":{\"color\":\"#2a3f5f\"},\"marker\":{\"line\":{\"color\":\"#E5ECF6\",\"width\":0.5},\"pattern\":{\"fillmode\":\"overlay\",\"size\":10,\"solidity\":0.2}},\"type\":\"bar\"}],\"carpet\":[{\"aaxis\":{\"endlinecolor\":\"#2a3f5f\",\"gridcolor\":\"white\",\"linecolor\":\"white\",\"minorgridcolor\":\"white\",\"startlinecolor\":\"#2a3f5f\"},\"baxis\":{\"endlinecolor\":\"#2a3f5f\",\"gridcolor\":\"white\",\"linecolor\":\"white\",\"minorgridcolor\":\"white\",\"startlinecolor\":\"#2a3f5f\"},\"type\":\"carpet\"}],\"choropleth\":[{\"colorbar\":{\"outlinewidth\":0,\"ticks\":\"\"},\"type\":\"choropleth\"}],\"contourcarpet\":[{\"colorbar\":{\"outlinewidth\":0,\"ticks\":\"\"},\"type\":\"contourcarpet\"}],\"contour\":[{\"colorbar\":{\"outlinewidth\":0,\"ticks\":\"\"},\"colorscale\":[[0.0,\"#0d0887\"],[0.1111111111111111,\"#46039f\"],[0.2222222222222222,\"#7201a8\"],[0.3333333333333333,\"#9c179e\"],[0.4444444444444444,\"#bd3786\"],[0.5555555555555556,\"#d8576b\"],[0.6666666666666666,\"#ed7953\"],[0.7777777777777778,\"#fb9f3a\"],[0.8888888888888888,\"#fdca26\"],[1.0,\"#f0f921\"]],\"type\":\"contour\"}],\"heatmapgl\":[{\"colorbar\":{\"outlinewidth\":0,\"ticks\":\"\"},\"colorscale\":[[0.0,\"#0d0887\"],[0.1111111111111111,\"#46039f\"],[0.2222222222222222,\"#7201a8\"],[0.3333333333333333,\"#9c179e\"],[0.4444444444444444,\"#bd3786\"],[0.5555555555555556,\"#d8576b\"],[0.6666666666666666,\"#ed7953\"],[0.7777777777777778,\"#fb9f3a\"],[0.8888888888888888,\"#fdca26\"],[1.0,\"#f0f921\"]],\"type\":\"heatmapgl\"}],\"heatmap\":[{\"colorbar\":{\"outlinewidth\":0,\"ticks\":\"\"},\"colorscale\":[[0.0,\"#0d0887\"],[0.1111111111111111,\"#46039f\"],[0.2222222222222222,\"#7201a8\"],[0.3333333333333333,\"#9c179e\"],[0.4444444444444444,\"#bd3786\"],[0.5555555555555556,\"#d8576b\"],[0.6666666666666666,\"#ed7953\"],[0.7777777777777778,\"#fb9f3a\"],[0.8888888888888888,\"#fdca26\"],[1.0,\"#f0f921\"]],\"type\":\"heatmap\"}],\"histogram2dcontour\":[{\"colorbar\":{\"outlinewidth\":0,\"ticks\":\"\"},\"colorscale\":[[0.0,\"#0d0887\"],[0.1111111111111111,\"#46039f\"],[0.2222222222222222,\"#7201a8\"],[0.3333333333333333,\"#9c179e\"],[0.4444444444444444,\"#bd3786\"],[0.5555555555555556,\"#d8576b\"],[0.6666666666666666,\"#ed7953\"],[0.7777777777777778,\"#fb9f3a\"],[0.8888888888888888,\"#fdca26\"],[1.0,\"#f0f921\"]],\"type\":\"histogram2dcontour\"}],\"histogram2d\":[{\"colorbar\":{\"outlinewidth\":0,\"ticks\":\"\"},\"colorscale\":[[0.0,\"#0d0887\"],[0.1111111111111111,\"#46039f\"],[0.2222222222222222,\"#7201a8\"],[0.3333333333333333,\"#9c179e\"],[0.4444444444444444,\"#bd3786\"],[0.5555555555555556,\"#d8576b\"],[0.6666666666666666,\"#ed7953\"],[0.7777777777777778,\"#fb9f3a\"],[0.8888888888888888,\"#fdca26\"],[1.0,\"#f0f921\"]],\"type\":\"histogram2d\"}],\"histogram\":[{\"marker\":{\"pattern\":{\"fillmode\":\"overlay\",\"size\":10,\"solidity\":0.2}},\"type\":\"histogram\"}],\"mesh3d\":[{\"colorbar\":{\"outlinewidth\":0,\"ticks\":\"\"},\"type\":\"mesh3d\"}],\"parcoords\":[{\"line\":{\"colorbar\":{\"outlinewidth\":0,\"ticks\":\"\"}},\"type\":\"parcoords\"}],\"pie\":[{\"automargin\":true,\"type\":\"pie\"}],\"scatter3d\":[{\"line\":{\"colorbar\":{\"outlinewidth\":0,\"ticks\":\"\"}},\"marker\":{\"colorbar\":{\"outlinewidth\":0,\"ticks\":\"\"}},\"type\":\"scatter3d\"}],\"scattercarpet\":[{\"marker\":{\"colorbar\":{\"outlinewidth\":0,\"ticks\":\"\"}},\"type\":\"scattercarpet\"}],\"scattergeo\":[{\"marker\":{\"colorbar\":{\"outlinewidth\":0,\"ticks\":\"\"}},\"type\":\"scattergeo\"}],\"scattergl\":[{\"marker\":{\"colorbar\":{\"outlinewidth\":0,\"ticks\":\"\"}},\"type\":\"scattergl\"}],\"scattermapbox\":[{\"marker\":{\"colorbar\":{\"outlinewidth\":0,\"ticks\":\"\"}},\"type\":\"scattermapbox\"}],\"scatterpolargl\":[{\"marker\":{\"colorbar\":{\"outlinewidth\":0,\"ticks\":\"\"}},\"type\":\"scatterpolargl\"}],\"scatterpolar\":[{\"marker\":{\"colorbar\":{\"outlinewidth\":0,\"ticks\":\"\"}},\"type\":\"scatterpolar\"}],\"scatter\":[{\"marker\":{\"colorbar\":{\"outlinewidth\":0,\"ticks\":\"\"}},\"type\":\"scatter\"}],\"scatterternary\":[{\"marker\":{\"colorbar\":{\"outlinewidth\":0,\"ticks\":\"\"}},\"type\":\"scatterternary\"}],\"surface\":[{\"colorbar\":{\"outlinewidth\":0,\"ticks\":\"\"},\"colorscale\":[[0.0,\"#0d0887\"],[0.1111111111111111,\"#46039f\"],[0.2222222222222222,\"#7201a8\"],[0.3333333333333333,\"#9c179e\"],[0.4444444444444444,\"#bd3786\"],[0.5555555555555556,\"#d8576b\"],[0.6666666666666666,\"#ed7953\"],[0.7777777777777778,\"#fb9f3a\"],[0.8888888888888888,\"#fdca26\"],[1.0,\"#f0f921\"]],\"type\":\"surface\"}],\"table\":[{\"cells\":{\"fill\":{\"color\":\"#EBF0F8\"},\"line\":{\"color\":\"white\"}},\"header\":{\"fill\":{\"color\":\"#C8D4E3\"},\"line\":{\"color\":\"white\"}},\"type\":\"table\"}]},\"layout\":{\"annotationdefaults\":{\"arrowcolor\":\"#2a3f5f\",\"arrowhead\":0,\"arrowwidth\":1},\"autotypenumbers\":\"strict\",\"coloraxis\":{\"colorbar\":{\"outlinewidth\":0,\"ticks\":\"\"}},\"colorscale\":{\"diverging\":[[0,\"#8e0152\"],[0.1,\"#c51b7d\"],[0.2,\"#de77ae\"],[0.3,\"#f1b6da\"],[0.4,\"#fde0ef\"],[0.5,\"#f7f7f7\"],[0.6,\"#e6f5d0\"],[0.7,\"#b8e186\"],[0.8,\"#7fbc41\"],[0.9,\"#4d9221\"],[1,\"#276419\"]],\"sequential\":[[0.0,\"#0d0887\"],[0.1111111111111111,\"#46039f\"],[0.2222222222222222,\"#7201a8\"],[0.3333333333333333,\"#9c179e\"],[0.4444444444444444,\"#bd3786\"],[0.5555555555555556,\"#d8576b\"],[0.6666666666666666,\"#ed7953\"],[0.7777777777777778,\"#fb9f3a\"],[0.8888888888888888,\"#fdca26\"],[1.0,\"#f0f921\"]],\"sequentialminus\":[[0.0,\"#0d0887\"],[0.1111111111111111,\"#46039f\"],[0.2222222222222222,\"#7201a8\"],[0.3333333333333333,\"#9c179e\"],[0.4444444444444444,\"#bd3786\"],[0.5555555555555556,\"#d8576b\"],[0.6666666666666666,\"#ed7953\"],[0.7777777777777778,\"#fb9f3a\"],[0.8888888888888888,\"#fdca26\"],[1.0,\"#f0f921\"]]},\"colorway\":[\"#636efa\",\"#EF553B\",\"#00cc96\",\"#ab63fa\",\"#FFA15A\",\"#19d3f3\",\"#FF6692\",\"#B6E880\",\"#FF97FF\",\"#FECB52\"],\"font\":{\"color\":\"#2a3f5f\"},\"geo\":{\"bgcolor\":\"white\",\"lakecolor\":\"white\",\"landcolor\":\"#E5ECF6\",\"showlakes\":true,\"showland\":true,\"subunitcolor\":\"white\"},\"hoverlabel\":{\"align\":\"left\"},\"hovermode\":\"closest\",\"mapbox\":{\"style\":\"light\"},\"paper_bgcolor\":\"white\",\"plot_bgcolor\":\"#E5ECF6\",\"polar\":{\"angularaxis\":{\"gridcolor\":\"white\",\"linecolor\":\"white\",\"ticks\":\"\"},\"bgcolor\":\"#E5ECF6\",\"radialaxis\":{\"gridcolor\":\"white\",\"linecolor\":\"white\",\"ticks\":\"\"}},\"scene\":{\"xaxis\":{\"backgroundcolor\":\"#E5ECF6\",\"gridcolor\":\"white\",\"gridwidth\":2,\"linecolor\":\"white\",\"showbackground\":true,\"ticks\":\"\",\"zerolinecolor\":\"white\"},\"yaxis\":{\"backgroundcolor\":\"#E5ECF6\",\"gridcolor\":\"white\",\"gridwidth\":2,\"linecolor\":\"white\",\"showbackground\":true,\"ticks\":\"\",\"zerolinecolor\":\"white\"},\"zaxis\":{\"backgroundcolor\":\"#E5ECF6\",\"gridcolor\":\"white\",\"gridwidth\":2,\"linecolor\":\"white\",\"showbackground\":true,\"ticks\":\"\",\"zerolinecolor\":\"white\"}},\"shapedefaults\":{\"line\":{\"color\":\"#2a3f5f\"}},\"ternary\":{\"aaxis\":{\"gridcolor\":\"white\",\"linecolor\":\"white\",\"ticks\":\"\"},\"baxis\":{\"gridcolor\":\"white\",\"linecolor\":\"white\",\"ticks\":\"\"},\"bgcolor\":\"#E5ECF6\",\"caxis\":{\"gridcolor\":\"white\",\"linecolor\":\"white\",\"ticks\":\"\"}},\"title\":{\"x\":0.05},\"xaxis\":{\"automargin\":true,\"gridcolor\":\"white\",\"linecolor\":\"white\",\"ticks\":\"\",\"title\":{\"standoff\":15},\"zerolinecolor\":\"white\",\"zerolinewidth\":2},\"yaxis\":{\"automargin\":true,\"gridcolor\":\"white\",\"linecolor\":\"white\",\"ticks\":\"\",\"title\":{\"standoff\":15},\"zerolinecolor\":\"white\",\"zerolinewidth\":2}}},\"title\":{\"text\":\"Presidents and State of Affiliation\"}},                        {\"responsive\": true}                    ).then(function(){\n",
       "                            \n",
       "var gd = document.getElementById('6ad704a8-6a38-48b4-a884-d8fcf94eef47');\n",
       "var x = new MutationObserver(function (mutations, observer) {{\n",
       "        var display = window.getComputedStyle(gd).display;\n",
       "        if (!display || display === 'none') {{\n",
       "            console.log([gd, 'removed!']);\n",
       "            Plotly.purge(gd);\n",
       "            observer.disconnect();\n",
       "        }}\n",
       "}});\n",
       "\n",
       "// Listen for the removal of the full notebook cells\n",
       "var notebookContainer = gd.closest('#notebook-container');\n",
       "if (notebookContainer) {{\n",
       "    x.observe(notebookContainer, {childList: true});\n",
       "}}\n",
       "\n",
       "// Listen for the clearing of the current output cell\n",
       "var outputEl = gd.closest('.output');\n",
       "if (outputEl) {{\n",
       "    x.observe(outputEl, {childList: true});\n",
       "}}\n",
       "\n",
       "                        })                };                });            </script>        </div>"
      ]
     },
     "metadata": {},
     "output_type": "display_data"
    }
   ],
   "source": [
    "iplot(choromap2)"
   ]
  },
  {
   "cell_type": "code",
   "execution_count": null,
   "id": "24e5896e",
   "metadata": {},
   "outputs": [],
   "source": []
  }
 ],
 "metadata": {
  "kernelspec": {
   "display_name": "Python 3 (ipykernel)",
   "language": "python",
   "name": "python3"
  },
  "language_info": {
   "codemirror_mode": {
    "name": "ipython",
    "version": 3
   },
   "file_extension": ".py",
   "mimetype": "text/x-python",
   "name": "python",
   "nbconvert_exporter": "python",
   "pygments_lexer": "ipython3",
   "version": "3.9.12"
  }
 },
 "nbformat": 4,
 "nbformat_minor": 5
}

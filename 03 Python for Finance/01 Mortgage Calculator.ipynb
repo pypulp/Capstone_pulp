{
 "cells": [
  {
   "cell_type": "code",
   "execution_count": 1,
   "id": "3ac3e862",
   "metadata": {},
   "outputs": [],
   "source": [
    "import numpy as np\n",
    "import numpy_financial as npf\n",
    "import matplotlib.pyplot as plt\n",
    "%matplotlib inline"
   ]
  },
  {
   "cell_type": "markdown",
   "id": "79abfb85",
   "metadata": {},
   "source": [
    "## Mortgage Loan amount\n",
    "\n",
    "Let us assume,\n",
    "- the cost of purchase of the home, **home_cost = INR 75,00,000**\n",
    "\n",
    "- percent of your contribution, **down_payment_pct = 20% or 0.2**\n",
    "\n",
    "- defining variables, to calculate the Home / Mortgage Loan **mortgage_loan_amt**\n"
   ]
  },
  {
   "cell_type": "code",
   "execution_count": 2,
   "id": "a94d3650",
   "metadata": {},
   "outputs": [
    {
     "name": "stdout",
     "output_type": "stream",
     "text": [
      "Own Contribution/ Down Payment for the home is : 1500000.0\n",
      "\n",
      "Mortgage Loan amount to be availed from the bank is : 6000000.0\n"
     ]
    }
   ],
   "source": [
    "home_cost = 7500000\n",
    "down_payment_pct = 0.2\n",
    "\n",
    "#Down payment amount in INR\n",
    "\n",
    "down_payment_amt = home_cost *down_payment_pct\n",
    "\n",
    "#Amount of Home / Mortgage Loan\n",
    "\n",
    "mortgage_loan_amt= home_cost -down_payment_amt   \n",
    "\n",
    "print(f\"Own Contribution/ Down Payment for the home is : {down_payment_amt}\\n\")\n",
    "print (f\"Mortgage Loan amount to be availed from the bank is : {mortgage_loan_amt}\")"
   ]
  },
  {
   "cell_type": "markdown",
   "id": "59dc7bb3",
   "metadata": {},
   "source": [
    "## Interest Rate \n",
    "\n",
    "Assume, \n",
    "-  Rate of interest offered by the bank,  **interest_rate_annual = 7 % p.a**\n",
    "\n",
    "    **$ R_{Periodic} = (1 + R_{Annual} )^{1/N}-1  $**\n",
    "\n",
    "     Here, interest_rate_annual or $R_{Annual}$ (as above) is 7 % or 0.07.\n",
    "     \n",
    "- Mortagage Loan tenure or total period of loan repayment, **loan_tenure is 20 years**  \n",
    "\n",
    "We need to calculate \n",
    "- $R_{Periodic}$ (here period is monthly,) **interest_rate_monthly**\n",
    "\n",
    "- **N** or number of periods here is 12 (months in a year)\n",
    "\n",
    "- **Monthly installment or EMI - emi_amount** "
   ]
  },
  {
   "cell_type": "code",
   "execution_count": 3,
   "id": "fd86375d",
   "metadata": {},
   "outputs": [
    {
     "name": "stdout",
     "output_type": "stream",
     "text": [
      "EMI for a loan amount of INR 6000000.0 for 240 months  :INR 45746.69\n"
     ]
    }
   ],
   "source": [
    "# Monthly Interest Rate\n",
    "interest_rate_monthly = ((1 + 0.07)**(1/12))- 1\n",
    "\n",
    "#Total Repayment Period\n",
    "loan_tenure = 20*12\n",
    "\n",
    "#EMI or Monthly Installment\n",
    "\n",
    "emi_amount = -1*npf.pmt(interest_rate_monthly, loan_tenure,mortgage_loan_amt)\n",
    "\n",
    "print(f\"EMI for a loan amount of INR {mortgage_loan_amt} for {loan_tenure} months  :INR {round(emi_amount,2)}\")"
   ]
  },
  {
   "cell_type": "markdown",
   "id": "5b2a9aba",
   "metadata": {},
   "source": [
    "## EMI amount or Monthly installments \n",
    "\n",
    "have two components that varies over the loan tenure (EMI remains same through out)\n",
    "- **Interest Payment**\n",
    "- **Principal Payment**\n",
    "\n",
    "Let's find out the **Principal payment(principal_paid), Interest payment(interest_paid)** for the First month installment.\n"
   ]
  },
  {
   "cell_type": "code",
   "execution_count": 4,
   "id": "f47b64b4",
   "metadata": {},
   "outputs": [
    {
     "name": "stdout",
     "output_type": "stream",
     "text": [
      "First Month Interest Component: 33924.87\n",
      "First Month Principal Component:11821.81 \n",
      "EMI amount : 45746.69\n"
     ]
    }
   ],
   "source": [
    "# 1st EMI : Interest paid component\n",
    "first_month_interest_paid  = mortgage_loan_amt * interest_rate_monthly\n",
    "\n",
    "print(f\"First Month Interest Component: {round(first_month_interest_paid,2)}\")\n",
    "\n",
    "# 1st EMI : Principal paid component\n",
    "first_month_principal_paid = emi_amount - first_month_interest_paid\n",
    "\n",
    "print(f\"First Month Principal Component:{round(first_month_principal_paid,2)} \\nEMI amount : {round(emi_amount,2)}\")"
   ]
  },
  {
   "cell_type": "code",
   "execution_count": 5,
   "id": "286e6082",
   "metadata": {},
   "outputs": [
    {
     "data": {
      "text/plain": [
       "45746.68"
      ]
     },
     "execution_count": 5,
     "metadata": {},
     "output_type": "execute_result"
    }
   ],
   "source": [
    "#Check if both component add up to the calculated EMI as above :\n",
    "\n",
    "33924.87 + 11821.81"
   ]
  },
  {
   "cell_type": "markdown",
   "id": "ca41baa6",
   "metadata": {},
   "source": [
    "## Simulating monthly installments for the entire tenure\n",
    "\n",
    "We need to replicate the above calculation for the loan tenure - **240 installments** (ie., 20 years *12 months)"
   ]
  },
  {
   "cell_type": "code",
   "execution_count": 6,
   "id": "2defa2b4",
   "metadata": {},
   "outputs": [
    {
     "name": "stdout",
     "output_type": "stream",
     "text": [
      "EMI no. 1| Interest Paid :33924.87 | Principal Paid 11821.82 | Principal Remaining 5988178.18\n",
      "EMI no. 2| Interest Paid :33858.03 | Principal Paid 11888.66 | Principal Remaining 5976289.52\n",
      "EMI no. 3| Interest Paid :33790.81 | Principal Paid 11955.88 | Principal Remaining 5964333.64\n",
      "EMI no. 4| Interest Paid :33723.21 | Principal Paid 12023.48 | Principal Remaining 5952310.16\n",
      "EMI no. 5| Interest Paid :33655.23 | Principal Paid 12091.46 | Principal Remaining 5940218.7\n",
      "EMI no. 6| Interest Paid :33586.86 | Principal Paid 12159.83 | Principal Remaining 5928058.87\n",
      "EMI no. 7| Interest Paid :33518.11 | Principal Paid 12228.58 | Principal Remaining 5915830.29\n",
      "EMI no. 8| Interest Paid :33448.96 | Principal Paid 12297.73 | Principal Remaining 5903532.56\n",
      "EMI no. 9| Interest Paid :33379.43 | Principal Paid 12367.26 | Principal Remaining 5891165.3\n",
      "EMI no. 10| Interest Paid :33309.51 | Principal Paid 12437.18 | Principal Remaining 5878728.12\n",
      "EMI no. 11| Interest Paid :33239.18 | Principal Paid 12507.51 | Principal Remaining 5866220.61\n",
      "EMI no. 12| Interest Paid :33168.46 | Principal Paid 12578.23 | Principal Remaining 5853642.38\n",
      "EMI no. 13| Interest Paid :33097.35 | Principal Paid 12649.34 | Principal Remaining 5840993.04\n",
      "EMI no. 14| Interest Paid :33025.82 | Principal Paid 12720.87 | Principal Remaining 5828272.17\n",
      "EMI no. 15| Interest Paid :32953.9 | Principal Paid 12792.79 | Principal Remaining 5815479.38\n",
      "EMI no. 16| Interest Paid :32881.57 | Principal Paid 12865.12 | Principal Remaining 5802614.26\n",
      "EMI no. 17| Interest Paid :32808.82 | Principal Paid 12937.87 | Principal Remaining 5789676.39\n",
      "EMI no. 18| Interest Paid :32735.67 | Principal Paid 13011.02 | Principal Remaining 5776665.37\n",
      "EMI no. 19| Interest Paid :32662.11 | Principal Paid 13084.58 | Principal Remaining 5763580.79\n",
      "EMI no. 20| Interest Paid :32588.12 | Principal Paid 13158.57 | Principal Remaining 5750422.22\n",
      "EMI no. 21| Interest Paid :32513.72 | Principal Paid 13232.97 | Principal Remaining 5737189.25\n",
      "EMI no. 22| Interest Paid :32438.9 | Principal Paid 13307.79 | Principal Remaining 5723881.46\n",
      "EMI no. 23| Interest Paid :32363.66 | Principal Paid 13383.03 | Principal Remaining 5710498.43\n",
      "EMI no. 24| Interest Paid :32287.99 | Principal Paid 13458.7 | Principal Remaining 5697039.73\n",
      "EMI no. 25| Interest Paid :32211.89 | Principal Paid 13534.8 | Principal Remaining 5683504.93\n",
      "EMI no. 26| Interest Paid :32135.36 | Principal Paid 13611.33 | Principal Remaining 5669893.6\n",
      "EMI no. 27| Interest Paid :32058.4 | Principal Paid 13688.29 | Principal Remaining 5656205.31\n",
      "EMI no. 28| Interest Paid :31981.01 | Principal Paid 13765.68 | Principal Remaining 5642439.63\n",
      "EMI no. 29| Interest Paid :31903.17 | Principal Paid 13843.52 | Principal Remaining 5628596.11\n",
      "EMI no. 30| Interest Paid :31824.9 | Principal Paid 13921.79 | Principal Remaining 5614674.32\n",
      "EMI no. 31| Interest Paid :31746.18 | Principal Paid 14000.51 | Principal Remaining 5600673.81\n",
      "EMI no. 32| Interest Paid :31667.02 | Principal Paid 14079.67 | Principal Remaining 5586594.14\n",
      "EMI no. 33| Interest Paid :31587.42 | Principal Paid 14159.27 | Principal Remaining 5572434.87\n",
      "EMI no. 34| Interest Paid :31507.36 | Principal Paid 14239.33 | Principal Remaining 5558195.54\n",
      "EMI no. 35| Interest Paid :31426.85 | Principal Paid 14319.84 | Principal Remaining 5543875.7\n",
      "EMI no. 36| Interest Paid :31345.88 | Principal Paid 14400.81 | Principal Remaining 5529474.89\n",
      "EMI no. 37| Interest Paid :31264.45 | Principal Paid 14482.24 | Principal Remaining 5514992.65\n",
      "EMI no. 38| Interest Paid :31182.57 | Principal Paid 14564.12 | Principal Remaining 5500428.53\n",
      "EMI no. 39| Interest Paid :31100.22 | Principal Paid 14646.47 | Principal Remaining 5485782.06\n",
      "EMI no. 40| Interest Paid :31017.41 | Principal Paid 14729.28 | Principal Remaining 5471052.78\n",
      "EMI no. 41| Interest Paid :30934.13 | Principal Paid 14812.56 | Principal Remaining 5456240.22\n",
      "EMI no. 42| Interest Paid :30850.38 | Principal Paid 14896.31 | Principal Remaining 5441343.91\n",
      "EMI no. 43| Interest Paid :30766.15 | Principal Paid 14980.54 | Principal Remaining 5426363.37\n",
      "EMI no. 44| Interest Paid :30681.45 | Principal Paid 15065.24 | Principal Remaining 5411298.13\n",
      "EMI no. 45| Interest Paid :30596.27 | Principal Paid 15150.42 | Principal Remaining 5396147.71\n",
      "EMI no. 46| Interest Paid :30510.6 | Principal Paid 15236.09 | Principal Remaining 5380911.62\n",
      "EMI no. 47| Interest Paid :30424.46 | Principal Paid 15322.23 | Principal Remaining 5365589.39\n",
      "EMI no. 48| Interest Paid :30337.82 | Principal Paid 15408.87 | Principal Remaining 5350180.52\n",
      "EMI no. 49| Interest Paid :30250.7 | Principal Paid 15495.99 | Principal Remaining 5334684.53\n",
      "EMI no. 50| Interest Paid :30163.08 | Principal Paid 15583.61 | Principal Remaining 5319100.92\n",
      "EMI no. 51| Interest Paid :30074.97 | Principal Paid 15671.72 | Principal Remaining 5303429.2\n",
      "EMI no. 52| Interest Paid :29986.36 | Principal Paid 15760.33 | Principal Remaining 5287668.87\n",
      "EMI no. 53| Interest Paid :29897.25 | Principal Paid 15849.44 | Principal Remaining 5271819.43\n",
      "EMI no. 54| Interest Paid :29807.63 | Principal Paid 15939.06 | Principal Remaining 5255880.37\n",
      "EMI no. 55| Interest Paid :29717.51 | Principal Paid 16029.18 | Principal Remaining 5239851.19\n",
      "EMI no. 56| Interest Paid :29626.88 | Principal Paid 16119.81 | Principal Remaining 5223731.38\n",
      "EMI no. 57| Interest Paid :29535.74 | Principal Paid 16210.95 | Principal Remaining 5207520.43\n",
      "EMI no. 58| Interest Paid :29444.08 | Principal Paid 16302.61 | Principal Remaining 5191217.82\n",
      "EMI no. 59| Interest Paid :29351.9 | Principal Paid 16394.79 | Principal Remaining 5174823.03\n",
      "EMI no. 60| Interest Paid :29259.2 | Principal Paid 16487.49 | Principal Remaining 5158335.54\n",
      "EMI no. 61| Interest Paid :29165.98 | Principal Paid 16580.71 | Principal Remaining 5141754.83\n",
      "EMI no. 62| Interest Paid :29072.23 | Principal Paid 16674.46 | Principal Remaining 5125080.37\n",
      "EMI no. 63| Interest Paid :28977.95 | Principal Paid 16768.74 | Principal Remaining 5108311.63\n",
      "EMI no. 64| Interest Paid :28883.14 | Principal Paid 16863.55 | Principal Remaining 5091448.08\n",
      "EMI no. 65| Interest Paid :28787.79 | Principal Paid 16958.9 | Principal Remaining 5074489.18\n",
      "EMI no. 66| Interest Paid :28691.9 | Principal Paid 17054.79 | Principal Remaining 5057434.39\n",
      "EMI no. 67| Interest Paid :28595.47 | Principal Paid 17151.22 | Principal Remaining 5040283.17\n",
      "EMI no. 68| Interest Paid :28498.49 | Principal Paid 17248.2 | Principal Remaining 5023034.97\n",
      "EMI no. 69| Interest Paid :28400.97 | Principal Paid 17345.72 | Principal Remaining 5005689.25\n",
      "EMI no. 70| Interest Paid :28302.89 | Principal Paid 17443.8 | Principal Remaining 4988245.45\n",
      "EMI no. 71| Interest Paid :28204.27 | Principal Paid 17542.42 | Principal Remaining 4970703.03\n",
      "EMI no. 72| Interest Paid :28105.08 | Principal Paid 17641.61 | Principal Remaining 4953061.42\n",
      "EMI no. 73| Interest Paid :28005.33 | Principal Paid 17741.36 | Principal Remaining 4935320.06\n",
      "EMI no. 74| Interest Paid :27905.02 | Principal Paid 17841.67 | Principal Remaining 4917478.39\n",
      "EMI no. 75| Interest Paid :27804.14 | Principal Paid 17942.55 | Principal Remaining 4899535.84\n",
      "EMI no. 76| Interest Paid :27702.69 | Principal Paid 18044.0 | Principal Remaining 4881491.84\n",
      "EMI no. 77| Interest Paid :27600.66 | Principal Paid 18146.03 | Principal Remaining 4863345.81\n",
      "EMI no. 78| Interest Paid :27498.06 | Principal Paid 18248.63 | Principal Remaining 4845097.18\n",
      "EMI no. 79| Interest Paid :27394.88 | Principal Paid 18351.81 | Principal Remaining 4826745.37\n",
      "EMI no. 80| Interest Paid :27291.12 | Principal Paid 18455.57 | Principal Remaining 4808289.8\n",
      "EMI no. 81| Interest Paid :27186.77 | Principal Paid 18559.92 | Principal Remaining 4789729.88\n",
      "EMI no. 82| Interest Paid :27081.83 | Principal Paid 18664.86 | Principal Remaining 4771065.02\n",
      "EMI no. 83| Interest Paid :26976.3 | Principal Paid 18770.39 | Principal Remaining 4752294.63\n",
      "EMI no. 84| Interest Paid :26870.16 | Principal Paid 18876.53 | Principal Remaining 4733418.1\n",
      "EMI no. 85| Interest Paid :26763.43 | Principal Paid 18983.26 | Principal Remaining 4714434.84\n",
      "EMI no. 86| Interest Paid :26656.1 | Principal Paid 19090.59 | Principal Remaining 4695344.25\n",
      "EMI no. 87| Interest Paid :26548.16 | Principal Paid 19198.53 | Principal Remaining 4676145.72\n",
      "EMI no. 88| Interest Paid :26439.61 | Principal Paid 19307.08 | Principal Remaining 4656838.64\n",
      "EMI no. 89| Interest Paid :26330.44 | Principal Paid 19416.25 | Principal Remaining 4637422.39\n",
      "EMI no. 90| Interest Paid :26220.66 | Principal Paid 19526.03 | Principal Remaining 4617896.36\n",
      "EMI no. 91| Interest Paid :26110.26 | Principal Paid 19636.43 | Principal Remaining 4598259.93\n",
      "EMI no. 92| Interest Paid :25999.23 | Principal Paid 19747.46 | Principal Remaining 4578512.47\n",
      "EMI no. 93| Interest Paid :25887.58 | Principal Paid 19859.11 | Principal Remaining 4558653.36\n",
      "EMI no. 94| Interest Paid :25775.29 | Principal Paid 19971.4 | Principal Remaining 4538681.96\n",
      "EMI no. 95| Interest Paid :25662.37 | Principal Paid 20084.32 | Principal Remaining 4518597.64\n",
      "EMI no. 96| Interest Paid :25548.81 | Principal Paid 20197.88 | Principal Remaining 4498399.76\n",
      "EMI no. 97| Interest Paid :25434.61 | Principal Paid 20312.08 | Principal Remaining 4478087.68\n",
      "EMI no. 98| Interest Paid :25319.76 | Principal Paid 20426.93 | Principal Remaining 4457660.75\n",
      "EMI no. 99| Interest Paid :25204.26 | Principal Paid 20542.43 | Principal Remaining 4437118.32\n",
      "EMI no. 100| Interest Paid :25088.11 | Principal Paid 20658.58 | Principal Remaining 4416459.74\n",
      "EMI no. 101| Interest Paid :24971.31 | Principal Paid 20775.38 | Principal Remaining 4395684.36\n",
      "EMI no. 102| Interest Paid :24853.84 | Principal Paid 20892.85 | Principal Remaining 4374791.51\n",
      "EMI no. 103| Interest Paid :24735.71 | Principal Paid 21010.98 | Principal Remaining 4353780.53\n",
      "EMI no. 104| Interest Paid :24616.91 | Principal Paid 21129.78 | Principal Remaining 4332650.75\n",
      "EMI no. 105| Interest Paid :24497.44 | Principal Paid 21249.25 | Principal Remaining 4311401.5\n",
      "EMI no. 106| Interest Paid :24377.29 | Principal Paid 21369.4 | Principal Remaining 4290032.1\n",
      "EMI no. 107| Interest Paid :24256.47 | Principal Paid 21490.22 | Principal Remaining 4268541.88\n",
      "EMI no. 108| Interest Paid :24134.96 | Principal Paid 21611.73 | Principal Remaining 4246930.15\n",
      "EMI no. 109| Interest Paid :24012.76 | Principal Paid 21733.93 | Principal Remaining 4225196.22\n",
      "EMI no. 110| Interest Paid :23889.87 | Principal Paid 21856.82 | Principal Remaining 4203339.4\n",
      "EMI no. 111| Interest Paid :23766.29 | Principal Paid 21980.4 | Principal Remaining 4181359.0\n",
      "EMI no. 112| Interest Paid :23642.01 | Principal Paid 22104.68 | Principal Remaining 4159254.32\n",
      "EMI no. 113| Interest Paid :23517.03 | Principal Paid 22229.66 | Principal Remaining 4137024.66\n",
      "EMI no. 114| Interest Paid :23391.34 | Principal Paid 22355.35 | Principal Remaining 4114669.31\n",
      "EMI no. 115| Interest Paid :23264.94 | Principal Paid 22481.75 | Principal Remaining 4092187.56\n",
      "EMI no. 116| Interest Paid :23137.82 | Principal Paid 22608.87 | Principal Remaining 4069578.69\n",
      "EMI no. 117| Interest Paid :23009.99 | Principal Paid 22736.7 | Principal Remaining 4046841.99\n",
      "EMI no. 118| Interest Paid :22881.43 | Principal Paid 22865.26 | Principal Remaining 4023976.73\n",
      "EMI no. 119| Interest Paid :22752.15 | Principal Paid 22994.54 | Principal Remaining 4000982.19\n",
      "EMI no. 120| Interest Paid :22622.13 | Principal Paid 23124.56 | Principal Remaining 3977857.63\n",
      "EMI no. 121| Interest Paid :22491.39 | Principal Paid 23255.3 | Principal Remaining 3954602.33\n",
      "EMI no. 122| Interest Paid :22359.9 | Principal Paid 23386.79 | Principal Remaining 3931215.54\n",
      "EMI no. 123| Interest Paid :22227.66 | Principal Paid 23519.03 | Principal Remaining 3907696.51\n",
      "EMI no. 124| Interest Paid :22094.68 | Principal Paid 23652.01 | Principal Remaining 3884044.5\n",
      "EMI no. 125| Interest Paid :21960.95 | Principal Paid 23785.74 | Principal Remaining 3860258.76\n",
      "EMI no. 126| Interest Paid :21826.46 | Principal Paid 23920.23 | Principal Remaining 3836338.53\n",
      "EMI no. 127| Interest Paid :21691.22 | Principal Paid 24055.47 | Principal Remaining 3812283.06\n",
      "EMI no. 128| Interest Paid :21555.2 | Principal Paid 24191.49 | Principal Remaining 3788091.57\n",
      "EMI no. 129| Interest Paid :21418.42 | Principal Paid 24328.27 | Principal Remaining 3763763.3\n",
      "EMI no. 130| Interest Paid :21280.86 | Principal Paid 24465.83 | Principal Remaining 3739297.47\n",
      "EMI no. 131| Interest Paid :21142.53 | Principal Paid 24604.16 | Principal Remaining 3714693.31\n",
      "EMI no. 132| Interest Paid :21003.42 | Principal Paid 24743.27 | Principal Remaining 3689950.04\n",
      "EMI no. 133| Interest Paid :20863.51 | Principal Paid 24883.18 | Principal Remaining 3665066.86\n",
      "EMI no. 134| Interest Paid :20722.82 | Principal Paid 25023.87 | Principal Remaining 3640042.99\n",
      "EMI no. 135| Interest Paid :20581.33 | Principal Paid 25165.36 | Principal Remaining 3614877.63\n",
      "EMI no. 136| Interest Paid :20439.04 | Principal Paid 25307.65 | Principal Remaining 3589569.98\n",
      "EMI no. 137| Interest Paid :20295.95 | Principal Paid 25450.74 | Principal Remaining 3564119.24\n",
      "EMI no. 138| Interest Paid :20152.05 | Principal Paid 25594.64 | Principal Remaining 3538524.6\n",
      "EMI no. 139| Interest Paid :20007.33 | Principal Paid 25739.36 | Principal Remaining 3512785.24\n",
      "EMI no. 140| Interest Paid :19861.8 | Principal Paid 25884.89 | Principal Remaining 3486900.35\n",
      "EMI no. 141| Interest Paid :19715.44 | Principal Paid 26031.25 | Principal Remaining 3460869.1\n",
      "EMI no. 142| Interest Paid :19568.26 | Principal Paid 26178.43 | Principal Remaining 3434690.67\n",
      "EMI no. 143| Interest Paid :19420.24 | Principal Paid 26326.45 | Principal Remaining 3408364.22\n",
      "EMI no. 144| Interest Paid :19271.39 | Principal Paid 26475.3 | Principal Remaining 3381888.92\n",
      "EMI no. 145| Interest Paid :19121.69 | Principal Paid 26625.0 | Principal Remaining 3355263.92\n",
      "EMI no. 146| Interest Paid :18971.15 | Principal Paid 26775.54 | Principal Remaining 3328488.38\n",
      "EMI no. 147| Interest Paid :18819.76 | Principal Paid 26926.93 | Principal Remaining 3301561.45\n",
      "EMI no. 148| Interest Paid :18667.51 | Principal Paid 27079.18 | Principal Remaining 3274482.27\n",
      "EMI no. 149| Interest Paid :18514.4 | Principal Paid 27232.29 | Principal Remaining 3247249.98\n",
      "EMI no. 150| Interest Paid :18360.42 | Principal Paid 27386.27 | Principal Remaining 3219863.71\n",
      "EMI no. 151| Interest Paid :18205.58 | Principal Paid 27541.11 | Principal Remaining 3192322.6\n",
      "EMI no. 152| Interest Paid :18049.86 | Principal Paid 27696.83 | Principal Remaining 3164625.77\n",
      "EMI no. 153| Interest Paid :17893.25 | Principal Paid 27853.44 | Principal Remaining 3136772.33\n",
      "EMI no. 154| Interest Paid :17735.77 | Principal Paid 28010.92 | Principal Remaining 3108761.41\n",
      "EMI no. 155| Interest Paid :17577.39 | Principal Paid 28169.3 | Principal Remaining 3080592.11\n",
      "EMI no. 156| Interest Paid :17418.12 | Principal Paid 28328.57 | Principal Remaining 3052263.54\n",
      "EMI no. 157| Interest Paid :17257.94 | Principal Paid 28488.75 | Principal Remaining 3023774.79\n",
      "EMI no. 158| Interest Paid :17096.86 | Principal Paid 28649.83 | Principal Remaining 2995124.96\n",
      "EMI no. 159| Interest Paid :16934.87 | Principal Paid 28811.82 | Principal Remaining 2966313.14\n",
      "EMI no. 160| Interest Paid :16771.97 | Principal Paid 28974.72 | Principal Remaining 2937338.42\n",
      "EMI no. 161| Interest Paid :16608.14 | Principal Paid 29138.55 | Principal Remaining 2908199.87\n",
      "EMI no. 162| Interest Paid :16443.38 | Principal Paid 29303.31 | Principal Remaining 2878896.56\n",
      "EMI no. 163| Interest Paid :16277.7 | Principal Paid 29468.99 | Principal Remaining 2849427.57\n",
      "EMI no. 164| Interest Paid :16111.08 | Principal Paid 29635.61 | Principal Remaining 2819791.96\n",
      "EMI no. 165| Interest Paid :15943.51 | Principal Paid 29803.18 | Principal Remaining 2789988.78\n",
      "EMI no. 166| Interest Paid :15775.0 | Principal Paid 29971.69 | Principal Remaining 2760017.09\n",
      "EMI no. 167| Interest Paid :15605.54 | Principal Paid 30141.15 | Principal Remaining 2729875.94\n",
      "EMI no. 168| Interest Paid :15435.12 | Principal Paid 30311.57 | Principal Remaining 2699564.37\n",
      "EMI no. 169| Interest Paid :15263.73 | Principal Paid 30482.96 | Principal Remaining 2669081.41\n",
      "EMI no. 170| Interest Paid :15091.37 | Principal Paid 30655.32 | Principal Remaining 2638426.09\n",
      "EMI no. 171| Interest Paid :14918.04 | Principal Paid 30828.65 | Principal Remaining 2607597.44\n",
      "EMI no. 172| Interest Paid :14743.74 | Principal Paid 31002.95 | Principal Remaining 2576594.49\n",
      "EMI no. 173| Interest Paid :14568.44 | Principal Paid 31178.25 | Principal Remaining 2545416.24\n",
      "EMI no. 174| Interest Paid :14392.15 | Principal Paid 31354.54 | Principal Remaining 2514061.7\n",
      "EMI no. 175| Interest Paid :14214.87 | Principal Paid 31531.82 | Principal Remaining 2482529.88\n",
      "EMI no. 176| Interest Paid :14036.58 | Principal Paid 31710.11 | Principal Remaining 2450819.77\n",
      "EMI no. 177| Interest Paid :13857.29 | Principal Paid 31889.4 | Principal Remaining 2418930.37\n",
      "EMI no. 178| Interest Paid :13676.98 | Principal Paid 32069.71 | Principal Remaining 2386860.66\n",
      "EMI no. 179| Interest Paid :13495.66 | Principal Paid 32251.03 | Principal Remaining 2354609.63\n",
      "EMI no. 180| Interest Paid :13313.31 | Principal Paid 32433.38 | Principal Remaining 2322176.25\n",
      "EMI no. 181| Interest Paid :13129.92 | Principal Paid 32616.77 | Principal Remaining 2289559.48\n",
      "EMI no. 182| Interest Paid :12945.5 | Principal Paid 32801.19 | Principal Remaining 2256758.29\n",
      "EMI no. 183| Interest Paid :12760.04 | Principal Paid 32986.65 | Principal Remaining 2223771.64\n",
      "EMI no. 184| Interest Paid :12573.53 | Principal Paid 33173.16 | Principal Remaining 2190598.48\n",
      "EMI no. 185| Interest Paid :12385.96 | Principal Paid 33360.73 | Principal Remaining 2157237.75\n",
      "EMI no. 186| Interest Paid :12197.34 | Principal Paid 33549.35 | Principal Remaining 2123688.4\n",
      "EMI no. 187| Interest Paid :12007.64 | Principal Paid 33739.05 | Principal Remaining 2089949.35\n",
      "EMI no. 188| Interest Paid :11816.88 | Principal Paid 33929.81 | Principal Remaining 2056019.54\n",
      "EMI no. 189| Interest Paid :11625.03 | Principal Paid 34121.66 | Principal Remaining 2021897.88\n",
      "EMI no. 190| Interest Paid :11432.1 | Principal Paid 34314.59 | Principal Remaining 1987583.29\n",
      "EMI no. 191| Interest Paid :11238.08 | Principal Paid 34508.61 | Principal Remaining 1953074.68\n",
      "EMI no. 192| Interest Paid :11042.97 | Principal Paid 34703.72 | Principal Remaining 1918370.96\n",
      "EMI no. 193| Interest Paid :10846.75 | Principal Paid 34899.94 | Principal Remaining 1883471.02\n",
      "EMI no. 194| Interest Paid :10649.42 | Principal Paid 35097.27 | Principal Remaining 1848373.75\n",
      "EMI no. 195| Interest Paid :10450.97 | Principal Paid 35295.72 | Principal Remaining 1813078.03\n",
      "EMI no. 196| Interest Paid :10251.41 | Principal Paid 35495.28 | Principal Remaining 1777582.75\n",
      "EMI no. 197| Interest Paid :10050.71 | Principal Paid 35695.98 | Principal Remaining 1741886.77\n",
      "EMI no. 198| Interest Paid :9848.88 | Principal Paid 35897.81 | Principal Remaining 1705988.96\n",
      "EMI no. 199| Interest Paid :9645.91 | Principal Paid 36100.78 | Principal Remaining 1669888.18\n",
      "EMI no. 200| Interest Paid :9441.79 | Principal Paid 36304.9 | Principal Remaining 1633583.28\n",
      "EMI no. 201| Interest Paid :9236.52 | Principal Paid 36510.17 | Principal Remaining 1597073.11\n",
      "EMI no. 202| Interest Paid :9030.08 | Principal Paid 36716.61 | Principal Remaining 1560356.5\n",
      "EMI no. 203| Interest Paid :8822.48 | Principal Paid 36924.21 | Principal Remaining 1523432.29\n",
      "EMI no. 204| Interest Paid :8613.71 | Principal Paid 37132.98 | Principal Remaining 1486299.31\n",
      "EMI no. 205| Interest Paid :8403.75 | Principal Paid 37342.94 | Principal Remaining 1448956.37\n",
      "EMI no. 206| Interest Paid :8192.61 | Principal Paid 37554.08 | Principal Remaining 1411402.29\n",
      "EMI no. 207| Interest Paid :7980.27 | Principal Paid 37766.42 | Principal Remaining 1373635.87\n",
      "EMI no. 208| Interest Paid :7766.74 | Principal Paid 37979.95 | Principal Remaining 1335655.92\n",
      "EMI no. 209| Interest Paid :7551.99 | Principal Paid 38194.7 | Principal Remaining 1297461.22\n",
      "EMI no. 210| Interest Paid :7336.03 | Principal Paid 38410.66 | Principal Remaining 1259050.56\n",
      "EMI no. 211| Interest Paid :7118.85 | Principal Paid 38627.84 | Principal Remaining 1220422.72\n",
      "EMI no. 212| Interest Paid :6900.45 | Principal Paid 38846.24 | Principal Remaining 1181576.48\n",
      "EMI no. 213| Interest Paid :6680.81 | Principal Paid 39065.88 | Principal Remaining 1142510.6\n",
      "EMI no. 214| Interest Paid :6459.92 | Principal Paid 39286.77 | Principal Remaining 1103223.83\n",
      "EMI no. 215| Interest Paid :6237.79 | Principal Paid 39508.9 | Principal Remaining 1063714.93\n",
      "EMI no. 216| Interest Paid :6014.4 | Principal Paid 39732.29 | Principal Remaining 1023982.64\n",
      "EMI no. 217| Interest Paid :5789.75 | Principal Paid 39956.94 | Principal Remaining 984025.7\n",
      "EMI no. 218| Interest Paid :5563.82 | Principal Paid 40182.87 | Principal Remaining 943842.83\n",
      "EMI no. 219| Interest Paid :5336.62 | Principal Paid 40410.07 | Principal Remaining 903432.76\n",
      "EMI no. 220| Interest Paid :5108.14 | Principal Paid 40638.55 | Principal Remaining 862794.21\n",
      "EMI no. 221| Interest Paid :4878.36 | Principal Paid 40868.33 | Principal Remaining 821925.88\n",
      "EMI no. 222| Interest Paid :4647.29 | Principal Paid 41099.4 | Principal Remaining 780826.48\n",
      "EMI no. 223| Interest Paid :4414.91 | Principal Paid 41331.78 | Principal Remaining 739494.7\n",
      "EMI no. 224| Interest Paid :4181.21 | Principal Paid 41565.48 | Principal Remaining 697929.22\n",
      "EMI no. 225| Interest Paid :3946.19 | Principal Paid 41800.5 | Principal Remaining 656128.72\n",
      "EMI no. 226| Interest Paid :3709.85 | Principal Paid 42036.84 | Principal Remaining 614091.88\n",
      "EMI no. 227| Interest Paid :3472.16 | Principal Paid 42274.53 | Principal Remaining 571817.35\n",
      "EMI no. 228| Interest Paid :3233.14 | Principal Paid 42513.55 | Principal Remaining 529303.8\n",
      "EMI no. 229| Interest Paid :2992.76 | Principal Paid 42753.93 | Principal Remaining 486549.87\n",
      "EMI no. 230| Interest Paid :2751.02 | Principal Paid 42995.67 | Principal Remaining 443554.2\n",
      "EMI no. 231| Interest Paid :2507.92 | Principal Paid 43238.77 | Principal Remaining 400315.43\n",
      "EMI no. 232| Interest Paid :2263.44 | Principal Paid 43483.25 | Principal Remaining 356832.18\n",
      "EMI no. 233| Interest Paid :2017.58 | Principal Paid 43729.11 | Principal Remaining 313103.07\n",
      "EMI no. 234| Interest Paid :1770.33 | Principal Paid 43976.36 | Principal Remaining 269126.71\n",
      "EMI no. 235| Interest Paid :1521.68 | Principal Paid 44225.01 | Principal Remaining 224901.7\n",
      "EMI no. 236| Interest Paid :1271.63 | Principal Paid 44475.06 | Principal Remaining 180426.64\n",
      "EMI no. 237| Interest Paid :1020.16 | Principal Paid 44726.53 | Principal Remaining 135700.11\n",
      "EMI no. 238| Interest Paid :767.27 | Principal Paid 44979.42 | Principal Remaining 90720.69\n",
      "EMI no. 239| Interest Paid :512.95 | Principal Paid 45233.74 | Principal Remaining 45486.95\n",
      "EMI no. 240| Interest Paid :257.19 | Principal Paid 45486.94999999833 | Principal Remaining 0.0\n"
     ]
    }
   ],
   "source": [
    "#Use a FOR Loop through the loan tenure or period and store the values in an array\n",
    "\n",
    "principal_remaining = np.zeros(loan_tenure)\n",
    "interest_paid = np.zeros(loan_tenure)\n",
    "principal_paid= np.zeros(loan_tenure)\n",
    "\n",
    "for i in range(0, loan_tenure):\n",
    "    \n",
    "    # For first EMI\n",
    "    if i == 0:\n",
    "        previous_principal_remaining = mortgage_loan_amt\n",
    "    else:\n",
    "        previous_principal_remaining = principal_remaining[i-1]\n",
    "        \n",
    "    # Calculate the interest and principal payments\n",
    "    interest_payment = round(previous_principal_remaining*interest_rate_monthly, 2)\n",
    "    principal_payment = round(emi_amount - interest_payment, 2)\n",
    "    \n",
    "    # Catch the case where all principal is paid off in the final period\n",
    "    if previous_principal_remaining - principal_payment < 0:\n",
    "        principal_payment = previous_principal_remaining\n",
    "        \n",
    "    # Collect the values in an array\n",
    "    interest_paid[i] = interest_payment\n",
    "    principal_paid[i] = principal_payment\n",
    "    principal_remaining[i] = previous_principal_remaining - principal_payment\n",
    "    \n",
    "    # Print the payments for the first few periods\n",
    "    print(f\"EMI no. {i+1}| Interest Paid :{interest_payment} | Principal Paid {principal_payment} | Principal Remaining {np.round(principal_remaining[i],2)}\")"
   ]
  },
  {
   "cell_type": "markdown",
   "id": "3d9899ae",
   "metadata": {},
   "source": [
    "## Converting into a DATAFRAME"
   ]
  },
  {
   "cell_type": "code",
   "execution_count": 7,
   "id": "cdb2b572",
   "metadata": {},
   "outputs": [],
   "source": [
    "import pandas as pd\n",
    "\n",
    "principal = pd.Series(principal_paid)\n",
    "interest = pd.Series(interest_paid)\n",
    "principal_remain = pd.Series(principal_remaining)\n",
    "EMI = pd.Series(np.ones(loan_tenure)*(round(emi_amount,2)))\n",
    "EMI_num = pd.Series(np.arange(1,loan_tenure+1))"
   ]
  },
  {
   "cell_type": "code",
   "execution_count": 8,
   "id": "9d130984",
   "metadata": {},
   "outputs": [],
   "source": [
    "loan_calculator = pd.concat([EMI_num,EMI,principal,interest,principal_remain], axis=1, \n",
    "    keys=[\"EMI no.\",\"EMI amount\",\"Principal Payment\",\"Interest Payment\", \"Principal Remaining\"]).set_index(\"EMI no.\")"
   ]
  },
  {
   "cell_type": "markdown",
   "id": "c1ffbdf3",
   "metadata": {},
   "source": [
    "Alternatively, **pd.DataFrame()** can be used."
   ]
  },
  {
   "cell_type": "code",
   "execution_count": 9,
   "id": "c2f552fc",
   "metadata": {
    "scrolled": true
   },
   "outputs": [
    {
     "data": {
      "text/html": [
       "<div>\n",
       "<style scoped>\n",
       "    .dataframe tbody tr th:only-of-type {\n",
       "        vertical-align: middle;\n",
       "    }\n",
       "\n",
       "    .dataframe tbody tr th {\n",
       "        vertical-align: top;\n",
       "    }\n",
       "\n",
       "    .dataframe thead th {\n",
       "        text-align: right;\n",
       "    }\n",
       "</style>\n",
       "<table border=\"1\" class=\"dataframe\">\n",
       "  <thead>\n",
       "    <tr style=\"text-align: right;\">\n",
       "      <th></th>\n",
       "      <th>EMI amount</th>\n",
       "      <th>Principal Payment</th>\n",
       "      <th>Interest Payment</th>\n",
       "      <th>Principal Remaining</th>\n",
       "    </tr>\n",
       "    <tr>\n",
       "      <th>EMI no.</th>\n",
       "      <th></th>\n",
       "      <th></th>\n",
       "      <th></th>\n",
       "      <th></th>\n",
       "    </tr>\n",
       "  </thead>\n",
       "  <tbody>\n",
       "    <tr>\n",
       "      <th>1</th>\n",
       "      <td>45746.69</td>\n",
       "      <td>11821.82</td>\n",
       "      <td>33924.87</td>\n",
       "      <td>5988178.18</td>\n",
       "    </tr>\n",
       "    <tr>\n",
       "      <th>2</th>\n",
       "      <td>45746.69</td>\n",
       "      <td>11888.66</td>\n",
       "      <td>33858.03</td>\n",
       "      <td>5976289.52</td>\n",
       "    </tr>\n",
       "    <tr>\n",
       "      <th>3</th>\n",
       "      <td>45746.69</td>\n",
       "      <td>11955.88</td>\n",
       "      <td>33790.81</td>\n",
       "      <td>5964333.64</td>\n",
       "    </tr>\n",
       "    <tr>\n",
       "      <th>4</th>\n",
       "      <td>45746.69</td>\n",
       "      <td>12023.48</td>\n",
       "      <td>33723.21</td>\n",
       "      <td>5952310.16</td>\n",
       "    </tr>\n",
       "    <tr>\n",
       "      <th>5</th>\n",
       "      <td>45746.69</td>\n",
       "      <td>12091.46</td>\n",
       "      <td>33655.23</td>\n",
       "      <td>5940218.70</td>\n",
       "    </tr>\n",
       "    <tr>\n",
       "      <th>...</th>\n",
       "      <td>...</td>\n",
       "      <td>...</td>\n",
       "      <td>...</td>\n",
       "      <td>...</td>\n",
       "    </tr>\n",
       "    <tr>\n",
       "      <th>236</th>\n",
       "      <td>45746.69</td>\n",
       "      <td>44475.06</td>\n",
       "      <td>1271.63</td>\n",
       "      <td>180426.64</td>\n",
       "    </tr>\n",
       "    <tr>\n",
       "      <th>237</th>\n",
       "      <td>45746.69</td>\n",
       "      <td>44726.53</td>\n",
       "      <td>1020.16</td>\n",
       "      <td>135700.11</td>\n",
       "    </tr>\n",
       "    <tr>\n",
       "      <th>238</th>\n",
       "      <td>45746.69</td>\n",
       "      <td>44979.42</td>\n",
       "      <td>767.27</td>\n",
       "      <td>90720.69</td>\n",
       "    </tr>\n",
       "    <tr>\n",
       "      <th>239</th>\n",
       "      <td>45746.69</td>\n",
       "      <td>45233.74</td>\n",
       "      <td>512.95</td>\n",
       "      <td>45486.95</td>\n",
       "    </tr>\n",
       "    <tr>\n",
       "      <th>240</th>\n",
       "      <td>45746.69</td>\n",
       "      <td>45486.95</td>\n",
       "      <td>257.19</td>\n",
       "      <td>0.00</td>\n",
       "    </tr>\n",
       "  </tbody>\n",
       "</table>\n",
       "<p>240 rows × 4 columns</p>\n",
       "</div>"
      ],
      "text/plain": [
       "         EMI amount  Principal Payment  Interest Payment  Principal Remaining\n",
       "EMI no.                                                                      \n",
       "1          45746.69           11821.82          33924.87           5988178.18\n",
       "2          45746.69           11888.66          33858.03           5976289.52\n",
       "3          45746.69           11955.88          33790.81           5964333.64\n",
       "4          45746.69           12023.48          33723.21           5952310.16\n",
       "5          45746.69           12091.46          33655.23           5940218.70\n",
       "...             ...                ...               ...                  ...\n",
       "236        45746.69           44475.06           1271.63            180426.64\n",
       "237        45746.69           44726.53           1020.16            135700.11\n",
       "238        45746.69           44979.42            767.27             90720.69\n",
       "239        45746.69           45233.74            512.95             45486.95\n",
       "240        45746.69           45486.95            257.19                 0.00\n",
       "\n",
       "[240 rows x 4 columns]"
      ]
     },
     "execution_count": 9,
     "metadata": {},
     "output_type": "execute_result"
    }
   ],
   "source": [
    "loan_calculator"
   ]
  },
  {
   "cell_type": "markdown",
   "id": "98b35510",
   "metadata": {},
   "source": [
    "# Visualize the monthly interest & principal payment during loan tenure"
   ]
  },
  {
   "cell_type": "code",
   "execution_count": 10,
   "id": "1fae342c",
   "metadata": {
    "scrolled": false
   },
   "outputs": [
    {
     "data": {
      "image/png": "[encoded data removed]",
      "text/plain": [
       "<Figure size 900x600 with 1 Axes>"
      ]
     },
     "metadata": {
      "needs_background": "light"
     },
     "output_type": "display_data"
    }
   ],
   "source": [
    "plt.figure(dpi =100, figsize =(9,6))\n",
    "plt.plot(interest_paid, color=\"red\")\n",
    "plt.plot(principal_paid, color=\"blue\")\n",
    "plt.xlabel(\"Loan tenure in Months\")\n",
    "plt.ylabel(\"Amount Paid\")\n",
    "plt.xlim(0,loan_tenure)\n",
    "plt.ylim(0,emi_amount+1000)\n",
    "plt.legend ([\"Monthly Interest\", \"Monthly Principal\"], loc =2)\n",
    "plt.title(\"Principal vs Interest payment\");"
   ]
  },
  {
   "cell_type": "markdown",
   "id": "9b5f5518",
   "metadata": {},
   "source": [
    "## Visualize the CUMULATIVE interest & principal payment during loan tenure"
   ]
  },
  {
   "cell_type": "code",
   "execution_count": 11,
   "id": "244daefb",
   "metadata": {},
   "outputs": [
    {
     "data": {
      "image/png": "[encoded data removed]",
      "text/plain": [
       "<Figure size 900x600 with 1 Axes>"
      ]
     },
     "metadata": {
      "needs_background": "light"
     },
     "output_type": "display_data"
    }
   ],
   "source": [
    "\n",
    "cumulative_principal_paid = np.cumsum((principal_paid))\n",
    "cumulative_interest_paid = np.cumsum(np.array(interest_paid))\n",
    "\n",
    "plt.figure(dpi =100, figsize =(9,6))\n",
    "plt.xlabel(\"Loan tenure in Months\")\n",
    "plt.ylabel(\"Amount Paid\")\n",
    "plt.xlim(0,loan_tenure)\n",
    "plt.ylim(0,mortgage_loan_amt)\n",
    "plt.title(\"Principal vs Interest payment\");\n",
    "plt.plot(cumulative_interest_paid, color='red')\n",
    "plt.plot(cumulative_principal_paid, color='blue')\n",
    "plt.legend([\"interest_plot\", \"principal_plot\"], loc=2)\n",
    "plt.show()"
   ]
  },
  {
   "cell_type": "markdown",
   "id": "aff8faef",
   "metadata": {},
   "source": [
    "## Calculate your percentage home equity(ownership) over loan tenure"
   ]
  },
  {
   "cell_type": "code",
   "execution_count": 12,
   "id": "62b71dd2",
   "metadata": {},
   "outputs": [
    {
     "data": {
      "image/png": "[encoded data removed]",
      "text/plain": [
       "<Figure size 900x600 with 1 Axes>"
      ]
     },
     "metadata": {
      "needs_background": "light"
     },
     "output_type": "display_data"
    }
   ],
   "source": [
    "cumulative_percent_owned = np.round((down_payment_pct + (cumulative_principal_paid/home_cost))*100,2)\n",
    "plt.figure(dpi =100, figsize =(9,6))\n",
    "plt.xlabel(\"Loan tenure in Months\")\n",
    "plt.ylabel(\"Home Ownership %\")\n",
    "\n",
    "plt.plot(cumulative_percent_owned);"
   ]
  }
 ],
 "metadata": {
  "kernelspec": {
   "display_name": "Python 3",
   "language": "python",
   "name": "python3"
  },
  "language_info": {
   "codemirror_mode": {
    "name": "ipython",
    "version": 3
   },
   "file_extension": ".py",
   "mimetype": "text/x-python",
   "name": "python",
   "nbconvert_exporter": "python",
   "pygments_lexer": "ipython3",
   "version": "3.8.8"
  }
 },
 "nbformat": 4,
 "nbformat_minor": 5
}

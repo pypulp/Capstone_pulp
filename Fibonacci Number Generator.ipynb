{
 "cells": [
  {
   "cell_type": "markdown",
   "id": "93a8ab6c",
   "metadata": {},
   "source": [
    "# Generate Fibonacci Numbers "
   ]
  },
  {
   "cell_type": "markdown",
   "id": "3cedc134",
   "metadata": {},
   "source": [
    "### (i) Using Yield / Generator"
   ]
  },
  {
   "cell_type": "code",
   "execution_count": 14,
   "id": "884ae534",
   "metadata": {},
   "outputs": [],
   "source": [
    "def fib_gen(n):\n",
    "    ''' Generate the 'n' fibonacci series numbers using generator function'''\n",
    "\n",
    "    x = 0\n",
    "    y = 1\n",
    "    for i in range(n):\n",
    "        yield x\n",
    "        x,y =y,x+y"
   ]
  },
  {
   "cell_type": "code",
   "execution_count": 15,
   "id": "75e8a477",
   "metadata": {},
   "outputs": [
    {
     "name": "stdout",
     "output_type": "stream",
     "text": [
      "0\n",
      "1\n",
      "1\n",
      "2\n",
      "3\n"
     ]
    }
   ],
   "source": [
    "for i in fib_gen(5):\n",
    "    print(i)"
   ]
  },
  {
   "cell_type": "code",
   "execution_count": 16,
   "id": "7017db31",
   "metadata": {},
   "outputs": [
    {
     "data": {
      "text/plain": [
       "[0, 1, 1, 2, 3, 5, 8]"
      ]
     },
     "execution_count": 16,
     "metadata": {},
     "output_type": "execute_result"
    }
   ],
   "source": [
    "list (fib_gen(7))"
   ]
  },
  {
   "cell_type": "markdown",
   "id": "0a4c639f",
   "metadata": {},
   "source": [
    "### (ii) Using FOR loop"
   ]
  },
  {
   "cell_type": "code",
   "execution_count": 17,
   "id": "d2bfcef6",
   "metadata": {},
   "outputs": [],
   "source": [
    "def fib_list(n):\n",
    "    ''' Generate the 'n' fibonacci series numbers using LIST function '''\n",
    "    x = 0\n",
    "    y = 1\n",
    "    output = []\n",
    "\n",
    "    for i in  range (n) :\n",
    "        output.append(x)\n",
    "        x,y = y, x+y \n",
    "    \n",
    "    return output"
   ]
  },
  {
   "cell_type": "code",
   "execution_count": 18,
   "id": "1c1d3c60",
   "metadata": {},
   "outputs": [
    {
     "data": {
      "text/plain": [
       "[0, 1, 1, 2, 3, 5, 8]"
      ]
     },
     "execution_count": 18,
     "metadata": {},
     "output_type": "execute_result"
    }
   ],
   "source": [
    "fib_list(7)"
   ]
  }
 ],
 "metadata": {
  "kernelspec": {
   "display_name": "Python 3",
   "language": "python",
   "name": "python3"
  },
  "language_info": {
   "codemirror_mode": {
    "name": "ipython",
    "version": 3
   },
   "file_extension": ".py",
   "mimetype": "text/x-python",
   "name": "python",
   "nbconvert_exporter": "python",
   "pygments_lexer": "ipython3",
   "version": "3.8.8"
  }
 },
 "nbformat": 4,
 "nbformat_minor": 5
}

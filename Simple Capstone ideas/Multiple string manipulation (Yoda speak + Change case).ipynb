{
 "cells": [
  {
   "cell_type": "markdown",
   "id": "496a121e",
   "metadata": {},
   "source": [
    "# Reverse the word order and swap cases "
   ]
  },
  {
   "cell_type": "code",
   "execution_count": 2,
   "id": "d95f892d",
   "metadata": {},
   "outputs": [],
   "source": [
    "def yoda_speak_and_change_case():\n",
    "    sentence=input(\"Enter the sentence\\n\")\n",
    "    sentence =sentence.split()\n",
    "    lst = sentence[::-1]\n",
    "    rev_sen =\" \".join(lst)\n",
    "    lst2=[]\n",
    "    for i in range(len(rev_sen)):\n",
    "        if i %2==0:\n",
    "            lst2.append(rev_sen[i].upper())\n",
    "        else:\n",
    "            lst2.append(rev_sen[i].lower())\n",
    "            \n",
    "    return \"\".join(lst2)"
   ]
  },
  {
   "cell_type": "code",
   "execution_count": 3,
   "id": "d706e8c7",
   "metadata": {},
   "outputs": [
    {
     "name": "stdout",
     "output_type": "stream",
     "text": [
      "Enter the sentence\n",
      "This is AweSome\n"
     ]
    },
    {
     "data": {
      "text/plain": [
       "'AwEsOmE Is tHiS'"
      ]
     },
     "execution_count": 3,
     "metadata": {},
     "output_type": "execute_result"
    }
   ],
   "source": [
    "yoda_speak_and_change_case()"
   ]
  },
  {
   "cell_type": "code",
   "execution_count": 5,
   "id": "75d37b99",
   "metadata": {},
   "outputs": [
    {
     "name": "stdout",
     "output_type": "stream",
     "text": [
      "Enter the sentence\n",
      "Fear is the path to dark side\n"
     ]
    },
    {
     "data": {
      "text/plain": [
       "'SiDe dArK To pAtH ThE Is fEaR'"
      ]
     },
     "execution_count": 5,
     "metadata": {},
     "output_type": "execute_result"
    }
   ],
   "source": [
    "yoda_speak_and_change_case()"
   ]
  },
  {
   "cell_type": "code",
   "execution_count": null,
   "id": "99fb47b5",
   "metadata": {},
   "outputs": [],
   "source": []
  }
 ],
 "metadata": {
  "kernelspec": {
   "display_name": "Python 3",
   "language": "python",
   "name": "python3"
  },
  "language_info": {
   "codemirror_mode": {
    "name": "ipython",
    "version": 3
   },
   "file_extension": ".py",
   "mimetype": "text/x-python",
   "name": "python",
   "nbconvert_exporter": "python",
   "pygments_lexer": "ipython3",
   "version": "3.8.8"
  }
 },
 "nbformat": 4,
 "nbformat_minor": 5
}

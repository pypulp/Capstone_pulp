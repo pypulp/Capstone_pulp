{
 "cells": [
  {
   "cell_type": "markdown",
   "id": "cadd5472",
   "metadata": {},
   "source": [
    "# Simple Prime Factorization"
   ]
  },
  {
   "cell_type": "code",
   "execution_count": 1,
   "id": "60e50121",
   "metadata": {},
   "outputs": [],
   "source": [
    "def prime_factor(n):\n",
    "    i = 2\n",
    "    pfactors = []\n",
    "    while i*i  <= n:\n",
    "        if (n % i)!=0:\n",
    "            i += 1\n",
    "        else:\n",
    "            n //= i\n",
    "            pfactors.append(i)\n",
    "    if n > 1:\n",
    "        pfactors.append(n)\n",
    "\n",
    "    return sorted(pfactors)"
   ]
  },
  {
   "cell_type": "code",
   "execution_count": 2,
   "id": "c6f7bcc8",
   "metadata": {},
   "outputs": [
    {
     "data": {
      "text/plain": [
       "[2, 2, 2, 2, 43]"
      ]
     },
     "execution_count": 2,
     "metadata": {},
     "output_type": "execute_result"
    }
   ],
   "source": [
    "prime_factor(688)"
   ]
  },
  {
   "cell_type": "code",
   "execution_count": 3,
   "id": "06df1a44",
   "metadata": {},
   "outputs": [
    {
     "data": {
      "text/plain": [
       "[23]"
      ]
     },
     "execution_count": 3,
     "metadata": {},
     "output_type": "execute_result"
    }
   ],
   "source": [
    "prime_factor(23)"
   ]
  },
  {
   "cell_type": "code",
   "execution_count": 4,
   "id": "394b9b3d",
   "metadata": {},
   "outputs": [
    {
     "data": {
      "text/plain": [
       "[3, 5, 7, 13]"
      ]
     },
     "execution_count": 4,
     "metadata": {},
     "output_type": "execute_result"
    }
   ],
   "source": [
    "prime_factor(1365)"
   ]
  }
 ],
 "metadata": {
  "kernelspec": {
   "display_name": "Python 3",
   "language": "python",
   "name": "python3"
  },
  "language_info": {
   "codemirror_mode": {
    "name": "ipython",
    "version": 3
   },
   "file_extension": ".py",
   "mimetype": "text/x-python",
   "name": "python",
   "nbconvert_exporter": "python",
   "pygments_lexer": "ipython3",
   "version": "3.8.8"
  }
 },
 "nbformat": 4,
 "nbformat_minor": 5
}

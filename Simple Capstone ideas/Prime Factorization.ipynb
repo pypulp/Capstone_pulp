{
 "cells": [
  {
   "cell_type": "code",
   "execution_count": null,
   "id": "675120dd",
   "metadata": {},
   "outputs": [],
   "source": [
    "Simple Prime Factorization "
   ]
  },
  {
   "cell_type": "code",
   "execution_count": 47,
   "id": "6aaa01d9",
   "metadata": {},
   "outputs": [],
   "source": []
  },
  {
   "cell_type": "code",
   "execution_count": 48,
   "id": "cd7cbff9",
   "metadata": {},
   "outputs": [
    {
     "data": {
      "text/plain": [
       "[2, 4, 11]"
      ]
     },
     "execution_count": 48,
     "metadata": {},
     "output_type": "execute_result"
    }
   ],
   "source": [
    "prime_factor(88)"
   ]
  },
  {
   "cell_type": "code",
   "execution_count": null,
   "id": "c20a54a9",
   "metadata": {},
   "outputs": [],
   "source": []
  }
 ],
 "metadata": {
  "kernelspec": {
   "display_name": "Python 3",
   "language": "python",
   "name": "python3"
  },
  "language_info": {
   "codemirror_mode": {
    "name": "ipython",
    "version": 3
   },
   "file_extension": ".py",
   "mimetype": "text/x-python",
   "name": "python",
   "nbconvert_exporter": "python",
   "pygments_lexer": "ipython3",
   "version": "3.8.8"
  }
 },
 "nbformat": 4,
 "nbformat_minor": 5
}

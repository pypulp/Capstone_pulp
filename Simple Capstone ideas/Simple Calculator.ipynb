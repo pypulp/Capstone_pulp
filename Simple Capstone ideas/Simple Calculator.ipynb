{
 "cells": [
  {
   "cell_type": "markdown",
   "id": "32cdc083",
   "metadata": {},
   "source": [
    "## SIMPLE CALCULATOR "
   ]
  },
  {
   "cell_type": "code",
   "execution_count": 6,
   "id": "24947679",
   "metadata": {},
   "outputs": [
    {
     "name": "stdout",
     "output_type": "stream",
     "text": [
      "\n",
      " _____________________\n",
      "|  _________________  |\n",
      "| | JO           0. | |\n",
      "| |_________________| |\n",
      "|  ___ ___ ___   ___  |\n",
      "| | 7 | 8 | 9 | | + | |\n",
      "| |___|___|___| |___| |\n",
      "| | 4 | 5 | 6 | | - | |\n",
      "| |___|___|___| |___| |\n",
      "| | 1 | 2 | 3 | | x | |\n",
      "| |___|___|___| |___| |\n",
      "| | . | 0 | = | | / | |\n",
      "| |___|___|___| |___| |\n",
      "|_____________________|\n",
      "\n",
      "\n",
      "Input first number? 3\n",
      "+\n",
      "-\n",
      "*\n",
      "/\n",
      "nroot\n",
      "Select operator: nroot\n",
      "Input second number? 81\n",
      "3.0 √81.0 = 4.3267487109222245\n"
     ]
    }
   ],
   "source": [
    "art = \"\"\"\n",
    " _____________________\n",
    "|  _________________  |\n",
    "| | JO           0. | |\n",
    "| |_________________| |\n",
    "|  ___ ___ ___   ___  |\n",
    "| | 7 | 8 | 9 | | + | |\n",
    "| |___|___|___| |___| |\n",
    "| | 4 | 5 | 6 | | - | |\n",
    "| |___|___|___| |___| |\n",
    "| | 1 | 2 | 3 | | x | |\n",
    "| |___|___|___| |___| |\n",
    "| | . | 0 | = | | / | |\n",
    "| |___|___|___| |___| |\n",
    "|_____________________|\n",
    "\n",
    "\"\"\"\n",
    "print(art)\n",
    "\n",
    "def add(n1, n2):\n",
    "    return n1+n2\n",
    "\n",
    "def subtract(n1,n2):\n",
    "    return n1 -n2\n",
    "\n",
    "\n",
    "def multiply(n1,n2):\n",
    "    return n1*n2\n",
    "\n",
    "\n",
    "def divide(n1,n2):\n",
    "    return n1 /n2\n",
    "\n",
    "def nth_root(n1,n2):\n",
    "    return(n2**(1/n1))\n",
    "\n",
    "\n",
    "#Create dict \n",
    "\n",
    "operations= {\n",
    "\"+\" : add,\n",
    " \"-\" : subtract,\n",
    " \"*\" : multiply,\n",
    " \"/\" : divide,\n",
    " \"nroot\":nth_root\n",
    "}\n",
    "\n",
    "#inputs\n",
    "\n",
    "num1 = float(input( \"Input first number? \"))\n",
    "\n",
    "for key,values in operations.items():\n",
    "    print (key)\n",
    "symbol= input(\"Select operator: \")\n",
    "\n",
    "num2 = float(input( \"Input second number? \"))\n",
    "\n",
    "calc_func = operations[symbol]\n",
    "output =calc_func(num1, num2)\n",
    "\n",
    "if symbol==\"nroot\":\n",
    "    print (f\"{num1} √{num2} = {output}\")\n",
    "else:\n",
    "    print(f\"{num1} {symbol} {num2} = {output}\")\n"
   ]
  },
  {
   "cell_type": "markdown",
   "id": "817bb9ff",
   "metadata": {},
   "source": [
    "In root function, **first input is the nth root (sqrt =2, cube root =3....), \n",
    "and second input is the number of which the nth root is being performed "
   ]
  },
  {
   "cell_type": "code",
   "execution_count": null,
   "id": "f5fb00b6",
   "metadata": {},
   "outputs": [],
   "source": []
  }
 ],
 "metadata": {
  "kernelspec": {
   "display_name": "Python 3",
   "language": "python",
   "name": "python3"
  },
  "language_info": {
   "codemirror_mode": {
    "name": "ipython",
    "version": 3
   },
   "file_extension": ".py",
   "mimetype": "text/x-python",
   "name": "python",
   "nbconvert_exporter": "python",
   "pygments_lexer": "ipython3",
   "version": "3.8.8"
  }
 },
 "nbformat": 4,
 "nbformat_minor": 5
}

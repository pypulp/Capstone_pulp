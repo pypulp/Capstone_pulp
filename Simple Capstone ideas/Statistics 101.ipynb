{
 "cells": [
  {
   "cell_type": "markdown",
   "id": "5ade61d3",
   "metadata": {},
   "source": [
    "# Simple function to return basic summary statistics \n",
    " \n",
    "(without using python's statistics module functions)"
   ]
  },
  {
   "cell_type": "code",
   "execution_count": 2,
   "id": "dd6c0964",
   "metadata": {},
   "outputs": [],
   "source": [
    "def stats101(*args):\n",
    "    \n",
    "        \n",
    "    \"\"\"\n",
    "    - Basic function to return \"Measures of Central Tendency\"\n",
    "    -Measures of Dispersion added\n",
    "    -Func stats101() can break if  \"P\" or \"S\" not entered correctly\n",
    "    \"\"\"\n",
    "    \n",
    "    #MEAN \n",
    "    mean = sum(args)/len(args)\n",
    "    print( f\"Measures of Central Tendency\\nMean   :  {mean}\")\n",
    "    \n",
    "    #MEDIAN\n",
    "    sort_args= sorted(args)\n",
    "    index = (len(args)-1)//2\n",
    "    \n",
    "    if len(args) %2:\n",
    "        median = sort_args[index]\n",
    "    else :\n",
    "        median = (sort_args[index]+ sort_args[index +1])/2\n",
    "        \n",
    "    print (f\"Median :  {median}\")\n",
    "    \n",
    "    #MODE\n",
    "    \n",
    "    frequency={}\n",
    "    for nums in args:\n",
    "        frequency.setdefault(nums,0)\n",
    "        frequency[nums]+=1    \n",
    "    \n",
    "    max_frequency=max(frequency.values())\n",
    "    for key,value in frequency.items():\n",
    "        if value ==max_frequency:\n",
    "            print(f\"Mode   :  {key} (frequency:{max_frequency})\")\n",
    "            \n",
    "    \n",
    "    population_type=input(\"\\nPlease enter data type:(P) for Population (S) for Sample:  \").lower()\n",
    "    \n",
    "    #Range\n",
    "    \n",
    "    range= max(args) -min(args)\n",
    "    print(f\"\\nMeasures of Dispersion:\\nRange              :  {range} Max [{max(args)}] - Min [{min(args)}]\")\n",
    "    \n",
    "    #Variance\n",
    "    numerator =0\n",
    "    for nums in args:\n",
    "        numerator+= (nums-mean)**2\n",
    "      \n",
    "           \n",
    "    if population_type==\"p\":\n",
    "        denominator =len(args)\n",
    "        \n",
    "    elif population_type==\"s\":\n",
    "        denominator=len(args) - 1\n",
    "        \n",
    "    else:\n",
    "        print(\"Please enter P or S\")\n",
    "    \n",
    "        \n",
    "    variance =numerator/denominator\n",
    "    \n",
    "    print(f\"Variance           : {variance}\") \n",
    "    \n",
    "    #Standard deviation \n",
    "    \n",
    "    std_deviation = variance**0.5\n",
    "    print(\"Standard Deviation : {:0.2f}\".format(std_deviation)) "
   ]
  },
  {
   "cell_type": "code",
   "execution_count": 3,
   "id": "004e18cd",
   "metadata": {
    "scrolled": true
   },
   "outputs": [
    {
     "name": "stdout",
     "output_type": "stream",
     "text": [
      "Measures of Central Tendency\n",
      "Mean   :  79.5\n",
      "Median :  82.5\n",
      "Mode   :  92 (frequency:1)\n",
      "Mode   :  95 (frequency:1)\n",
      "Mode   :  85 (frequency:1)\n",
      "Mode   :  80 (frequency:1)\n",
      "Mode   :  75 (frequency:1)\n",
      "Mode   :  50 (frequency:1)\n",
      "\n",
      "Please enter data type:(P) for Population (S) for Sample:  P\n",
      "\n",
      "Measures of Dispersion:\n",
      "Range              :  45 Max [95] - Min [50]\n",
      "Variance           : 219.58333333333334\n",
      "Standard Deviation : 14.82\n"
     ]
    }
   ],
   "source": [
    "stats101(92, 95, 85, 80, 75, 50)"
   ]
  },
  {
   "cell_type": "code",
   "execution_count": null,
   "id": "32fcbceb",
   "metadata": {},
   "outputs": [],
   "source": [
    "#For python's statistics module \n",
    "https://docs.python.org/3/library/statistics.html"
   ]
  }
 ],
 "metadata": {
  "kernelspec": {
   "display_name": "Python 3",
   "language": "python",
   "name": "python3"
  },
  "language_info": {
   "codemirror_mode": {
    "name": "ipython",
    "version": 3
   },
   "file_extension": ".py",
   "mimetype": "text/x-python",
   "name": "python",
   "nbconvert_exporter": "python",
   "pygments_lexer": "ipython3",
   "version": "3.8.8"
  }
 },
 "nbformat": 4,
 "nbformat_minor": 5
}

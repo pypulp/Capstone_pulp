{
 "cells": [
  {
   "cell_type": "markdown",
   "id": "b9defda8",
   "metadata": {},
   "source": [
    "## Take in a string/ sentence and return Consonants only"
   ]
  },
  {
   "cell_type": "code",
   "execution_count": 1,
   "id": "8b24ad90",
   "metadata": {},
   "outputs": [],
   "source": [
    "def consonants_only(string):\n",
    "    \n",
    "    vowels = ('a', 'e', 'i', 'o', 'u', 'A', 'E', 'I', 'O', 'U')\n",
    "    \n",
    "    list_string = list(string)\n",
    "    no_vowel   = \"\"\n",
    "    \n",
    "    for letters in list_string:\n",
    "        \n",
    "        if letters not in vowels:\n",
    "            \n",
    "            no_vowel += letters\n",
    "            \n",
    "    return no_vowel"
   ]
  },
  {
   "cell_type": "code",
   "execution_count": 3,
   "id": "cceef03d",
   "metadata": {},
   "outputs": [
    {
     "data": {
      "text/plain": [
       "'Mnty Pythn spm ws fms '"
      ]
     },
     "execution_count": 3,
     "metadata": {},
     "output_type": "execute_result"
    }
   ],
   "source": [
    "consonants_only(\"Monty Python spam was famous \")"
   ]
  },
  {
   "cell_type": "markdown",
   "id": "cd4d359b",
   "metadata": {},
   "source": [
    "## Take in a String and Upper Cases every even letter & Lower cases odd letter \n",
    "\n",
    "P.S -  In \"String\", letter no 1 \"S\" has index position [0] which is even, \n",
    "below function is as per letter position\n"
   ]
  },
  {
   "cell_type": "code",
   "execution_count": 10,
   "id": "d55e4e8d",
   "metadata": {},
   "outputs": [],
   "source": [
    "def upper_lower (st):\n",
    "\n",
    "    uplow = []\n",
    "   \n",
    "    for index in range(len(st)):\n",
    "        if index % 2 == 0:            \n",
    "            uplow.append(st[index].lower())\n",
    "        else:\n",
    "            uplow.append(st[index].upper())\n",
    "    \n",
    "    return ''.join(uplow)"
   ]
  },
  {
   "cell_type": "code",
   "execution_count": 11,
   "id": "6eb43cd3",
   "metadata": {},
   "outputs": [
    {
     "data": {
      "text/plain": [
       "'mEtAlLiCa rOcKs'"
      ]
     },
     "execution_count": 11,
     "metadata": {},
     "output_type": "execute_result"
    }
   ],
   "source": [
    "upper_lower(\"Metallica Rocks\")"
   ]
  },
  {
   "cell_type": "markdown",
   "id": "b67d3454",
   "metadata": {},
   "source": [
    "# Take in a sentence and Capitalize  first letter of every word"
   ]
  },
  {
   "cell_type": "code",
   "execution_count": 14,
   "id": "9fa83a50",
   "metadata": {},
   "outputs": [],
   "source": [
    "def  capital_case(string):\n",
    "    \n",
    "    sentence = string.split(\" \")\n",
    "    new_lst=[]\n",
    "    \n",
    "    for words in sentence:\n",
    "        new_lst.append(words.capitalize())\n",
    "       \n",
    "            \n",
    "    return \" \".join(new_lst)"
   ]
  },
  {
   "cell_type": "code",
   "execution_count": 16,
   "id": "cbd0d023",
   "metadata": {},
   "outputs": [
    {
     "data": {
      "text/plain": [
       "'Metallica Rocks'"
      ]
     },
     "execution_count": 16,
     "metadata": {},
     "output_type": "execute_result"
    }
   ],
   "source": [
    "capital_case(\"mEtAlLiCa rOcK\")"
   ]
  },
  {
   "cell_type": "code",
   "execution_count": null,
   "id": "0a3debe9",
   "metadata": {},
   "outputs": [],
   "source": []
  }
 ],
 "metadata": {
  "kernelspec": {
   "display_name": "Python 3",
   "language": "python",
   "name": "python3"
  },
  "language_info": {
   "codemirror_mode": {
    "name": "ipython",
    "version": 3
   },
   "file_extension": ".py",
   "mimetype": "text/x-python",
   "name": "python",
   "nbconvert_exporter": "python",
   "pygments_lexer": "ipython3",
   "version": "3.8.8"
  }
 },
 "nbformat": 4,
 "nbformat_minor": 5
}

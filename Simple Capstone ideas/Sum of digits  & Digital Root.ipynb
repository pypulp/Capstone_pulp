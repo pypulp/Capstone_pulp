{
 "cells": [
  {
   "cell_type": "markdown",
   "id": "c00a7ee2",
   "metadata": {},
   "source": [
    "## To return the sum of digits of a number"
   ]
  },
  {
   "cell_type": "code",
   "execution_count": 1,
   "id": "a2ea44f1",
   "metadata": {},
   "outputs": [],
   "source": [
    "def sum_of_digits(n):\n",
    "\n",
    "    sum = 0\n",
    "\n",
    "    for digit in str(n): \n",
    "\n",
    "      sum += int(digit)      \n",
    "\n",
    "    return sum"
   ]
  },
  {
   "cell_type": "code",
   "execution_count": 2,
   "id": "d8bd0227",
   "metadata": {
    "scrolled": false
   },
   "outputs": [
    {
     "data": {
      "text/plain": [
       "22"
      ]
     },
     "execution_count": 2,
     "metadata": {},
     "output_type": "execute_result"
    }
   ],
   "source": [
    "sum_of_digits(1984)"
   ]
  },
  {
   "cell_type": "markdown",
   "id": "3c5f2886",
   "metadata": {},
   "source": [
    "## Alt soln - mathematical approach"
   ]
  },
  {
   "cell_type": "code",
   "execution_count": 3,
   "id": "3e437198",
   "metadata": {},
   "outputs": [],
   "source": [
    "def sum_dig(n):\n",
    "    total=0\n",
    "    while(n>0):\n",
    "        digit = n %10\n",
    "        total =total+digit\n",
    "        n=n//10\n",
    "        \n",
    "    return total"
   ]
  },
  {
   "cell_type": "code",
   "execution_count": 4,
   "id": "3a40d556",
   "metadata": {},
   "outputs": [
    {
     "data": {
      "text/plain": [
       "22"
      ]
     },
     "execution_count": 4,
     "metadata": {},
     "output_type": "execute_result"
    }
   ],
   "source": [
    "sum_dig(1984)"
   ]
  },
  {
   "cell_type": "markdown",
   "id": "1f6e8521",
   "metadata": {},
   "source": [
    "## Recursive sum of digits (or ) Digital Root"
   ]
  },
  {
   "cell_type": "raw",
   "id": "ba49cb4b",
   "metadata": {},
   "source": [
    " n =1984---> 1+9+8+4 =22 -->2+2 =4"
   ]
  },
  {
   "cell_type": "code",
   "execution_count": 5,
   "id": "be69bc86",
   "metadata": {},
   "outputs": [],
   "source": [
    "def digital_root(n):\n",
    "    while n >= 10:\n",
    "        x=0\n",
    "        for i in str(n):\n",
    "            x += (int(i))\n",
    "            n=x        \n",
    "    return n"
   ]
  },
  {
   "cell_type": "code",
   "execution_count": 6,
   "id": "16019b74",
   "metadata": {},
   "outputs": [
    {
     "data": {
      "text/plain": [
       "4"
      ]
     },
     "execution_count": 6,
     "metadata": {},
     "output_type": "execute_result"
    }
   ],
   "source": [
    "digital_root(1984)"
   ]
  }
 ],
 "metadata": {
  "kernelspec": {
   "display_name": "Python 3",
   "language": "python",
   "name": "python3"
  },
  "language_info": {
   "codemirror_mode": {
    "name": "ipython",
    "version": 3
   },
   "file_extension": ".py",
   "mimetype": "text/x-python",
   "name": "python",
   "nbconvert_exporter": "python",
   "pygments_lexer": "ipython3",
   "version": "3.8.8"
  }
 },
 "nbformat": 4,
 "nbformat_minor": 5
}
